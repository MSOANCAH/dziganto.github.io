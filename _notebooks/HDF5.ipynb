{
 "cells": [
  {
   "cell_type": "markdown",
   "metadata": {
    "toc": "true"
   },
   "source": [
    "# Table of Contents\n",
    " <p><div class=\"lev1 toc-item\"><a href=\"#Imports\" data-toc-modified-id=\"Imports-1\"><span class=\"toc-item-num\">1&nbsp;&nbsp;</span>Imports</a></div><div class=\"lev1 toc-item\"><a href=\"#Computer-Specs\" data-toc-modified-id=\"Computer-Specs-2\"><span class=\"toc-item-num\">2&nbsp;&nbsp;</span>Computer Specs</a></div><div class=\"lev1 toc-item\"><a href=\"#Get-Data\" data-toc-modified-id=\"Get-Data-3\"><span class=\"toc-item-num\">3&nbsp;&nbsp;</span>Get Data</a></div><div class=\"lev1 toc-item\"><a href=\"#DF-to-HDF5-Conversion\" data-toc-modified-id=\"DF-to-HDF5-Conversion-4\"><span class=\"toc-item-num\">4&nbsp;&nbsp;</span>DF to HDF5 Conversion</a></div><div class=\"lev1 toc-item\"><a href=\"#File-Sizes\" data-toc-modified-id=\"File-Sizes-5\"><span class=\"toc-item-num\">5&nbsp;&nbsp;</span>File Sizes</a></div><div class=\"lev2 toc-item\"><a href=\"#Original\" data-toc-modified-id=\"Original-51\"><span class=\"toc-item-num\">5.1&nbsp;&nbsp;</span>Original</a></div><div class=\"lev2 toc-item\"><a href=\"#Compressed\" data-toc-modified-id=\"Compressed-52\"><span class=\"toc-item-num\">5.2&nbsp;&nbsp;</span>Compressed</a></div><div class=\"lev2 toc-item\"><a href=\"#Barplots\" data-toc-modified-id=\"Barplots-53\"><span class=\"toc-item-num\">5.3&nbsp;&nbsp;</span>Barplots</a></div><div class=\"lev1 toc-item\"><a href=\"#spy()\" data-toc-modified-id=\"spy()-6\"><span class=\"toc-item-num\">6&nbsp;&nbsp;</span>spy()</a></div><div class=\"lev1 toc-item\"><a href=\"#In-Memory-Compression\" data-toc-modified-id=\"In-Memory-Compression-7\"><span class=\"toc-item-num\">7&nbsp;&nbsp;</span>In-Memory Compression</a></div><div class=\"lev1 toc-item\"><a href=\"#Machine-Learning\" data-toc-modified-id=\"Machine-Learning-8\"><span class=\"toc-item-num\">8&nbsp;&nbsp;</span>Machine Learning</a></div>"
   ]
  },
  {
   "cell_type": "markdown",
   "metadata": {},
   "source": [
    "# Imports"
   ]
  },
  {
   "cell_type": "code",
   "execution_count": 1,
   "metadata": {
    "collapsed": true
   },
   "outputs": [],
   "source": [
    "%matplotlib inline\n",
    "import pandas as pd\n",
    "import numpy as np\n",
    "import h5py\n",
    "import cpuinfo"
   ]
  },
  {
   "cell_type": "markdown",
   "metadata": {},
   "source": [
    "# Computer Specs"
   ]
  },
  {
   "cell_type": "code",
   "execution_count": 2,
   "metadata": {
    "collapsed": false
   },
   "outputs": [
    {
     "data": {
      "text/plain": [
       "{'arch': 'X86_64',\n",
       " 'bits': 64,\n",
       " 'brand': 'Intel(R) Core(TM) i7-5557U CPU @ 3.10GHz',\n",
       " 'l2_cache_size': '256',\n",
       " 'vendor_id': 'GenuineIntel'}"
      ]
     },
     "execution_count": 2,
     "metadata": {},
     "output_type": "execute_result"
    }
   ],
   "source": [
    "info = cpuinfo.get_cpu_info()\n",
    "entries = ('flags', 'count', 'cpuinfo_version', 'family', 'hz_actual', 'hz_actual_raw', 'hz_advertised', \n",
    "          'hz_advertised_raw', 'model', 'raw_arch_string', 'stepping')\n",
    "for key in entries:\n",
    "        if key in info:\n",
    "            del info[key]\n",
    "info"
   ]
  },
  {
   "cell_type": "code",
   "execution_count": 3,
   "metadata": {
    "collapsed": false
   },
   "outputs": [
    {
     "name": "stdout",
     "output_type": "stream",
     "text": [
      "Python 3.5.2 :: Anaconda custom (x86_64)\r\n"
     ]
    }
   ],
   "source": [
    "!python --version"
   ]
  },
  {
   "cell_type": "markdown",
   "metadata": {},
   "source": [
    "# Get Data"
   ]
  },
  {
   "cell_type": "markdown",
   "metadata": {},
   "source": [
    "The zip file from UCI includes two files, one train and one test. Pandas has zip/unzip functionality but cannot handle zip files with greater than one data object, like in this case. Instead I had to preprocess the data to prep it for pandas. Here is my code."
   ]
  },
  {
   "cell_type": "code",
   "execution_count": 4,
   "metadata": {
    "collapsed": true
   },
   "outputs": [],
   "source": [
    "# get zip data from UCI\n",
    "import requests, zipfile, StringIO\n",
    "r = requests.get(\"https://archive.ics.uci.edu/ml/machine-learning-databases/00367/dota2Dataset.zip\")\n",
    "z = zipfile.ZipFile(StringIO.StringIO(r.content))"
   ]
  },
  {
   "cell_type": "markdown",
   "metadata": {},
   "source": [
    "Now we can read the datasets into pandas like so:"
   ]
  },
  {
   "cell_type": "code",
   "execution_count": 5,
   "metadata": {
    "collapsed": false
   },
   "outputs": [],
   "source": [
    "# get train data\n",
    "X_train = pd.read_csv(z.open('dota2Train.csv'), header=None)\n",
    "# get test data\n",
    "X_test = pd.read_csv(z.open('dota2Test.csv'), header=None)"
   ]
  },
  {
   "cell_type": "code",
   "execution_count": 6,
   "metadata": {
    "collapsed": false
   },
   "outputs": [
    {
     "name": "stdout",
     "output_type": "stream",
     "text": [
      "train (92650, 117)\n",
      "test  (10294, 117)\n"
     ]
    }
   ],
   "source": [
    "# Check df shapes\n",
    "print \"train\", X_train.shape \n",
    "print \"test \", X_test.shape"
   ]
  },
  {
   "cell_type": "code",
   "execution_count": 7,
   "metadata": {
    "collapsed": false
   },
   "outputs": [
    {
     "name": "stdout",
     "output_type": "stream",
     "text": [
      "<class 'pandas.core.frame.DataFrame'>\n",
      "RangeIndex: 92650 entries, 0 to 92649\n",
      "Columns: 117 entries, 0 to 116\n",
      "dtypes: int64(117)\n",
      "memory usage: 82.7 MB\n",
      "None\n",
      "\n",
      "<class 'pandas.core.frame.DataFrame'>\n",
      "RangeIndex: 10294 entries, 0 to 10293\n",
      "Columns: 117 entries, 0 to 116\n",
      "dtypes: int64(117)\n",
      "memory usage: 9.2 MB\n",
      "None\n"
     ]
    }
   ],
   "source": [
    "# get in-memory object size\n",
    "print X_train.info()\n",
    "print \"\"\n",
    "print X_test.info()"
   ]
  },
  {
   "cell_type": "markdown",
   "metadata": {},
   "source": [
    "I will show below that the original training data CSV is about 22.4 MB. However, note that in-memory usage is significantly higher. In this case we went from 22.4 MB on-disk to 82.7 MB in-memory. Remember that when you are dealing with large files as you may not have enough RAM to hold large data in-memory."
   ]
  },
  {
   "cell_type": "markdown",
   "metadata": {},
   "source": [
    "# DF to HDF5 Conversion"
   ]
  },
  {
   "cell_type": "markdown",
   "metadata": {},
   "source": [
    "Let's convert these dataframes into HDF5 using three compressors set to max compression."
   ]
  },
  {
   "cell_type": "code",
   "execution_count": 8,
   "metadata": {
    "collapsed": false
   },
   "outputs": [],
   "source": [
    "# create H5 files for each compressor on max compression\n",
    "compressors = ['blosc', 'bzip2', 'zlib']\n",
    "for compressor in compressors:\n",
    "    X_train.to_hdf('/Users/davidziganto/Desktop/data/dota2Dataset/dota2Train_' + str(compressor) + '.h5', \n",
    "                   'table', mode='w', append=True, complevel=9, complib=compressor, fletcher32=True)\n",
    "    X_test.to_hdf('/Users/davidziganto/Desktop/data/dota2Dataset/dota2Test_' + str(compressor) + '.h5', \n",
    "                   'table', mode='w', append=True, complevel=9, complib=compressor, fletcher32=True)"
   ]
  },
  {
   "cell_type": "code",
   "execution_count": 9,
   "metadata": {
    "collapsed": false
   },
   "outputs": [],
   "source": [
    "# remove dataframes to show we can read them back in effortlessly\n",
    "del X_train, X_test"
   ]
  },
  {
   "cell_type": "code",
   "execution_count": 10,
   "metadata": {
    "collapsed": false
   },
   "outputs": [],
   "source": [
    "# read in dataframes from compressed HDF5 files\n",
    "X_train = pd.read_hdf('/Users/davidziganto/Desktop/data/dota2Dataset/dota2Train_zlib.h5', 'table')\n",
    "X_test = pd.read_hdf('/Users/davidziganto/Desktop/data/dota2Dataset/dota2Test_zlib.h5', 'table')"
   ]
  },
  {
   "cell_type": "code",
   "execution_count": 11,
   "metadata": {
    "collapsed": false,
    "scrolled": true
   },
   "outputs": [
    {
     "name": "stdout",
     "output_type": "stream",
     "text": [
      "<class 'pandas.core.frame.DataFrame'>\n",
      "Int64Index: 92650 entries, 0 to 92649\n",
      "Columns: 117 entries, 0 to 116\n",
      "dtypes: int64(117)\n",
      "memory usage: 83.4 MB\n",
      "None\n",
      "\n",
      "<class 'pandas.core.frame.DataFrame'>\n",
      "Int64Index: 10294 entries, 0 to 10293\n",
      "Columns: 117 entries, 0 to 116\n",
      "dtypes: int64(117)\n",
      "memory usage: 9.3 MB\n",
      "None\n"
     ]
    }
   ],
   "source": [
    "# get in-memory object size after being read in\n",
    "print X_train.info()\n",
    "print \"\"\n",
    "print X_test.info()"
   ]
  },
  {
   "cell_type": "markdown",
   "metadata": {},
   "source": [
    "I will show in the next section just how much we were able to compress the data on-disk, but it is important to note that the data gets decompressed when read back into memory. In fact, the memory usage is ever so slightly higher than when we read in the raw file from UCI. So while we can leverage on-disk compression, this method does not compress the data in-memory. Remember that."
   ]
  },
  {
   "cell_type": "markdown",
   "metadata": {},
   "source": [
    "# File Sizes"
   ]
  },
  {
   "cell_type": "markdown",
   "metadata": {},
   "source": [
    "## Original"
   ]
  },
  {
   "cell_type": "code",
   "execution_count": 12,
   "metadata": {
    "collapsed": false
   },
   "outputs": [],
   "source": [
    "# get original file size (in MB)\n",
    "import os\n",
    "original_size = []\n",
    "datasets = ['Train', 'Test']\n",
    "for dataset in datasets:\n",
    "    original_size.append( round(os.path.getsize(\"/Users/davidziganto/Desktop/data/dota2Dataset/dota2\" + str(dataset) + \".csv\")/1e6, 2) )\n",
    "original_data_size = zip(datasets, original_size)"
   ]
  },
  {
   "cell_type": "code",
   "execution_count": 13,
   "metadata": {
    "collapsed": false
   },
   "outputs": [
    {
     "data": {
      "text/plain": [
       "[('Train', 22.37), ('Test', 2.49)]"
      ]
     },
     "execution_count": 13,
     "metadata": {},
     "output_type": "execute_result"
    }
   ],
   "source": [
    "original_data_size"
   ]
  },
  {
   "cell_type": "markdown",
   "metadata": {},
   "source": [
    "## Compressed"
   ]
  },
  {
   "cell_type": "code",
   "execution_count": 14,
   "metadata": {
    "collapsed": false
   },
   "outputs": [],
   "source": [
    "# get compressed file sizes (in MB)\n",
    "compressed_size = []\n",
    "for compressor in compressors:\n",
    "    for dataset in datasets:\n",
    "        compressed_size.append( round(os.path.getsize(\"/Users/davidziganto/Desktop/data/dota2Dataset/dota2\" \n",
    "                                                      + dataset + \"_\" + str(compressor) + \".h5\")/1e6, 2) )\n",
    "compressed_data_size = zip(sorted(['blosc', 'bzip2', 'zlib']*2), ['train', 'test']*3, compressed_size)"
   ]
  },
  {
   "cell_type": "code",
   "execution_count": 15,
   "metadata": {
    "collapsed": false
   },
   "outputs": [
    {
     "data": {
      "text/plain": [
       "[('blosc', 'train', 8.11),\n",
       " ('blosc', 'test', 0.64),\n",
       " ('bzip2', 'train', 2.57),\n",
       " ('bzip2', 'test', 0.34),\n",
       " ('zlib', 'train', 2.6),\n",
       " ('zlib', 'test', 0.32)]"
      ]
     },
     "execution_count": 15,
     "metadata": {},
     "output_type": "execute_result"
    }
   ],
   "source": [
    "compressed_data_size"
   ]
  },
  {
   "cell_type": "markdown",
   "metadata": {},
   "source": [
    "## Barplots"
   ]
  },
  {
   "cell_type": "code",
   "execution_count": 16,
   "metadata": {
    "collapsed": true
   },
   "outputs": [],
   "source": [
    "import matplotlib.pyplot as plt\n",
    "import seaborn as sns"
   ]
  },
  {
   "cell_type": "code",
   "execution_count": 17,
   "metadata": {
    "collapsed": false
   },
   "outputs": [],
   "source": [
    "# get sizes of compressed objects\n",
    "train_compressed_size = [compressed_data_size[i][2] for i in range(0,len(compressed_data_size),2)]\n",
    "test_compressed_size = [compressed_data_size[i][2] for i in range(1,len(compressed_data_size),2)]\n",
    "# append original size values\n",
    "train_compressed_size.append(original_data_size[0][1])  ## append original train data size\n",
    "test_compressed_size.append(original_data_size[1][1])  ## append original test size\n",
    "# reorder list\n",
    "myorder=[3,0,1,2]\n",
    "train_compressed_size = [ train_compressed_size[i] for i in myorder]\n",
    "test_compressed_size = [ test_compressed_size[i] for i in myorder]"
   ]
  },
  {
   "cell_type": "code",
   "execution_count": 18,
   "metadata": {
    "collapsed": false
   },
   "outputs": [
    {
     "data": {
      "image/png": "[encoded data removed]",
      "text/plain": [
       "<matplotlib.figure.Figure at 0x10f1d0a50>"
      ]
     },
     "metadata": {},
     "output_type": "display_data"
    }
   ],
   "source": [
    "sns.barplot(['Original', 'blosc', 'bzip2', 'zlib'], train_compressed_size)\n",
    "plt.ylabel('MB')\n",
    "plt.title('HDF5 On-Disk Compression: Training Set');\n",
    "#plt.savefig('/Users/davidziganto/Desktop/hdf5_train_compression.png')"
   ]
  },
  {
   "cell_type": "code",
   "execution_count": 19,
   "metadata": {
    "collapsed": false
   },
   "outputs": [
    {
     "data": {
      "image/png": "[encoded data removed]",
      "text/plain": [
       "<matplotlib.figure.Figure at 0x112768c90>"
      ]
     },
     "metadata": {},
     "output_type": "display_data"
    }
   ],
   "source": [
    "sns.barplot(['Original', 'blosc', 'bzip2', 'zlib'], test_compressed_size)\n",
    "plt.ylabel('MB')\n",
    "plt.title('HDF5 On-Disk Compression: Test Set');\n",
    "#plt.savefig('/Users/davidziganto/Desktop/hdf5_test_compression.png')"
   ]
  },
  {
   "cell_type": "code",
   "execution_count": 20,
   "metadata": {
    "collapsed": false
   },
   "outputs": [
    {
     "data": {
      "text/plain": [
       "array([ 1.        ,  0.36253911,  0.11488601,  0.11622709])"
      ]
     },
     "execution_count": 20,
     "metadata": {},
     "output_type": "execute_result"
    }
   ],
   "source": [
    "# calc object size as proportion of original train object size\n",
    "np.array(train_compressed_size)/train_compressed_size[0]"
   ]
  },
  {
   "cell_type": "code",
   "execution_count": 21,
   "metadata": {
    "collapsed": false
   },
   "outputs": [
    {
     "data": {
      "text/plain": [
       "array([ 1.        ,  0.25702811,  0.13654618,  0.12851406])"
      ]
     },
     "execution_count": 21,
     "metadata": {},
     "output_type": "execute_result"
    }
   ],
   "source": [
    "# calc object size as proportion of original test object size\n",
    "np.array(test_compressed_size)/test_compressed_size[0]"
   ]
  },
  {
   "cell_type": "markdown",
   "metadata": {},
   "source": [
    "You will notice that bzip2 and zlib compress the data to roughly the same extent. Blosc, on the other hand, does result in significant compression but not to the same extent as bzip2 or zlib. Why is that? Turns out there exists this tradeoff between total compression and read/write times. Zlib and bzip2 are great if your main concern is on-disk storage. If your primary concern is read/write times but you still want to leverage on-disk compression, use blosc. "
   ]
  },
  {
   "cell_type": "markdown",
   "metadata": {},
   "source": [
    "# spy()"
   ]
  },
  {
   "cell_type": "markdown",
   "metadata": {},
   "source": [
    "Use spy() to get a sense of the data's sparsity. Since the data is long and skinny, I transpose it so we can get a better view in the notebook. Also, I am only capturing the first 1000 rows. Why? Because the dimensions of the dataset are highly skewed which causes the image to get compressed. In other words, the visualization gets crunched so bad that we cannot discern anything useful."
   ]
  },
  {
   "cell_type": "code",
   "execution_count": 22,
   "metadata": {
    "collapsed": false
   },
   "outputs": [
    {
     "data": {
      "image/png": "[encoded data removed]",
      "text/plain": [
       "<matplotlib.figure.Figure at 0x1127a2250>"
      ]
     },
     "metadata": {},
     "output_type": "display_data"
    }
   ],
   "source": [
    "fig = plt.figure(figsize=(15,8))\n",
    "plt.spy(X_train.transpose().ix[:, :1000]);\n",
    "#plt.savefig('/Users/davidziganto/Desktop/dota2_spy.png')"
   ]
  },
  {
   "cell_type": "markdown",
   "metadata": {},
   "source": [
    "You can see the data is very sparse in all but the first three features."
   ]
  },
  {
   "cell_type": "markdown",
   "metadata": {},
   "source": [
    "# In-Memory Compression"
   ]
  },
  {
   "cell_type": "code",
   "execution_count": 23,
   "metadata": {
    "collapsed": false
   },
   "outputs": [
    {
     "data": {
      "text/plain": [
       "(92650, 117)"
      ]
     },
     "execution_count": 23,
     "metadata": {},
     "output_type": "execute_result"
    }
   ],
   "source": [
    "X_train.shape"
   ]
  },
  {
   "cell_type": "code",
   "execution_count": 24,
   "metadata": {
    "collapsed": false
   },
   "outputs": [],
   "source": [
    "# Preprocessing: separate target var from dataset\n",
    "y_train = X_train.pop(0)\n",
    "y_test = X_test.pop(0)"
   ]
  },
  {
   "cell_type": "markdown",
   "metadata": {},
   "source": [
    "Let's use CSR to compress this dataset in-memory and compare data footprints."
   ]
  },
  {
   "cell_type": "code",
   "execution_count": 25,
   "metadata": {
    "collapsed": true
   },
   "outputs": [],
   "source": [
    "from scipy.sparse import csr_matrix\n",
    "X_train_sparse = csr_matrix(X_train)\n",
    "X_test_sparse = csr_matrix(X_train)"
   ]
  },
  {
   "cell_type": "code",
   "execution_count": 26,
   "metadata": {
    "collapsed": false
   },
   "outputs": [
    {
     "name": "stdout",
     "output_type": "stream",
     "text": [
      " dense: 85.98 MB\n",
      "sparse: 14.82 MB\n",
      "\n",
      "Compression: 82.8% \n"
     ]
    }
   ],
   "source": [
    "dense_size = np.array(X_train).nbytes/1e6\n",
    "sparse_size = (X_train_sparse.data.nbytes + X_train_sparse.indptr.nbytes + X_train_sparse.indices.nbytes)/1e6\n",
    "print \" dense:\", round(dense_size, 2), \"MB\" \n",
    "print \"sparse:\", round(sparse_size, 2), \"MB\"\n",
    "print \"\"\n",
    "print \"Compression: %.1f%% \" % round((1 - sparse_size/dense_size) * 100, 1)"
   ]
  },
  {
   "cell_type": "code",
   "execution_count": 27,
   "metadata": {
    "collapsed": false
   },
   "outputs": [
    {
     "data": {
      "image/png": "[encoded data removed]",
      "text/plain": [
       "<matplotlib.figure.Figure at 0x112768690>"
      ]
     },
     "metadata": {},
     "output_type": "display_data"
    }
   ],
   "source": [
    "sns.barplot(['DENSE', 'SPARSE'], [dense_size, sparse_size])\n",
    "plt.ylabel('MB')\n",
    "plt.title('In-Memory Compression');\n",
    "#plt.savefig('/Users/davidziganto/Desktop/dota2_in_memory_compression.png')"
   ]
  },
  {
   "cell_type": "markdown",
   "metadata": {},
   "source": [
    "On this real dataset we were able to compress the data both on-disk and in-memory."
   ]
  },
  {
   "cell_type": "markdown",
   "metadata": {},
   "source": [
    "# Machine Learning"
   ]
  },
  {
   "cell_type": "code",
   "execution_count": 28,
   "metadata": {
    "collapsed": true
   },
   "outputs": [],
   "source": [
    "from sklearn.naive_bayes import BernoulliNB\n",
    "nb = BernoulliNB(alpha=1.0, binarize=None, fit_prior=True, class_prior=None)"
   ]
  },
  {
   "cell_type": "code",
   "execution_count": 29,
   "metadata": {
    "collapsed": false
   },
   "outputs": [
    {
     "name": "stdout",
     "output_type": "stream",
     "text": [
      "10 loops, best of 3: 101 ms per loop\n"
     ]
    }
   ],
   "source": [
    "%timeit nb.fit(X_train, y_train)"
   ]
  },
  {
   "cell_type": "code",
   "execution_count": 30,
   "metadata": {
    "collapsed": false
   },
   "outputs": [
    {
     "name": "stdout",
     "output_type": "stream",
     "text": [
      "10 loops, best of 3: 22.5 ms per loop\n"
     ]
    }
   ],
   "source": [
    "%timeit nb.fit(X_train_sparse, y_train)"
   ]
  },
  {
   "cell_type": "code",
   "execution_count": 31,
   "metadata": {
    "collapsed": true
   },
   "outputs": [],
   "source": [
    "from sklearn.linear_model import PassiveAggressiveClassifier\n",
    "pac = PassiveAggressiveClassifier(C=1.0, fit_intercept=True, n_iter=5, \n",
    "                                  shuffle=True, verbose=0, loss='hinge', \n",
    "                                  n_jobs=-11, random_state=12, warm_start=False, \n",
    "                                  class_weight=None)"
   ]
  },
  {
   "cell_type": "code",
   "execution_count": 32,
   "metadata": {
    "collapsed": false
   },
   "outputs": [
    {
     "name": "stdout",
     "output_type": "stream",
     "text": [
      "1 loop, best of 3: 327 ms per loop\n"
     ]
    }
   ],
   "source": [
    "%timeit pac.fit(X_train, y_train)"
   ]
  },
  {
   "cell_type": "code",
   "execution_count": 33,
   "metadata": {
    "collapsed": false
   },
   "outputs": [
    {
     "name": "stdout",
     "output_type": "stream",
     "text": [
      "10 loops, best of 3: 153 ms per loop\n"
     ]
    }
   ],
   "source": [
    "%timeit pac.fit(X_train_sparse, y_train)"
   ]
  },
  {
   "cell_type": "code",
   "execution_count": 34,
   "metadata": {
    "collapsed": false
   },
   "outputs": [],
   "source": [
    "from sklearn.linear_model import Perceptron\n",
    "percept = Perceptron(penalty='l2', alpha=0.001, fit_intercept=True, \n",
    "                     n_iter=20, shuffle=True, verbose=0, eta0=1.0, n_jobs=-1, \n",
    "                     random_state=37, class_weight=None, warm_start=False)"
   ]
  },
  {
   "cell_type": "code",
   "execution_count": 35,
   "metadata": {
    "collapsed": false
   },
   "outputs": [
    {
     "name": "stdout",
     "output_type": "stream",
     "text": [
      "1 loop, best of 3: 997 ms per loop\n"
     ]
    }
   ],
   "source": [
    "%timeit percept.fit(X_train, y_train)"
   ]
  },
  {
   "cell_type": "code",
   "execution_count": 36,
   "metadata": {
    "collapsed": false
   },
   "outputs": [
    {
     "name": "stdout",
     "output_type": "stream",
     "text": [
      "1 loop, best of 3: 464 ms per loop\n"
     ]
    }
   ],
   "source": [
    "%timeit percept.fit(X_train_sparse, y_train)"
   ]
  },
  {
   "cell_type": "markdown",
   "metadata": {},
   "source": [
    "Algorithm | Dense Time | Sparse Time\n",
    "------------ | -------------\n",
    "BernoulliNB | 101 ms | 22.5 ms\n",
    "PAC | 327 ms | 153 ms\n",
    "Perceptron | 997 ms | 464 ms"
   ]
  },
  {
   "cell_type": "code",
   "execution_count": 57,
   "metadata": {
    "collapsed": false
   },
   "outputs": [],
   "source": [
    "ml = {'algo': [\"BernoulliNB\", \"BernoulliNB\", \"PAC\", \"PAC\", \"Perceptron\", \"Perceptron\"],\n",
    "     'matrix type': ['dense', 'sparse', 'dense', 'sparse', 'dense', 'sparse'],\n",
    "     'value': [101, 22.5, 327, 153, 997, 464]}\n",
    "df = pd.DataFrame(ml)"
   ]
  },
  {
   "cell_type": "code",
   "execution_count": 63,
   "metadata": {
    "collapsed": false
   },
   "outputs": [
    {
     "data": {
      "image/png": "[encoded data removed]",
      "text/plain": [
       "<matplotlib.figure.Figure at 0x1286c5750>"
      ]
     },
     "metadata": {},
     "output_type": "display_data"
    }
   ],
   "source": [
    "sns.barplot(x=\"algo\", y='value', hue='matrix type', data=df)\n",
    "plt.ylabel('ms')\n",
    "plt.title('Computation Time - Dense vs Sparse');\n",
    "#plt.savefig('/Users/davidziganto/Desktop/dota2_algo_timing.png')"
   ]
  },
  {
   "cell_type": "markdown",
   "metadata": {},
   "source": [
    "In case you needed reminding that sparse matrices can speed up machine learning algorithms, see the table above. Quite a stark contrast. Again, this is a real dataset that was pulled from the UCI Machine Learning Repo. This isn't some contrived example. Test it for yourself."
   ]
  }
 ],
 "metadata": {
  "anaconda-cloud": {},
  "kernelspec": {
   "display_name": "Python [conda env:python2]",
   "language": "python",
   "name": "conda-env-python2-py"
  },
  "language_info": {
   "codemirror_mode": {
    "name": "ipython",
    "version": 2
   },
   "file_extension": ".py",
   "mimetype": "text/x-python",
   "name": "python",
   "nbconvert_exporter": "python",
   "pygments_lexer": "ipython2",
   "version": "2.7.13"
  },
  "latex_envs": {
   "LaTeX_envs_menu_present": true,
   "autocomplete": true,
   "bibliofile": "biblio.bib",
   "cite_by": "apalike",
   "current_citInitial": 1,
   "eqLabelWithNumbers": true,
   "eqNumInitial": 1,
   "hotkeys": {
    "equation": "Ctrl-E",
    "itemize": "Ctrl-I"
   },
   "labels_anchors": false,
   "latex_user_defs": false,
   "report_style_numbering": false,
   "user_envs_cfg": false
  },
  "toc": {
   "colors": {
    "hover_highlight": "#DAA520",
    "running_highlight": "#FF0000",
    "selected_highlight": "#FFD700"
   },
   "moveMenuLeft": true,
   "nav_menu": {
    "height": "30px",
    "width": "252px"
   },
   "navigate_menu": true,
   "number_sections": true,
   "sideBar": true,
   "threshold": 4,
   "toc_cell": true,
   "toc_section_display": "block",
   "toc_window_display": false,
   "widenNotebook": false
  }
 },
 "nbformat": 4,
 "nbformat_minor": 1
}
