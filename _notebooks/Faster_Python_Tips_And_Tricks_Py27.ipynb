{
 "cells": [
  {
   "cell_type": "markdown",
   "metadata": {},
   "source": [
    "# Setup"
   ]
  },
  {
   "cell_type": "code",
   "execution_count": 1,
   "metadata": {
    "collapsed": true
   },
   "outputs": [],
   "source": [
    "%matplotlib inline\n",
    "import timeit\n",
    "import numpy as np\n",
    "import matplotlib.pyplot as plt\n",
    "import seaborn as sns"
   ]
  },
  {
   "cell_type": "code",
   "execution_count": 2,
   "metadata": {
    "collapsed": false
   },
   "outputs": [
    {
     "name": "stdout",
     "output_type": "stream",
     "text": [
      "NumPy   1.12.1\n",
      "Seaborn 0.7.1\n"
     ]
    }
   ],
   "source": [
    "print(\"NumPy   %s\" % np.__version__)\n",
    "print(\"Seaborn %s\" % sns.__version__)"
   ]
  },
  {
   "cell_type": "code",
   "execution_count": 3,
   "metadata": {
    "collapsed": false
   },
   "outputs": [
    {
     "name": "stdout",
     "output_type": "stream",
     "text": [
      "Python 2.7.13 :: Anaconda custom (x86_64)\r\n"
     ]
    }
   ],
   "source": [
    "!python --version"
   ]
  },
  {
   "cell_type": "code",
   "execution_count": 4,
   "metadata": {
    "collapsed": false
   },
   "outputs": [
    {
     "data": {
      "text/plain": [
       "[0.19082307815551758,\n",
       " 0.17383098602294922,\n",
       " 0.1741929054260254,\n",
       " 0.1701679229736328,\n",
       " 0.1715860366821289,\n",
       " 0.1963939666748047]"
      ]
     },
     "execution_count": 4,
     "metadata": {},
     "output_type": "execute_result"
    }
   ],
   "source": [
    "# Set values to expand lists\n",
    "vals = list(np.geomspace(10, 1000000, num=6, dtype='int'))\n",
    "\n",
    "# timeit example\n",
    "[timeit.timeit('xrange(%d)' % num) for num in vals]"
   ]
  },
  {
   "cell_type": "markdown",
   "metadata": {},
   "source": [
    "---"
   ]
  },
  {
   "cell_type": "markdown",
   "metadata": {},
   "source": [
    "# Plot Functions"
   ]
  },
  {
   "cell_type": "code",
   "execution_count": 5,
   "metadata": {
    "collapsed": true
   },
   "outputs": [],
   "source": [
    "def my_plot1(vals, slow_times, fast_times, title=\"\", ylabel=\"\", xlabel=\"\"):\n",
    "    '''\n",
    "    Function to plot slow vs fast times with legend.\n",
    "    '''\n",
    "    plt.plot(np.log10(vals), slow_times);\n",
    "    plt.plot(np.log10(vals), fast_times);\n",
    "    plt.title(title);\n",
    "    plt.xlabel(xlabel);\n",
    "    plt.ylabel(ylabel);\n",
    "    plt.xticks(range(1,6));\n",
    "    plt.legend(['slow', 'fast'])"
   ]
  },
  {
   "cell_type": "code",
   "execution_count": 6,
   "metadata": {
    "collapsed": true
   },
   "outputs": [],
   "source": [
    "def my_plot2(slow_times, fast_times, title=\"\", ylabel=\"\", xlabel=\"\"):\n",
    "    '''\n",
    "    Function to plot slow vs fast times with legend.\n",
    "    '''\n",
    "    # Setup\n",
    "    fig = plt.figure()\n",
    "    ax = fig.add_subplot(111)\n",
    "    ind = np.arange(6)                \n",
    "    width = 0.35\n",
    "    # Plots\n",
    "    bar1 = ax.bar(ind, slow_times, width, color='darkblue', log=True)\n",
    "    bar2 = ax.bar(ind+width, fast_times, width, color='darkgreen', log=True)\n",
    "    ax.legend( (bar1[0], bar2[0]), ('slow', 'fast') );\n",
    "    plt.title(title)\n",
    "    plt.xlabel(xlabel)\n",
    "    plt.ylabel(ylabel)"
   ]
  },
  {
   "cell_type": "markdown",
   "metadata": {},
   "source": [
    "---"
   ]
  },
  {
   "cell_type": "markdown",
   "metadata": {},
   "source": [
    "# Looping Over A Collection"
   ]
  },
  {
   "cell_type": "code",
   "execution_count": 7,
   "metadata": {
    "collapsed": false
   },
   "outputs": [
    {
     "name": "stdout",
     "output_type": "stream",
     "text": [
      "Bad\n",
      "The slowest run took 4.65 times longer than the fastest. This could mean that an intermediate result is being cached.\n",
      "100000 loops, best of 3: 3.29 µs per loop\n",
      "10000 loops, best of 3: 23.5 µs per loop\n",
      "1000 loops, best of 3: 227 µs per loop\n",
      "100 loops, best of 3: 2.19 ms per loop\n",
      "10 loops, best of 3: 21.4 ms per loop\n",
      "1 loop, best of 3: 231 ms per loop\n",
      "\n",
      "Better\n",
      "The slowest run took 4.08 times longer than the fastest. This could mean that an intermediate result is being cached.\n",
      "100000 loops, best of 3: 2.2 µs per loop\n",
      "The slowest run took 7.42 times longer than the fastest. This could mean that an intermediate result is being cached.\n",
      "100000 loops, best of 3: 15.7 µs per loop\n",
      "10000 loops, best of 3: 119 µs per loop\n",
      "1000 loops, best of 3: 1.34 ms per loop\n",
      "100 loops, best of 3: 13.3 ms per loop\n",
      "10 loops, best of 3: 159 ms per loop\n"
     ]
    }
   ],
   "source": [
    "# Looping over a collection\n",
    "for choice in ['Bad', 'Better']:   \n",
    "    if choice is 'Bad':\n",
    "        print('Bad')\n",
    "        for val in vals:\n",
    "            colors = ['red', 'green', 'blue', 'yellow']*val\n",
    "            %timeit [colors[i] for i in xrange(len(colors))]        \n",
    "    else:\n",
    "        print('\\nBetter')\n",
    "        for val in vals:\n",
    "            colors = ['red', 'green', 'blue', 'yellow']*val\n",
    "            %timeit [color for color in colors]"
   ]
  },
  {
   "cell_type": "code",
   "execution_count": 8,
   "metadata": {
    "collapsed": true
   },
   "outputs": [],
   "source": [
    "def slow_collection():\n",
    "    out = [timeit.timeit(\"[colors[i] for i in range(len(colors))]\",\n",
    "                         \"colors = ('red', 'green', 'blue', 'yellow')*%d\" % val, number=10) for val in vals]\n",
    "    return [i*10e4 for i in out] # for ms\n",
    "def fast_collection():\n",
    "    out = [timeit.timeit(\"[color for color in colors]\",\n",
    "                         \"colors = ('red', 'green', 'blue', 'yellow')*%d\" % val, number=10) for val in vals]\n",
    "    return [i*10e4 for i in out] # for ms"
   ]
  },
  {
   "cell_type": "code",
   "execution_count": 9,
   "metadata": {
    "collapsed": true
   },
   "outputs": [],
   "source": [
    "sc = slow_collection()\n",
    "fc = fast_collection()"
   ]
  },
  {
   "cell_type": "code",
   "execution_count": 10,
   "metadata": {
    "collapsed": false
   },
   "outputs": [
    {
     "data": {
      "image/png": "[encoded data removed]",
      "text/plain": [
       "<matplotlib.figure.Figure at 0x115f4c090>"
      ]
     },
     "metadata": {},
     "output_type": "display_data"
    }
   ],
   "source": [
    "my_plot1(vals, sc, fc, \n",
    "        title=\"Looping Over A Collection\", \n",
    "        xlabel=\"log10(vals)\", \n",
    "        ylabel=\"microseconds\")"
   ]
  },
  {
   "cell_type": "code",
   "execution_count": 11,
   "metadata": {
    "collapsed": false
   },
   "outputs": [
    {
     "data": {
      "image/png": "[encoded data removed]",
      "text/plain": [
       "<matplotlib.figure.Figure at 0x11695fb50>"
      ]
     },
     "metadata": {},
     "output_type": "display_data"
    }
   ],
   "source": [
    "my_plot1(vals, np.log10(sc), np.log10(fc), \n",
    "        title=\"Looping Over A Collection\", \n",
    "        xlabel=\"log10(vals)\", \n",
    "        ylabel=\"log10(microseconds)\")"
   ]
  },
  {
   "cell_type": "code",
   "execution_count": 12,
   "metadata": {
    "collapsed": false
   },
   "outputs": [
    {
     "data": {
      "image/png": "[encoded data removed]",
      "text/plain": [
       "<matplotlib.figure.Figure at 0x116b01610>"
      ]
     },
     "metadata": {},
     "output_type": "display_data"
    }
   ],
   "source": [
    "my_plot2(sc, fc, title=\"Looping Over A Collection\", \n",
    "         xlabel='log(vals)', \n",
    "         ylabel=\"log(microseconds)\")"
   ]
  },
  {
   "cell_type": "markdown",
   "metadata": {},
   "source": [
    "---"
   ]
  },
  {
   "cell_type": "markdown",
   "metadata": {},
   "source": [
    "# Sorting Lists"
   ]
  },
  {
   "cell_type": "code",
   "execution_count": 13,
   "metadata": {
    "collapsed": false
   },
   "outputs": [
    {
     "name": "stdout",
     "output_type": "stream",
     "text": [
      "xrange\n",
      "The slowest run took 9.99 times longer than the fastest. This could mean that an intermediate result is being cached.\n",
      "100000 loops, best of 3: 3.19 µs per loop\n",
      "10000 loops, best of 3: 22.2 µs per loop\n",
      "1000 loops, best of 3: 195 µs per loop\n",
      "100 loops, best of 3: 2.07 ms per loop\n",
      "10 loops, best of 3: 21 ms per loop\n",
      "1 loop, best of 3: 210 ms per loop\n",
      "\n",
      "reversed\n",
      "100000 loops, best of 3: 2.37 µs per loop\n",
      "100000 loops, best of 3: 15.3 µs per loop\n",
      "10000 loops, best of 3: 135 µs per loop\n",
      "1000 loops, best of 3: 1.34 ms per loop\n",
      "100 loops, best of 3: 13.3 ms per loop\n",
      "10 loops, best of 3: 145 ms per loop\n"
     ]
    }
   ],
   "source": [
    "# LEGACY CODE\n",
    "\n",
    "# Sorting lists\n",
    "for choice in ['xrange', 'reversed']:   \n",
    "    if choice is 'xrange':\n",
    "        print('xrange')\n",
    "        for val in vals:\n",
    "            colors = ['red', 'green', 'blue', 'yellow']*val\n",
    "            %timeit [colors[i] for i in xrange(len(colors)-1, -1, -1)]     \n",
    "    else:\n",
    "        print('\\nreversed')\n",
    "        for val in vals:\n",
    "            colors = ['red', 'green', 'blue', 'yellow']*val\n",
    "            %timeit [color for color in reversed(colors)]"
   ]
  },
  {
   "cell_type": "code",
   "execution_count": 14,
   "metadata": {
    "collapsed": true
   },
   "outputs": [],
   "source": [
    "def slow_sort():\n",
    "    out = [timeit.timeit(\"[colors[i] for i in range(len(colors)-1, -1, -1)]\",\n",
    "                         \"colors = ('red', 'green', 'blue', 'yellow')*%d\" % val, number=10) for val in vals]\n",
    "    return [i*10e4 for i in out] # for ms\n",
    "def fast_sort():\n",
    "    out = [timeit.timeit(\"[color for color in reversed(colors)]\",\n",
    "                         \"colors = ('red', 'green', 'blue', 'yellow')*%d\" % val, number=10) for val in vals]\n",
    "    return [i*10e4 for i in out] # for ms"
   ]
  },
  {
   "cell_type": "code",
   "execution_count": 15,
   "metadata": {
    "collapsed": true
   },
   "outputs": [],
   "source": [
    "ss = slow_sort()\n",
    "fs = fast_sort()"
   ]
  },
  {
   "cell_type": "code",
   "execution_count": 16,
   "metadata": {
    "collapsed": false
   },
   "outputs": [
    {
     "data": {
      "image/png": "[encoded data removed]",
      "text/plain": [
       "<matplotlib.figure.Figure at 0x116da6310>"
      ]
     },
     "metadata": {},
     "output_type": "display_data"
    }
   ],
   "source": [
    "my_plot2(ss, fs, \n",
    "        title=\"Reversing A List\", \n",
    "        xlabel=\"log10(vals)\", \n",
    "        ylabel=\"log10(microseconds)\")"
   ]
  },
  {
   "cell_type": "markdown",
   "metadata": {},
   "source": [
    "---"
   ]
  },
  {
   "cell_type": "markdown",
   "metadata": {},
   "source": [
    "# Looping Over A Collection & Indices"
   ]
  },
  {
   "cell_type": "code",
   "execution_count": 17,
   "metadata": {
    "collapsed": false,
    "scrolled": true
   },
   "outputs": [
    {
     "name": "stdout",
     "output_type": "stream",
     "text": [
      "xrange\n",
      "The slowest run took 4.21 times longer than the fastest. This could mean that an intermediate result is being cached.\n",
      "100000 loops, best of 3: 4.25 µs per loop\n",
      "10000 loops, best of 3: 33.6 µs per loop\n",
      "1000 loops, best of 3: 339 µs per loop\n",
      "100 loops, best of 3: 4.37 ms per loop\n",
      "10 loops, best of 3: 56.4 ms per loop\n",
      "1 loop, best of 3: 589 ms per loop\n",
      "\n",
      "enumerate\n",
      "100000 loops, best of 3: 4.94 µs per loop\n",
      "10000 loops, best of 3: 46.1 µs per loop\n",
      "1000 loops, best of 3: 441 µs per loop\n",
      "100 loops, best of 3: 4.81 ms per loop\n",
      "10 loops, best of 3: 69.2 ms per loop\n",
      "1 loop, best of 3: 725 ms per loop\n"
     ]
    }
   ],
   "source": [
    "# LEGACY CODE\n",
    "\n",
    "# Looping over a collection and indices\n",
    "for choice in ['xrange', 'enumerate']:   \n",
    "    if choice is 'xrange':\n",
    "        print('xrange')\n",
    "        for val in vals:\n",
    "            colors = ['red', 'green', 'blue', 'yellow']*val\n",
    "            %timeit [(i, colors[i]) for i in xrange(len(colors))]\n",
    "        \n",
    "    else:\n",
    "        print('\\nenumerate')\n",
    "        for val in vals:\n",
    "            colors = ['red', 'green', 'blue', 'yellow']*val\n",
    "            %timeit [(i, colors[i]) for i, color in enumerate(colors)]"
   ]
  },
  {
   "cell_type": "code",
   "execution_count": 18,
   "metadata": {
    "collapsed": true
   },
   "outputs": [],
   "source": [
    "def slow_collection_indices():\n",
    "    out = [timeit.timeit(\"[(i, colors[i]) for i in xrange(len(colors))]\",\n",
    "                         \"colors = ('red', 'green', 'blue', 'yellow')*%d\" % val, number=10) for val in vals]\n",
    "    return [i*10e4 for i in out] # for ms\n",
    "def fast_collection_indices():\n",
    "    out = [timeit.timeit(\"[(i, colors[i]) for i, color in enumerate(colors)]\",\n",
    "                         \"colors = ('red', 'green', 'blue', 'yellow')*%d\" % val, number=10) for val in vals]\n",
    "    return [i*10e4 for i in out] # for ms"
   ]
  },
  {
   "cell_type": "code",
   "execution_count": 19,
   "metadata": {
    "collapsed": true
   },
   "outputs": [],
   "source": [
    "sci = slow_collection_indices()\n",
    "fci = fast_collection_indices()"
   ]
  },
  {
   "cell_type": "code",
   "execution_count": 20,
   "metadata": {
    "collapsed": false
   },
   "outputs": [
    {
     "data": {
      "image/png": "[encoded data removed]",
      "text/plain": [
       "<matplotlib.figure.Figure at 0x11695f9d0>"
      ]
     },
     "metadata": {},
     "output_type": "display_data"
    }
   ],
   "source": [
    "my_plot2(sci, fci, \n",
    "        title=\"Looping Over A Collection & Indices\", \n",
    "        xlabel=\"log10(vals)\", \n",
    "        ylabel=\"log10(microseconds)\")"
   ]
  },
  {
   "cell_type": "markdown",
   "metadata": {},
   "source": [
    "---"
   ]
  },
  {
   "cell_type": "markdown",
   "metadata": {},
   "source": [
    "# Looping Over Two Collections"
   ]
  },
  {
   "cell_type": "code",
   "execution_count": 21,
   "metadata": {
    "collapsed": false
   },
   "outputs": [
    {
     "name": "stdout",
     "output_type": "stream",
     "text": [
      "xrange\n",
      "The slowest run took 8.33 times longer than the fastest. This could mean that an intermediate result is being cached.\n",
      "100000 loops, best of 3: 5.64 µs per loop\n",
      "10000 loops, best of 3: 42.5 µs per loop\n",
      "1000 loops, best of 3: 526 µs per loop\n",
      "100 loops, best of 3: 5.26 ms per loop\n",
      "10 loops, best of 3: 61.6 ms per loop\n",
      "1 loop, best of 3: 650 ms per loop\n",
      "\n",
      "zip\n",
      "100000 loops, best of 3: 5.47 µs per loop\n",
      "10000 loops, best of 3: 45.3 µs per loop\n",
      "1000 loops, best of 3: 479 µs per loop\n",
      "100 loops, best of 3: 6.67 ms per loop\n",
      "10 loops, best of 3: 90.9 ms per loop\n",
      "1 loop, best of 3: 954 ms per loop\n"
     ]
    }
   ],
   "source": [
    "# LEGACY CODE\n",
    "\n",
    "# Loop over two collections\n",
    "for choice in ['xrange', 'zip']:   \n",
    "    if choice is 'xrange':\n",
    "        print('xrange')\n",
    "        for val in vals:\n",
    "            colors = ['red', 'green', 'blue', 'yellow']*val\n",
    "            names = list('abcd')*val\n",
    "            %timeit [(names[i], colors[i]) for i in xrange(min(len(names), len(colors)))]\n",
    "    else:\n",
    "        print('\\nzip')\n",
    "        for val in vals:\n",
    "            colors = ['red', 'green', 'blue', 'yellow']*val\n",
    "            names = list('abcd')*val\n",
    "            %timeit [(name, color) for name, color in zip(names, colors)]"
   ]
  },
  {
   "cell_type": "markdown",
   "metadata": {},
   "source": [
    "---"
   ]
  },
  {
   "cell_type": "markdown",
   "metadata": {},
   "source": [
    "# Appending Strings"
   ]
  },
  {
   "cell_type": "code",
   "execution_count": 22,
   "metadata": {
    "collapsed": false
   },
   "outputs": [
    {
     "name": "stdout",
     "output_type": "stream",
     "text": [
      "+=\n",
      "CPU times: user 50 µs, sys: 0 ns, total: 50 µs\n",
      "Wall time: 52 µs\n",
      "CPU times: user 509 µs, sys: 1 µs, total: 510 µs\n",
      "Wall time: 513 µs\n",
      "CPU times: user 6.44 ms, sys: 179 µs, total: 6.62 ms\n",
      "Wall time: 8.97 ms\n",
      "CPU times: user 60.2 ms, sys: 1.53 ms, total: 61.7 ms\n",
      "Wall time: 64.9 ms\n",
      "CPU times: user 613 ms, sys: 10.6 ms, total: 624 ms\n",
      "Wall time: 651 ms\n",
      "CPU times: user 6.08 s, sys: 98.1 ms, total: 6.18 s\n",
      "Wall time: 6.41 s\n",
      "\n",
      ".join\n",
      "CPU times: user 68 µs, sys: 1.7 ms, total: 1.77 ms\n",
      "Wall time: 1.77 ms\n",
      "CPU times: user 225 µs, sys: 152 µs, total: 377 µs\n",
      "Wall time: 274 µs\n",
      "CPU times: user 2.06 ms, sys: 552 µs, total: 2.61 ms\n",
      "Wall time: 2.3 ms\n",
      "CPU times: user 19.6 ms, sys: 1.47 ms, total: 21.1 ms\n",
      "Wall time: 21.2 ms\n",
      "CPU times: user 193 ms, sys: 17.8 ms, total: 211 ms\n",
      "Wall time: 212 ms\n",
      "CPU times: user 2.19 s, sys: 190 ms, total: 2.38 s\n",
      "Wall time: 2.53 s\n"
     ]
    }
   ],
   "source": [
    "# LEGACY CODE\n",
    "\n",
    "# Appending Strings\n",
    "my_string = \"\"\n",
    "for choice in ['Bad', 'Better']:   \n",
    "    if choice is 'Bad':\n",
    "        print('+=')\n",
    "        for val in vals:\n",
    "            mylist = list('abcdefghijklmnopqrstuvwxyz')*val\n",
    "            %time for item in mylist: my_string += item\n",
    "    else:\n",
    "        print('\\n.join')\n",
    "        for val in vals:\n",
    "            mylist = list('abcdefghijklmnopqrstuvwxyz')*val\n",
    "            %time my_string = \"\".join([item for item in mylist])"
   ]
  },
  {
   "cell_type": "markdown",
   "metadata": {},
   "source": [
    "---"
   ]
  },
  {
   "cell_type": "markdown",
   "metadata": {},
   "source": [
    "# Using Standard Library"
   ]
  },
  {
   "cell_type": "code",
   "execution_count": 23,
   "metadata": {
    "collapsed": false
   },
   "outputs": [
    {
     "name": "stdout",
     "output_type": "stream",
     "text": [
      "listexp\n",
      "10000 loops, best of 3: 62.4 µs per loop\n",
      "1000 loops, best of 3: 635 µs per loop\n",
      "100 loops, best of 3: 6.08 ms per loop\n",
      "10 loops, best of 3: 71.8 ms per loop\n",
      "1 loop, best of 3: 630 ms per loop\n",
      "1 loop, best of 3: 6.01 s per loop\n",
      "\n",
      "map\n",
      "10000 loops, best of 3: 63.2 µs per loop\n",
      "1000 loops, best of 3: 561 µs per loop\n",
      "100 loops, best of 3: 6.01 ms per loop\n",
      "10 loops, best of 3: 59.6 ms per loop\n",
      "1 loop, best of 3: 539 ms per loop\n",
      "1 loop, best of 3: 5.46 s per loop\n"
     ]
    }
   ],
   "source": [
    "# Standard Library\n",
    "\n",
    "for choice in ['listexp', 'map']:   \n",
    "    if choice is 'listexp':\n",
    "        print('listexp')\n",
    "        newlist = []\n",
    "        for val in vals:\n",
    "            %timeit [np.cumsum(item) for item in xrange(val)]\n",
    "    else:\n",
    "        print('\\nmap')\n",
    "        newlist = []\n",
    "        for val in vals:\n",
    "            %timeit newlist = map(np.cumsum, xrange(val))"
   ]
  },
  {
   "cell_type": "markdown",
   "metadata": {},
   "source": [
    "---"
   ]
  },
  {
   "cell_type": "markdown",
   "metadata": {},
   "source": [
    "# Listexp vs Genexp"
   ]
  },
  {
   "cell_type": "code",
   "execution_count": 24,
   "metadata": {
    "collapsed": false
   },
   "outputs": [
    {
     "name": "stdout",
     "output_type": "stream",
     "text": [
      "listexp\n",
      "10000 loops, best of 3: 58.1 µs per loop\n",
      "1000 loops, best of 3: 583 µs per loop\n",
      "100 loops, best of 3: 5.72 ms per loop\n",
      "10 loops, best of 3: 56 ms per loop\n",
      "1 loop, best of 3: 568 ms per loop\n",
      "1 loop, best of 3: 5.64 s per loop\n",
      "\n",
      "genexp\n",
      "The slowest run took 5.03 times longer than the fastest. This could mean that an intermediate result is being cached.\n",
      "1000000 loops, best of 3: 569 ns per loop\n",
      "The slowest run took 5.55 times longer than the fastest. This could mean that an intermediate result is being cached.\n",
      "1000000 loops, best of 3: 558 ns per loop\n",
      "1000000 loops, best of 3: 565 ns per loop\n",
      "1000000 loops, best of 3: 590 ns per loop\n",
      "The slowest run took 5.16 times longer than the fastest. This could mean that an intermediate result is being cached.\n",
      "1000000 loops, best of 3: 601 ns per loop\n",
      "The slowest run took 6.72 times longer than the fastest. This could mean that an intermediate result is being cached.\n",
      "1000000 loops, best of 3: 603 ns per loop\n"
     ]
    }
   ],
   "source": [
    "# listexp vs genexp\n",
    "\n",
    "for choice in ['listexp', 'genexp']:   \n",
    "    if choice is 'listexp':\n",
    "        print('listexp')\n",
    "        for val in vals:\n",
    "            %timeit [np.cumsum(item) for item in xrange(val)] # list expression\n",
    "    else:\n",
    "        print('\\ngenexp')\n",
    "        for val in vals:\n",
    "            %timeit (np.cumsum(item) for item in xrange(val)) # generator expression"
   ]
  },
  {
   "cell_type": "markdown",
   "metadata": {},
   "source": [
    "---"
   ]
  },
  {
   "cell_type": "markdown",
   "metadata": {},
   "source": [
    "# Dots"
   ]
  },
  {
   "cell_type": "code",
   "execution_count": 25,
   "metadata": {
    "collapsed": false
   },
   "outputs": [
    {
     "name": "stdout",
     "output_type": "stream",
     "text": [
      "Bad\n",
      "The slowest run took 10.53 times longer than the fastest. This could mean that an intermediate result is being cached.\n",
      "100000 loops, best of 3: 2.38 µs per loop\n",
      "The slowest run took 5.54 times longer than the fastest. This could mean that an intermediate result is being cached.\n",
      "100000 loops, best of 3: 2.37 µs per loop\n",
      "The slowest run took 5.77 times longer than the fastest. This could mean that an intermediate result is being cached.\n",
      "100000 loops, best of 3: 2.44 µs per loop\n",
      "The slowest run took 8.02 times longer than the fastest. This could mean that an intermediate result is being cached.\n",
      "100000 loops, best of 3: 2.38 µs per loop\n",
      "The slowest run took 8.41 times longer than the fastest. This could mean that an intermediate result is being cached.\n",
      "100000 loops, best of 3: 2.16 µs per loop\n",
      "The slowest run took 4.96 times longer than the fastest. This could mean that an intermediate result is being cached.\n",
      "100000 loops, best of 3: 2.21 µs per loop\n",
      "\n",
      "Better\n",
      "The slowest run took 9.00 times longer than the fastest. This could mean that an intermediate result is being cached.\n",
      "100000 loops, best of 3: 2.33 µs per loop\n",
      "The slowest run took 9.60 times longer than the fastest. This could mean that an intermediate result is being cached.\n",
      "100000 loops, best of 3: 2.29 µs per loop\n",
      "The slowest run took 6.43 times longer than the fastest. This could mean that an intermediate result is being cached.\n",
      "100000 loops, best of 3: 2.19 µs per loop\n",
      "The slowest run took 5.20 times longer than the fastest. This could mean that an intermediate result is being cached.\n",
      "100000 loops, best of 3: 2.29 µs per loop\n",
      "The slowest run took 6.35 times longer than the fastest. This could mean that an intermediate result is being cached.\n",
      "100000 loops, best of 3: 2.18 µs per loop\n",
      "The slowest run took 9.23 times longer than the fastest. This could mean that an intermediate result is being cached.\n",
      "100000 loops, best of 3: 2.48 µs per loop\n"
     ]
    }
   ],
   "source": [
    "# Dots matter (marginally)\n",
    "for choice in ['Bad', 'Better']:   \n",
    "    if choice is 'Bad':\n",
    "        print('Bad')\n",
    "        newlist = []\n",
    "        for val in vals:\n",
    "            %timeit newlist.append(np.cumsum(val))\n",
    "    else:\n",
    "        print('\\nBetter')\n",
    "        newlist = []\n",
    "        cumsum = np.cumsum\n",
    "        append = newlist.append\n",
    "        for val in vals:\n",
    "            %timeit append(cumsum(val))"
   ]
  },
  {
   "cell_type": "markdown",
   "metadata": {},
   "source": [
    "---\n",
    "**Note: Mileage will vary with Python 3. Many performance enhancements were made like converting range to a generator. See Py35 notebook for differences.**\n",
    "\n",
    "---"
   ]
  },
  {
   "cell_type": "markdown",
   "metadata": {},
   "source": [
    "## Links\n",
    "[4 Performance Optimization Tips For Faster Python Code](http://blog.hackerearth.com/4-Performance-Optimization-Tips-Faster-Python-Code)  \n",
    "[PythonSpeed Performance Tips](https://wiki.python.org/moin/PythonSpeed/PerformanceTips)  \n",
    "[6 Python Performance Tips](https://dzone.com/articles/6-python-performance-tips)"
   ]
  }
 ],
 "metadata": {
  "kernelspec": {
   "display_name": "Python 2",
   "language": "python",
   "name": "python2"
  },
  "language_info": {
   "codemirror_mode": {
    "name": "ipython",
    "version": 2
   },
   "file_extension": ".py",
   "mimetype": "text/x-python",
   "name": "python",
   "nbconvert_exporter": "python",
   "pygments_lexer": "ipython2",
   "version": "2.7.13"
  }
 },
 "nbformat": 4,
 "nbformat_minor": 2
}
