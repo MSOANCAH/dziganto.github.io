{
 "cells": [
  {
   "cell_type": "markdown",
   "metadata": {},
   "source": [
    "# Setup"
   ]
  },
  {
   "cell_type": "code",
   "execution_count": 1,
   "metadata": {
    "collapsed": true
   },
   "outputs": [],
   "source": [
    "%matplotlib inline\n",
    "import timeit\n",
    "import numpy as np\n",
    "import matplotlib.pyplot as plt\n",
    "import seaborn as sns"
   ]
  },
  {
   "cell_type": "code",
   "execution_count": 2,
   "metadata": {},
   "outputs": [
    {
     "name": "stdout",
     "output_type": "stream",
     "text": [
      "NumPy   1.12.1\n",
      "Seaborn 0.7.1\n"
     ]
    }
   ],
   "source": [
    "print(\"NumPy   %s\" % np.__version__)\n",
    "print(\"Seaborn %s\" % sns.__version__)"
   ]
  },
  {
   "cell_type": "code",
   "execution_count": 3,
   "metadata": {},
   "outputs": [
    {
     "name": "stdout",
     "output_type": "stream",
     "text": [
      "Python 3.6.1 :: Anaconda custom (x86_64)\r\n"
     ]
    }
   ],
   "source": [
    "!python --version"
   ]
  },
  {
   "cell_type": "code",
   "execution_count": 4,
   "metadata": {},
   "outputs": [
    {
     "data": {
      "text/plain": [
       "[0.3571677740001178,\n",
       " 0.35485517800043453,\n",
       " 0.35974234499917657,\n",
       " 0.30338345100062725,\n",
       " 0.2976740600006451,\n",
       " 0.32395762399937666]"
      ]
     },
     "execution_count": 4,
     "metadata": {},
     "output_type": "execute_result"
    }
   ],
   "source": [
    "# Set values to expand lists\n",
    "vals = list(np.geomspace(10, 1000000, num=6, dtype='int'))\n",
    "\n",
    "# timeit example\n",
    "list((timeit.timeit('range(%d)' % num) for num in vals))"
   ]
  },
  {
   "cell_type": "markdown",
   "metadata": {},
   "source": [
    "---"
   ]
  },
  {
   "cell_type": "markdown",
   "metadata": {},
   "source": [
    "# Plot Functions"
   ]
  },
  {
   "cell_type": "code",
   "execution_count": 5,
   "metadata": {
    "collapsed": true
   },
   "outputs": [],
   "source": [
    "def my_plot1(vals, slow_times, fast_times, title=\"\", ylabel=\"\", xlabel=\"\"):\n",
    "    '''\n",
    "    Function to plot slow vs fast times with legend.\n",
    "    '''\n",
    "    plt.plot(np.log10(vals), slow_times);\n",
    "    plt.plot(np.log10(vals), fast_times);\n",
    "    plt.title(title);\n",
    "    plt.xlabel(xlabel);\n",
    "    plt.ylabel(ylabel);\n",
    "    plt.xticks(range(1,6));\n",
    "    plt.legend(['slow', 'fast'])"
   ]
  },
  {
   "cell_type": "code",
   "execution_count": 6,
   "metadata": {
    "collapsed": true
   },
   "outputs": [],
   "source": [
    "def my_plot2(slow_times, fast_times, title=\"\", ylabel=\"\", xlabel=\"\"):\n",
    "    '''\n",
    "    Function to plot slow vs fast times with legend.\n",
    "    '''\n",
    "    # Setup\n",
    "    fig = plt.figure()\n",
    "    ax = fig.add_subplot(111)\n",
    "    ind = np.arange(6)                \n",
    "    width = 0.35\n",
    "    # Plots\n",
    "    bar1 = ax.bar(ind, sc, width, color='darkblue', log=True)\n",
    "    bar2 = ax.bar(ind+width, fc, width, color='darkgreen', log=True)\n",
    "    ax.legend( (bar1[0], bar2[0]), ('slow', 'fast') );\n",
    "    plt.title(title)\n",
    "    plt.xlabel(xlabel)\n",
    "    plt.ylabel(ylabel)"
   ]
  },
  {
   "cell_type": "markdown",
   "metadata": {},
   "source": [
    "---"
   ]
  },
  {
   "cell_type": "markdown",
   "metadata": {},
   "source": [
    "# Looping Over A Collection"
   ]
  },
  {
   "cell_type": "code",
   "execution_count": 7,
   "metadata": {},
   "outputs": [
    {
     "name": "stdout",
     "output_type": "stream",
     "text": [
      "Bad\n",
      "3.37 µs ± 171 ns per loop (mean ± std. dev. of 7 runs, 100000 loops each)\n",
      "32.2 µs ± 6.15 µs per loop (mean ± std. dev. of 7 runs, 10000 loops each)\n",
      "339 µs ± 9.04 µs per loop (mean ± std. dev. of 7 runs, 1000 loops each)\n",
      "3.62 ms ± 286 µs per loop (mean ± std. dev. of 7 runs, 100 loops each)\n",
      "28.9 ms ± 496 µs per loop (mean ± std. dev. of 7 runs, 10 loops each)\n",
      "287 ms ± 3.55 ms per loop (mean ± std. dev. of 7 runs, 1 loop each)\n",
      "\n",
      "Better\n",
      "1.57 µs ± 63 ns per loop (mean ± std. dev. of 7 runs, 1000000 loops each)\n",
      "12 µs ± 736 ns per loop (mean ± std. dev. of 7 runs, 100000 loops each)\n",
      "119 µs ± 5.58 µs per loop (mean ± std. dev. of 7 runs, 10000 loops each)\n",
      "1.24 ms ± 62.1 µs per loop (mean ± std. dev. of 7 runs, 1000 loops each)\n",
      "12.4 ms ± 1.01 ms per loop (mean ± std. dev. of 7 runs, 100 loops each)\n",
      "117 ms ± 6.44 ms per loop (mean ± std. dev. of 7 runs, 10 loops each)\n"
     ]
    }
   ],
   "source": [
    "# Looping over a collection\n",
    "for choice in ['Bad', 'Better']:   \n",
    "    if choice is 'Bad':\n",
    "        print('Bad')\n",
    "        for val in vals:\n",
    "            colors = ['red', 'green', 'blue', 'yellow']*val\n",
    "            %timeit [colors[i] for i in range(len(colors))]        \n",
    "    else:\n",
    "        print('\\nBetter')\n",
    "        for val in vals:\n",
    "            colors = ['red', 'green', 'blue', 'yellow']*val\n",
    "            %timeit [color for color in colors]"
   ]
  },
  {
   "cell_type": "code",
   "execution_count": 8,
   "metadata": {
    "collapsed": true
   },
   "outputs": [],
   "source": [
    "def slow_collection():\n",
    "    out = [timeit.timeit(\"[colors[i] for i in range(len(colors))]\",\n",
    "                         \"colors = ('red', 'green', 'blue', 'yellow')*%d\" % val, number=10) for val in vals]\n",
    "    return [i*10e4 for i in out] # for ms\n",
    "def fast_collection():\n",
    "    out = [timeit.timeit(\"[color for color in colors]\",\n",
    "                         \"colors = ('red', 'green', 'blue', 'yellow')*%d\" % val, number=10) for val in vals]\n",
    "    return [i*10e4 for i in out] # for ms"
   ]
  },
  {
   "cell_type": "code",
   "execution_count": 9,
   "metadata": {
    "collapsed": true
   },
   "outputs": [],
   "source": [
    "sc = slow_collection()\n",
    "fc = fast_collection()"
   ]
  },
  {
   "cell_type": "code",
   "execution_count": 10,
   "metadata": {},
   "outputs": [
    {
     "data": {
      "image/png": "[encoded data removed]",
      "text/plain": [
       "<matplotlib.figure.Figure at 0x119f7e588>"
      ]
     },
     "metadata": {},
     "output_type": "display_data"
    }
   ],
   "source": [
    "my_plot1(vals, sc, fc, \n",
    "        title=\"Looping Over A Collection\", \n",
    "        xlabel=\"log10(vals)\", \n",
    "        ylabel=\"microseconds\")"
   ]
  },
  {
   "cell_type": "code",
   "execution_count": 11,
   "metadata": {},
   "outputs": [
    {
     "data": {
      "image/png": "[encoded data removed]",
      "text/plain": [
       "<matplotlib.figure.Figure at 0x121387048>"
      ]
     },
     "metadata": {},
     "output_type": "display_data"
    }
   ],
   "source": [
    "my_plot1(vals, np.log10(sc), np.log10(fc), \n",
    "        title=\"Looping Over A Collection\", \n",
    "        xlabel=\"log10(vals)\", \n",
    "        ylabel=\"log10(microseconds)\")"
   ]
  },
  {
   "cell_type": "code",
   "execution_count": 12,
   "metadata": {},
   "outputs": [
    {
     "data": {
      "image/png": "[encoded data removed]",
      "text/plain": [
       "<matplotlib.figure.Figure at 0x1214eeb00>"
      ]
     },
     "metadata": {},
     "output_type": "display_data"
    }
   ],
   "source": [
    "my_plot2(sc, fc, title=\"Looping Over A Collection\", \n",
    "         xlabel='log(vals)', \n",
    "         ylabel=\"log(microseconds)\")"
   ]
  },
  {
   "cell_type": "markdown",
   "metadata": {},
   "source": [
    "---"
   ]
  },
  {
   "cell_type": "markdown",
   "metadata": {},
   "source": [
    "# Sorting Lists"
   ]
  },
  {
   "cell_type": "code",
   "execution_count": 13,
   "metadata": {},
   "outputs": [
    {
     "name": "stdout",
     "output_type": "stream",
     "text": [
      "Bad\n",
      "3.67 µs ± 107 ns per loop (mean ± std. dev. of 7 runs, 100000 loops each)\n",
      "29 µs ± 1.52 µs per loop (mean ± std. dev. of 7 runs, 10000 loops each)\n",
      "340 µs ± 17.6 µs per loop (mean ± std. dev. of 7 runs, 1000 loops each)\n",
      "3.27 ms ± 233 µs per loop (mean ± std. dev. of 7 runs, 100 loops each)\n",
      "35 ms ± 3.61 ms per loop (mean ± std. dev. of 7 runs, 10 loops each)\n",
      "359 ms ± 5.1 ms per loop (mean ± std. dev. of 7 runs, 1 loop each)\n",
      "\n",
      "Better\n",
      "1.71 µs ± 70 ns per loop (mean ± std. dev. of 7 runs, 1000000 loops each)\n",
      "12.4 µs ± 625 ns per loop (mean ± std. dev. of 7 runs, 100000 loops each)\n",
      "111 µs ± 8.07 µs per loop (mean ± std. dev. of 7 runs, 10000 loops each)\n",
      "1.12 ms ± 47.4 µs per loop (mean ± std. dev. of 7 runs, 1000 loops each)\n",
      "11.8 ms ± 125 µs per loop (mean ± std. dev. of 7 runs, 100 loops each)\n",
      "126 ms ± 5.81 ms per loop (mean ± std. dev. of 7 runs, 10 loops each)\n"
     ]
    }
   ],
   "source": [
    "# LEGACY CODE\n",
    "\n",
    "# Sorting lists\n",
    "for choice in ['Bad', 'Better']:   \n",
    "    if choice is 'Bad':\n",
    "        print('Bad')\n",
    "        for val in vals:\n",
    "            colors = ['red', 'green', 'blue', 'yellow']*val\n",
    "            %timeit [colors[i] for i in range(len(colors)-1, -1, -1)]     \n",
    "    else:\n",
    "        print('\\nBetter')\n",
    "        for val in vals:\n",
    "            colors = ['red', 'green', 'blue', 'yellow']*val\n",
    "            %timeit [color for color in reversed(colors)]"
   ]
  },
  {
   "cell_type": "code",
   "execution_count": 14,
   "metadata": {
    "collapsed": true
   },
   "outputs": [],
   "source": [
    "def slow_sort():\n",
    "    out = [timeit.timeit(\"[colors[i] for i in range(len(colors)-1, -1, -1)]\",\n",
    "                         \"colors = ('red', 'green', 'blue', 'yellow')*%d\" % val, number=10) for val in vals]\n",
    "    return [i*10e4 for i in out] # for ms\n",
    "def fast_sort():\n",
    "    out = [timeit.timeit(\"[color for color in reversed(colors)]\",\n",
    "                         \"colors = ('red', 'green', 'blue', 'yellow')*%d\" % val, number=10) for val in vals]\n",
    "    return [i*10e4 for i in out] # for ms"
   ]
  },
  {
   "cell_type": "code",
   "execution_count": 15,
   "metadata": {
    "collapsed": true
   },
   "outputs": [],
   "source": [
    "ss = slow_sort()\n",
    "fs = fast_sort()"
   ]
  },
  {
   "cell_type": "code",
   "execution_count": 16,
   "metadata": {},
   "outputs": [
    {
     "data": {
      "image/png": "[encoded data removed]",
      "text/plain": [
       "<matplotlib.figure.Figure at 0x12153f4e0>"
      ]
     },
     "metadata": {},
     "output_type": "display_data"
    }
   ],
   "source": [
    "my_plot2(ss, fs, \n",
    "        title=\"Reversing A List\", \n",
    "        xlabel=\"log10(vals)\", \n",
    "        ylabel=\"log10(microseconds)\")"
   ]
  },
  {
   "cell_type": "markdown",
   "metadata": {},
   "source": [
    "---"
   ]
  },
  {
   "cell_type": "markdown",
   "metadata": {},
   "source": [
    "# Looping Over A Collection & Indices"
   ]
  },
  {
   "cell_type": "code",
   "execution_count": 17,
   "metadata": {},
   "outputs": [
    {
     "name": "stdout",
     "output_type": "stream",
     "text": [
      "Bad\n",
      "5.41 µs ± 149 ns per loop (mean ± std. dev. of 7 runs, 100000 loops each)\n",
      "46.1 µs ± 4.43 µs per loop (mean ± std. dev. of 7 runs, 10000 loops each)\n",
      "546 µs ± 21.2 µs per loop (mean ± std. dev. of 7 runs, 1000 loops each)\n",
      "5.93 ms ± 324 µs per loop (mean ± std. dev. of 7 runs, 100 loops each)\n",
      "79 ms ± 4.02 ms per loop (mean ± std. dev. of 7 runs, 10 loops each)\n",
      "842 ms ± 68.9 ms per loop (mean ± std. dev. of 7 runs, 1 loop each)\n",
      "\n",
      "Better\n",
      "4.47 µs ± 138 ns per loop (mean ± std. dev. of 7 runs, 100000 loops each)\n",
      "51.1 µs ± 5.94 µs per loop (mean ± std. dev. of 7 runs, 10000 loops each)\n",
      "635 µs ± 77.6 µs per loop (mean ± std. dev. of 7 runs, 1000 loops each)\n",
      "7.45 ms ± 610 µs per loop (mean ± std. dev. of 7 runs, 100 loops each)\n",
      "94 ms ± 9.15 ms per loop (mean ± std. dev. of 7 runs, 10 loops each)\n",
      "920 ms ± 108 ms per loop (mean ± std. dev. of 7 runs, 1 loop each)\n"
     ]
    }
   ],
   "source": [
    "# LEGACY CODE\n",
    "\n",
    "# Looping over a collection and indices\n",
    "for choice in ['Bad', 'Better']:   \n",
    "    if choice is 'Bad':\n",
    "        print('Bad')\n",
    "        for val in vals:\n",
    "            colors = ['red', 'green', 'blue', 'yellow']*val\n",
    "            %timeit [(i, colors[i]) for i in range(len(colors))]\n",
    "    else:\n",
    "        print('\\nBetter')\n",
    "        for val in vals:\n",
    "            colors = ['red', 'green', 'blue', 'yellow']*val\n",
    "            %timeit [(i, colors[i]) for i, color in enumerate(colors)]"
   ]
  },
  {
   "cell_type": "code",
   "execution_count": 18,
   "metadata": {
    "collapsed": true
   },
   "outputs": [],
   "source": [
    "def slow_collection_indices():\n",
    "    out = [timeit.timeit(\"[(i, colors[i]) for i in range(len(colors))]\",\n",
    "                         \"colors = ('red', 'green', 'blue', 'yellow')*%d\" % val, number=10) for val in vals]\n",
    "    return [i*10e4 for i in out] # for ms\n",
    "def fast_collection_indices():\n",
    "    out = [timeit.timeit(\"[(i, colors[i]) for i, color in enumerate(colors)]\",\n",
    "                         \"colors = ('red', 'green', 'blue', 'yellow')*%d\" % val, number=10) for val in vals]\n",
    "    return [i*10e4 for i in out] # for ms"
   ]
  },
  {
   "cell_type": "code",
   "execution_count": 19,
   "metadata": {
    "collapsed": true
   },
   "outputs": [],
   "source": [
    "sci = slow_collection_indices()\n",
    "fci = fast_collection_indices()"
   ]
  },
  {
   "cell_type": "code",
   "execution_count": 20,
   "metadata": {},
   "outputs": [
    {
     "data": {
      "image/png": "[encoded data removed]",
      "text/plain": [
       "<matplotlib.figure.Figure at 0x121b9bef0>"
      ]
     },
     "metadata": {},
     "output_type": "display_data"
    }
   ],
   "source": [
    "my_plot2(sci, fci, \n",
    "        title=\"Looping Over A Collection & Indices\", \n",
    "        xlabel=\"log10(vals)\", \n",
    "        ylabel=\"log10(microseconds)\")"
   ]
  },
  {
   "cell_type": "markdown",
   "metadata": {},
   "source": [
    "---"
   ]
  },
  {
   "cell_type": "markdown",
   "metadata": {},
   "source": [
    "# Looping Over Two Collections"
   ]
  },
  {
   "cell_type": "code",
   "execution_count": 21,
   "metadata": {},
   "outputs": [
    {
     "name": "stdout",
     "output_type": "stream",
     "text": [
      "Bad\n",
      "8.36 µs ± 320 ns per loop (mean ± std. dev. of 7 runs, 100000 loops each)\n",
      "64.5 µs ± 6.52 µs per loop (mean ± std. dev. of 7 runs, 10000 loops each)\n",
      "730 µs ± 74.4 µs per loop (mean ± std. dev. of 7 runs, 1000 loops each)\n",
      "8.89 ms ± 767 µs per loop (mean ± std. dev. of 7 runs, 100 loops each)\n",
      "102 ms ± 12.2 ms per loop (mean ± std. dev. of 7 runs, 10 loops each)\n",
      "1.06 s ± 168 ms per loop (mean ± std. dev. of 7 runs, 1 loop each)\n",
      "\n",
      "Better\n",
      "3.65 µs ± 46.9 ns per loop (mean ± std. dev. of 7 runs, 100000 loops each)\n",
      "32.6 µs ± 2.49 µs per loop (mean ± std. dev. of 7 runs, 10000 loops each)\n",
      "343 µs ± 28.3 µs per loop (mean ± std. dev. of 7 runs, 1000 loops each)\n",
      "4.54 ms ± 336 µs per loop (mean ± std. dev. of 7 runs, 100 loops each)\n",
      "51.9 ms ± 1.28 ms per loop (mean ± std. dev. of 7 runs, 10 loops each)\n",
      "569 ms ± 10.6 ms per loop (mean ± std. dev. of 7 runs, 1 loop each)\n"
     ]
    }
   ],
   "source": [
    "# LEGACY CODE\n",
    "\n",
    "# Loop over two collections\n",
    "for choice in ['Bad', 'Better']:   \n",
    "    if choice is 'Bad':\n",
    "        print('Bad')\n",
    "        for val in vals:\n",
    "            colors = ['red', 'green', 'blue', 'yellow']*val\n",
    "            names = list('abcd')*val\n",
    "            %timeit [(names[i], colors[i]) for i in range(min(len(names), len(colors)))]\n",
    "    else:\n",
    "        print('\\nBetter')\n",
    "        for val in vals:\n",
    "            colors = ['red', 'green', 'blue', 'yellow']*val\n",
    "            names = list('abcd')*val\n",
    "            %timeit [(name, color) for name, color in zip(names, colors)]"
   ]
  },
  {
   "cell_type": "markdown",
   "metadata": {},
   "source": [
    "---"
   ]
  },
  {
   "cell_type": "markdown",
   "metadata": {},
   "source": [
    "# Appending Strings"
   ]
  },
  {
   "cell_type": "code",
   "execution_count": 22,
   "metadata": {},
   "outputs": [
    {
     "name": "stdout",
     "output_type": "stream",
     "text": [
      "Bad\n",
      "CPU times: user 97 µs, sys: 0 ns, total: 97 µs\n",
      "Wall time: 102 µs\n",
      "CPU times: user 970 µs, sys: 3 µs, total: 973 µs\n",
      "Wall time: 985 µs\n",
      "CPU times: user 8.77 ms, sys: 117 µs, total: 8.89 ms\n",
      "Wall time: 9.05 ms\n",
      "CPU times: user 77.6 ms, sys: 2.31 ms, total: 79.9 ms\n",
      "Wall time: 79 ms\n",
      "CPU times: user 725 ms, sys: 6.64 ms, total: 732 ms\n",
      "Wall time: 736 ms\n",
      "CPU times: user 7.14 s, sys: 61.5 ms, total: 7.2 s\n",
      "Wall time: 7.27 s\n",
      "\n",
      "Better\n",
      "CPU times: user 27 µs, sys: 3.48 ms, total: 3.51 ms\n",
      "Wall time: 3.51 ms\n",
      "CPU times: user 91 µs, sys: 1 µs, total: 92 µs\n",
      "Wall time: 93.9 µs\n",
      "CPU times: user 753 µs, sys: 4 µs, total: 757 µs\n",
      "Wall time: 760 µs\n",
      "CPU times: user 7.44 ms, sys: 777 µs, total: 8.22 ms\n",
      "Wall time: 8.2 ms\n",
      "CPU times: user 94.6 ms, sys: 18.2 ms, total: 113 ms\n",
      "Wall time: 113 ms\n",
      "CPU times: user 959 ms, sys: 194 ms, total: 1.15 s\n",
      "Wall time: 1.17 s\n"
     ]
    }
   ],
   "source": [
    "# LEGACY CODE\n",
    "\n",
    "# Appending Strings\n",
    "my_string = \"\"\n",
    "for choice in ['Bad', 'Better']:   \n",
    "    if choice is 'Bad':\n",
    "        print('Bad')\n",
    "        for val in vals:\n",
    "            mylist = list('abcdefghijklmnopqrstuvwxyz')*val\n",
    "            %time for item in mylist: my_string += item\n",
    "    else:\n",
    "        print('\\nBetter')\n",
    "        for val in vals:\n",
    "            mylist = list('abcdefghijklmnopqrstuvwxyz')*val\n",
    "            %time my_string = \"\".join([item for item in mylist])"
   ]
  },
  {
   "cell_type": "markdown",
   "metadata": {},
   "source": [
    "---"
   ]
  },
  {
   "cell_type": "markdown",
   "metadata": {},
   "source": [
    "# Using Standard Library"
   ]
  },
  {
   "cell_type": "code",
   "execution_count": 23,
   "metadata": {},
   "outputs": [
    {
     "name": "stdout",
     "output_type": "stream",
     "text": [
      "Bad\n",
      "78.9 µs ± 10.7 µs per loop (mean ± std. dev. of 7 runs, 10000 loops each)\n",
      "761 µs ± 88.1 µs per loop (mean ± std. dev. of 7 runs, 1000 loops each)\n",
      "7.39 ms ± 67.1 µs per loop (mean ± std. dev. of 7 runs, 100 loops each)\n",
      "65.6 ms ± 4.77 ms per loop (mean ± std. dev. of 7 runs, 10 loops each)\n",
      "713 ms ± 20.4 ms per loop (mean ± std. dev. of 7 runs, 1 loop each)\n",
      "7.79 s ± 1.27 s per loop (mean ± std. dev. of 7 runs, 1 loop each)\n",
      "\n",
      "Better\n",
      "719 ns ± 31.3 ns per loop (mean ± std. dev. of 7 runs, 1000000 loops each)\n",
      "631 ns ± 62 ns per loop (mean ± std. dev. of 7 runs, 1000000 loops each)\n",
      "670 ns ± 49.1 ns per loop (mean ± std. dev. of 7 runs, 1000000 loops each)\n",
      "708 ns ± 74.2 ns per loop (mean ± std. dev. of 7 runs, 1000000 loops each)\n",
      "631 ns ± 49.1 ns per loop (mean ± std. dev. of 7 runs, 1000000 loops each)\n",
      "611 ns ± 16.9 ns per loop (mean ± std. dev. of 7 runs, 1000000 loops each)\n"
     ]
    }
   ],
   "source": [
    "# Standard Library (Wow!)\n",
    "\n",
    "for choice in ['Bad', 'Better']:   \n",
    "    if choice is 'Bad':\n",
    "        print('Bad')\n",
    "        newlist = []\n",
    "        for val in vals:\n",
    "            %timeit [newlist.append(np.cumsum(item)) for item in range(val)]\n",
    "    else:\n",
    "        print('\\nBetter')\n",
    "        newlist = []\n",
    "        for val in vals:\n",
    "            %timeit newlist = map(np.cumsum, range(val))"
   ]
  },
  {
   "cell_type": "markdown",
   "metadata": {},
   "source": [
    "---"
   ]
  },
  {
   "cell_type": "markdown",
   "metadata": {},
   "source": [
    "# Listexp vs Genexp"
   ]
  },
  {
   "cell_type": "code",
   "execution_count": 24,
   "metadata": {},
   "outputs": [
    {
     "name": "stdout",
     "output_type": "stream",
     "text": [
      "Bad\n",
      "64 µs ± 3.41 µs per loop (mean ± std. dev. of 7 runs, 10000 loops each)\n",
      "686 µs ± 133 µs per loop (mean ± std. dev. of 7 runs, 1000 loops each)\n",
      "6.04 ms ± 295 µs per loop (mean ± std. dev. of 7 runs, 100 loops each)\n",
      "64.1 ms ± 5.22 ms per loop (mean ± std. dev. of 7 runs, 10 loops each)\n",
      "659 ms ± 81.2 ms per loop (mean ± std. dev. of 7 runs, 1 loop each)\n",
      "6.63 s ± 320 ms per loop (mean ± std. dev. of 7 runs, 1 loop each)\n",
      "\n",
      "Better\n",
      "652 ns ± 22 ns per loop (mean ± std. dev. of 7 runs, 1000000 loops each)\n",
      "740 ns ± 139 ns per loop (mean ± std. dev. of 7 runs, 1000000 loops each)\n",
      "691 ns ± 5.42 ns per loop (mean ± std. dev. of 7 runs, 1000000 loops each)\n",
      "685 ns ± 5.1 ns per loop (mean ± std. dev. of 7 runs, 1000000 loops each)\n",
      "691 ns ± 9.28 ns per loop (mean ± std. dev. of 7 runs, 1000000 loops each)\n",
      "691 ns ± 9.94 ns per loop (mean ± std. dev. of 7 runs, 1000000 loops each)\n"
     ]
    }
   ],
   "source": [
    "# listexp vs genexp\n",
    "\n",
    "for choice in ['Bad', 'Better']:   \n",
    "    if choice is 'Bad':\n",
    "        print('Bad')\n",
    "        for val in vals:\n",
    "            %timeit [np.cumsum(item) for item in range(val)] # list expression\n",
    "    else:\n",
    "        print('\\nBetter')\n",
    "        for val in vals:\n",
    "            %timeit (np.cumsum(item) for item in range(val)) # generator expression"
   ]
  },
  {
   "cell_type": "markdown",
   "metadata": {},
   "source": [
    "---"
   ]
  },
  {
   "cell_type": "markdown",
   "metadata": {},
   "source": [
    "# Dots"
   ]
  },
  {
   "cell_type": "code",
   "execution_count": 25,
   "metadata": {},
   "outputs": [
    {
     "name": "stdout",
     "output_type": "stream",
     "text": [
      "Bad\n",
      "2.55 µs ± 53.7 ns per loop (mean ± std. dev. of 7 runs, 100000 loops each)\n",
      "2.52 µs ± 33.1 ns per loop (mean ± std. dev. of 7 runs, 100000 loops each)\n",
      "2.51 µs ± 28.9 ns per loop (mean ± std. dev. of 7 runs, 100000 loops each)\n",
      "2.52 µs ± 30.8 ns per loop (mean ± std. dev. of 7 runs, 100000 loops each)\n",
      "2.54 µs ± 46.9 ns per loop (mean ± std. dev. of 7 runs, 100000 loops each)\n",
      "2.55 µs ± 47.4 ns per loop (mean ± std. dev. of 7 runs, 100000 loops each)\n",
      "\n",
      "Better\n",
      "2.53 µs ± 67.3 ns per loop (mean ± std. dev. of 7 runs, 100000 loops each)\n",
      "2.5 µs ± 46.3 ns per loop (mean ± std. dev. of 7 runs, 100000 loops each)\n",
      "2.48 µs ± 27.4 ns per loop (mean ± std. dev. of 7 runs, 100000 loops each)\n",
      "2.5 µs ± 59.3 ns per loop (mean ± std. dev. of 7 runs, 100000 loops each)\n",
      "2.46 µs ± 30.1 ns per loop (mean ± std. dev. of 7 runs, 100000 loops each)\n",
      "2.54 µs ± 58 ns per loop (mean ± std. dev. of 7 runs, 100000 loops each)\n"
     ]
    }
   ],
   "source": [
    "# Dots matter (marginally)\n",
    "for choice in ['Bad', 'Better']:   \n",
    "    if choice is 'Bad':\n",
    "        print('Bad')\n",
    "        newlist = []\n",
    "        for val in vals:\n",
    "            %timeit newlist.append(np.cumsum(val))\n",
    "    else:\n",
    "        print('\\nBetter')\n",
    "        newlist = []\n",
    "        cumsum = np.cumsum\n",
    "        append = newlist.append\n",
    "        for val in vals:\n",
    "            %timeit append(cumsum(val))"
   ]
  },
  {
   "cell_type": "markdown",
   "metadata": {},
   "source": [
    "## Links\n",
    "[4 Performance Optimization Tips For Faster Python Code](http://blog.hackerearth.com/4-Performance-Optimization-Tips-Faster-Python-Code)  \n",
    "[PythonSpeed Performance Tips](https://wiki.python.org/moin/PythonSpeed/PerformanceTips)  \n",
    "[6 Python Performance Tips](https://dzone.com/articles/6-python-performance-tips)"
   ]
  }
 ],
 "metadata": {
  "kernelspec": {
   "display_name": "Python 3",
   "language": "python",
   "name": "python3"
  },
  "language_info": {
   "codemirror_mode": {
    "name": "ipython",
    "version": 3
   },
   "file_extension": ".py",
   "mimetype": "text/x-python",
   "name": "python",
   "nbconvert_exporter": "python",
   "pygments_lexer": "ipython3",
   "version": "3.6.1"
  }
 },
 "nbformat": 4,
 "nbformat_minor": 2
}
