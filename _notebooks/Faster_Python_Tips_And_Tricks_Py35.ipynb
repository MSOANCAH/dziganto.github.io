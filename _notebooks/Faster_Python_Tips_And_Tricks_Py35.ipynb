{
 "cells": [
  {
   "cell_type": "markdown",
   "metadata": {},
   "source": [
    "---\n",
    "**This notebook uses the Python 3.5 kernel.**  \n",
    "\n",
    "---"
   ]
  },
  {
   "cell_type": "markdown",
   "metadata": {},
   "source": [
    "# Setup"
   ]
  },
  {
   "cell_type": "code",
   "execution_count": 2,
   "metadata": {
    "collapsed": true
   },
   "outputs": [],
   "source": [
    "%matplotlib inline\n",
    "import timeit\n",
    "import numpy as np\n",
    "import matplotlib.pyplot as plt\n",
    "import seaborn as sns"
   ]
  },
  {
   "cell_type": "code",
   "execution_count": 3,
   "metadata": {
    "collapsed": false
   },
   "outputs": [
    {
     "name": "stdout",
     "output_type": "stream",
     "text": [
      "NumPy   1.12.1\n",
      "Seaborn 0.7.1\n"
     ]
    }
   ],
   "source": [
    "print(\"NumPy   %s\" % np.__version__)\n",
    "print(\"Seaborn %s\" % sns.__version__)"
   ]
  },
  {
   "cell_type": "code",
   "execution_count": 4,
   "metadata": {
    "collapsed": false
   },
   "outputs": [
    {
     "data": {
      "text/plain": [
       "[0.2943358550000994,\n",
       " 0.26719289000175195,\n",
       " 0.31047607800064725,\n",
       " 0.29684370399991167,\n",
       " 0.29401036399940494,\n",
       " 0.30204436300118687]"
      ]
     },
     "execution_count": 4,
     "metadata": {},
     "output_type": "execute_result"
    }
   ],
   "source": [
    "# Set values to expand lists\n",
    "vals = list(np.geomspace(10, 1000000, num=6, dtype='int'))\n",
    "\n",
    "# timeit example\n",
    "[timeit.timeit('range(%d)' % num) for num in vals]"
   ]
  },
  {
   "cell_type": "markdown",
   "metadata": {},
   "source": [
    "---"
   ]
  },
  {
   "cell_type": "markdown",
   "metadata": {},
   "source": [
    "# Plot Functions"
   ]
  },
  {
   "cell_type": "code",
   "execution_count": 17,
   "metadata": {
    "collapsed": true
   },
   "outputs": [],
   "source": [
    "def my_plot1(vals, times1, times2, time1_name='time 1', time2_name='time 2', title=\"\", ylabel=\"\", xlabel=\"\"):\n",
    "    '''\n",
    "    Function printing barplot of times with legend.\n",
    "    '''\n",
    "    plt.plot(np.log10(vals), times1);\n",
    "    plt.plot(np.log10(vals), times2);\n",
    "    plt.title(title);\n",
    "    plt.xlabel(xlabel);\n",
    "    plt.ylabel(ylabel);\n",
    "    plt.xticks(range(1,6));\n",
    "    plt.legend([time1_name, time2_name])"
   ]
  },
  {
   "cell_type": "code",
   "execution_count": 18,
   "metadata": {
    "collapsed": true
   },
   "outputs": [],
   "source": [
    "def my_plot2(times1, times2, time1_name='time 1', time2_name='time 2', title=\"\", ylabel=\"\", xlabel=\"\"):\n",
    "    '''\n",
    "    Same as my_plot1 but log(x-axis) and log(y_axis).\n",
    "    '''\n",
    "    # Setup\n",
    "    fig = plt.figure()\n",
    "    ax = fig.add_subplot(111)\n",
    "    ind = np.arange(6)                \n",
    "    width = 0.35\n",
    "    # Plots\n",
    "    bar1 = ax.bar(ind, times1, width, color='darkblue', log=True)\n",
    "    bar2 = ax.bar(ind+width, times2, width, color='darkgreen', log=True)\n",
    "    ax.legend( (bar1[0], bar2[0]), (time1_name, time2_name) );\n",
    "    plt.title(title)\n",
    "    plt.xlabel(xlabel)\n",
    "    plt.ylabel(ylabel)"
   ]
  },
  {
   "cell_type": "markdown",
   "metadata": {},
   "source": [
    "---"
   ]
  },
  {
   "cell_type": "markdown",
   "metadata": {},
   "source": [
    "# Looping Over A Collection"
   ]
  },
  {
   "cell_type": "code",
   "execution_count": 7,
   "metadata": {
    "collapsed": false
   },
   "outputs": [
    {
     "name": "stdout",
     "output_type": "stream",
     "text": [
      "Bad\n",
      "100000 loops, best of 3: 3.7 µs per loop\n",
      "10000 loops, best of 3: 25.8 µs per loop\n",
      "1000 loops, best of 3: 264 µs per loop\n",
      "100 loops, best of 3: 2.98 ms per loop\n",
      "10 loops, best of 3: 31.5 ms per loop\n",
      "1 loop, best of 3: 346 ms per loop\n",
      "\n",
      "Better\n",
      "The slowest run took 4.04 times longer than the fastest. This could mean that an intermediate result is being cached.\n",
      "100000 loops, best of 3: 2.47 µs per loop\n",
      "100000 loops, best of 3: 13.6 µs per loop\n",
      "10000 loops, best of 3: 109 µs per loop\n",
      "1000 loops, best of 3: 1.18 ms per loop\n",
      "100 loops, best of 3: 12.4 ms per loop\n",
      "10 loops, best of 3: 141 ms per loop\n"
     ]
    }
   ],
   "source": [
    "# Looping over a collection\n",
    "for choice in ['Bad', 'Better']:   \n",
    "    if choice is 'Bad':\n",
    "        print('Bad')\n",
    "        for val in vals:\n",
    "            colors = ['red', 'green', 'blue', 'yellow']*val\n",
    "            %timeit [colors[i] for i in range(len(colors))]        \n",
    "    else:\n",
    "        print('\\nBetter')\n",
    "        for val in vals:\n",
    "            colors = ['red', 'green', 'blue', 'yellow']*val\n",
    "            %timeit [color for color in colors]"
   ]
  },
  {
   "cell_type": "code",
   "execution_count": 8,
   "metadata": {
    "collapsed": true
   },
   "outputs": [],
   "source": [
    "def slow_collection():\n",
    "    out = [timeit.timeit(\"[colors[i] for i in range(len(colors))]\",\n",
    "                         \"colors = ('red', 'green', 'blue', 'yellow')*%d\" % val, number=10) for val in vals]\n",
    "    return [i*10e4 for i in out] # for ms\n",
    "def fast_collection():\n",
    "    out = [timeit.timeit(\"[color for color in colors]\",\n",
    "                         \"colors = ('red', 'green', 'blue', 'yellow')*%d\" % val, number=10) for val in vals]\n",
    "    return [i*10e4 for i in out] # for ms"
   ]
  },
  {
   "cell_type": "code",
   "execution_count": 9,
   "metadata": {
    "collapsed": true
   },
   "outputs": [],
   "source": [
    "sc = slow_collection()\n",
    "fc = fast_collection()"
   ]
  },
  {
   "cell_type": "code",
   "execution_count": 19,
   "metadata": {
    "collapsed": false
   },
   "outputs": [
    {
     "data": {
      "image/png": "[encoded data removed]",
      "text/plain": [
       "<matplotlib.figure.Figure at 0x118cd10b8>"
      ]
     },
     "metadata": {},
     "output_type": "display_data"
    }
   ],
   "source": [
    "my_plot1(vals, sc, fc, \n",
    "         title=\"Looping Over A Collection\", \n",
    "         xlabel=\"log10(vals)\", \n",
    "         ylabel=\"milliseconds\")"
   ]
  },
  {
   "cell_type": "code",
   "execution_count": 20,
   "metadata": {
    "collapsed": false
   },
   "outputs": [
    {
     "data": {
      "image/png": "[encoded data removed]",
      "text/plain": [
       "<matplotlib.figure.Figure at 0x118469a90>"
      ]
     },
     "metadata": {},
     "output_type": "display_data"
    }
   ],
   "source": [
    "my_plot1(vals, np.log10(sc), np.log10(fc), \n",
    "        title=\"Looping Over A Collection\", \n",
    "        xlabel=\"log10(vals)\", \n",
    "        ylabel=\"log10(milliseconds)\")"
   ]
  },
  {
   "cell_type": "code",
   "execution_count": 33,
   "metadata": {
    "collapsed": false
   },
   "outputs": [
    {
     "data": {
      "image/png": "[encoded data removed]",
      "text/plain": [
       "<matplotlib.figure.Figure at 0x118d0e7f0>"
      ]
     },
     "metadata": {},
     "output_type": "display_data"
    }
   ],
   "source": [
    "my_plot2(sc, fc, time1_name='index', time2_name='pythonic',\n",
    "         title=\"Looping Over A Collection in Py35\", \n",
    "         xlabel='log(vals)', \n",
    "         ylabel=\"log(milliseconds)\")\n",
    "#plt.savefig('/Users/davidziganto/Desktop/loopcollectionpy35.png')"
   ]
  },
  {
   "cell_type": "markdown",
   "metadata": {},
   "source": [
    "---"
   ]
  },
  {
   "cell_type": "markdown",
   "metadata": {},
   "source": [
    "# Sorting Lists"
   ]
  },
  {
   "cell_type": "code",
   "execution_count": 13,
   "metadata": {
    "collapsed": false
   },
   "outputs": [
    {
     "name": "stdout",
     "output_type": "stream",
     "text": [
      "range\n",
      "100000 loops, best of 3: 3.7 µs per loop\n",
      "10000 loops, best of 3: 27.2 µs per loop\n",
      "1000 loops, best of 3: 271 µs per loop\n",
      "100 loops, best of 3: 2.88 ms per loop\n",
      "10 loops, best of 3: 28.7 ms per loop\n",
      "1 loop, best of 3: 304 ms per loop\n",
      "\n",
      "reversed\n",
      "100000 loops, best of 3: 2.36 µs per loop\n",
      "100000 loops, best of 3: 13.9 µs per loop\n",
      "10000 loops, best of 3: 114 µs per loop\n",
      "1000 loops, best of 3: 1.18 ms per loop\n",
      "100 loops, best of 3: 12 ms per loop\n",
      "10 loops, best of 3: 137 ms per loop\n"
     ]
    }
   ],
   "source": [
    "# Sorting lists\n",
    "for choice in ['range', 'reversed']:   \n",
    "    if choice is 'range':\n",
    "        print('range')\n",
    "        for val in vals:\n",
    "            colors = ['red', 'green', 'blue', 'yellow']*val\n",
    "            %timeit [colors[i] for i in range(len(colors)-1, -1, -1)]     \n",
    "    else:\n",
    "        print('\\nreversed')\n",
    "        for val in vals:\n",
    "            colors = ['red', 'green', 'blue', 'yellow']*val\n",
    "            %timeit [color for color in reversed(colors)]"
   ]
  },
  {
   "cell_type": "code",
   "execution_count": 14,
   "metadata": {
    "collapsed": true
   },
   "outputs": [],
   "source": [
    "def slow_sort():\n",
    "    out = [timeit.timeit(\"[colors[i] for i in range(len(colors)-1, -1, -1)]\",\n",
    "                         \"colors = ('red', 'green', 'blue', 'yellow')*%d\" % val, number=10) for val in vals]\n",
    "    return [i*10e4 for i in out] # for ms\n",
    "def fast_sort():\n",
    "    out = [timeit.timeit(\"[color for color in reversed(colors)]\",\n",
    "                         \"colors = ('red', 'green', 'blue', 'yellow')*%d\" % val, number=10) for val in vals]\n",
    "    return [i*10e4 for i in out] # for ms"
   ]
  },
  {
   "cell_type": "code",
   "execution_count": 15,
   "metadata": {
    "collapsed": true
   },
   "outputs": [],
   "source": [
    "ss = slow_sort()\n",
    "fs = fast_sort()"
   ]
  },
  {
   "cell_type": "code",
   "execution_count": 23,
   "metadata": {
    "collapsed": false
   },
   "outputs": [
    {
     "data": {
      "image/png": "[encoded data removed]",
      "text/plain": [
       "<matplotlib.figure.Figure at 0x11923af28>"
      ]
     },
     "metadata": {},
     "output_type": "display_data"
    }
   ],
   "source": [
    "my_plot2(ss, fs, time1_name='xrange', time2_name='reversed',\n",
    "         title=\"Reversing A List\", \n",
    "         xlabel=\"log10(vals)\", \n",
    "         ylabel=\"log10(milliseconds)\")"
   ]
  },
  {
   "cell_type": "markdown",
   "metadata": {},
   "source": [
    "---"
   ]
  },
  {
   "cell_type": "markdown",
   "metadata": {},
   "source": [
    "# Looping Over A Collection & Indices"
   ]
  },
  {
   "cell_type": "code",
   "execution_count": 16,
   "metadata": {
    "collapsed": false,
    "scrolled": true
   },
   "outputs": [
    {
     "name": "stdout",
     "output_type": "stream",
     "text": [
      "range\n",
      "100000 loops, best of 3: 4.88 µs per loop\n",
      "10000 loops, best of 3: 38.7 µs per loop\n",
      "1000 loops, best of 3: 426 µs per loop\n",
      "100 loops, best of 3: 5.02 ms per loop\n",
      "10 loops, best of 3: 65.3 ms per loop\n",
      "1 loop, best of 3: 669 ms per loop\n",
      "\n",
      "enumerate\n",
      "100000 loops, best of 3: 5.24 µs per loop\n",
      "10000 loops, best of 3: 44.1 µs per loop\n",
      "1000 loops, best of 3: 486 µs per loop\n",
      "100 loops, best of 3: 5.58 ms per loop\n",
      "10 loops, best of 3: 72.9 ms per loop\n",
      "1 loop, best of 3: 743 ms per loop\n"
     ]
    }
   ],
   "source": [
    "# Looping over a collection and indices\n",
    "for choice in ['range', 'enumerate']:   \n",
    "    if choice is 'range':\n",
    "        print('range')\n",
    "        for val in vals:\n",
    "            colors = ['red', 'green', 'blue', 'yellow']*val\n",
    "            %timeit [(i, colors[i]) for i in range(len(colors))]\n",
    "        \n",
    "    else:\n",
    "        print('\\nenumerate')\n",
    "        for val in vals:\n",
    "            colors = ['red', 'green', 'blue', 'yellow']*val\n",
    "            %timeit [(i, colors[i]) for i, color in enumerate(colors)]"
   ]
  },
  {
   "cell_type": "code",
   "execution_count": 26,
   "metadata": {
    "collapsed": true
   },
   "outputs": [],
   "source": [
    "def slow_collection_indices():\n",
    "    out = [timeit.timeit(\"[(i, colors[i]) for i in range(len(colors))]\",\n",
    "                         \"colors = ('red', 'green', 'blue', 'yellow')*%d\" % val, number=10) for val in vals]\n",
    "    return [i*10e4 for i in out] # for ms\n",
    "def fast_collection_indices():\n",
    "    out = [timeit.timeit(\"[(i, colors[i]) for i, color in enumerate(colors)]\",\n",
    "                         \"colors = ('red', 'green', 'blue', 'yellow')*%d\" % val, number=10) for val in vals]\n",
    "    return [i*10e4 for i in out] # for ms"
   ]
  },
  {
   "cell_type": "code",
   "execution_count": 27,
   "metadata": {
    "collapsed": false
   },
   "outputs": [],
   "source": [
    "sci = slow_collection_indices()\n",
    "fci = fast_collection_indices()"
   ]
  },
  {
   "cell_type": "code",
   "execution_count": 28,
   "metadata": {
    "collapsed": false
   },
   "outputs": [
    {
     "data": {
      "image/png": "[encoded data removed]",
      "text/plain": [
       "<matplotlib.figure.Figure at 0x118fc8e48>"
      ]
     },
     "metadata": {},
     "output_type": "display_data"
    }
   ],
   "source": [
    "my_plot2(sci, fci, time1_name='xrange', time2_name='enumerate',\n",
    "         title=\"Looping Over A Collection & Indices\", \n",
    "         xlabel=\"log10(vals)\", \n",
    "         ylabel=\"log10(milliseconds)\")"
   ]
  },
  {
   "cell_type": "markdown",
   "metadata": {},
   "source": [
    "---"
   ]
  },
  {
   "cell_type": "markdown",
   "metadata": {},
   "source": [
    "# Looping Over Two Collections"
   ]
  },
  {
   "cell_type": "code",
   "execution_count": 20,
   "metadata": {
    "collapsed": false
   },
   "outputs": [
    {
     "name": "stdout",
     "output_type": "stream",
     "text": [
      "range\n",
      "100000 loops, best of 3: 6.38 µs per loop\n",
      "10000 loops, best of 3: 52.6 µs per loop\n",
      "1000 loops, best of 3: 554 µs per loop\n",
      "100 loops, best of 3: 6.13 ms per loop\n",
      "10 loops, best of 3: 70.9 ms per loop\n",
      "1 loop, best of 3: 735 ms per loop\n",
      "\n",
      "zip\n",
      "100000 loops, best of 3: 4.19 µs per loop\n",
      "10000 loops, best of 3: 31.5 µs per loop\n",
      "1000 loops, best of 3: 332 µs per loop\n",
      "100 loops, best of 3: 3.71 ms per loop\n",
      "10 loops, best of 3: 46.5 ms per loop\n",
      "1 loop, best of 3: 496 ms per loop\n"
     ]
    }
   ],
   "source": [
    "# Loop over two collections\n",
    "for choice in ['range', 'zip']:   \n",
    "    if choice is 'range':\n",
    "        print('range')\n",
    "        for val in vals:\n",
    "            colors = ['red', 'green', 'blue', 'yellow']*val\n",
    "            names = list('abcd')*val\n",
    "            %timeit [(names[i], colors[i]) for i in range(min(len(names), len(colors)))]\n",
    "    else:\n",
    "        print('\\nzip')\n",
    "        for val in vals:\n",
    "            colors = ['red', 'green', 'blue', 'yellow']*val\n",
    "            names = list('abcd')*val\n",
    "            %timeit [(name, color) for name, color in zip(names, colors)]"
   ]
  },
  {
   "cell_type": "code",
   "execution_count": 29,
   "metadata": {
    "collapsed": false
   },
   "outputs": [
    {
     "data": {
      "image/png": "[encoded data removed]",
      "text/plain": [
       "<matplotlib.figure.Figure at 0x11848a630>"
      ]
     },
     "metadata": {},
     "output_type": "display_data"
    }
   ],
   "source": [
    "my_plot2([6.38e-3, 52.6e-3, 554e-3, 6.13, 70.9, 735], [4.19e-3, 31.5e-3, 332e-3, 3.71, 46.5, 496], \n",
    "         time1_name='xrange', time2_name='zip',\n",
    "         title=\"Looping Over Two Collections\", \n",
    "         xlabel=\"log10(vals)\", \n",
    "         ylabel=\"log10(milliseconds)\")"
   ]
  },
  {
   "cell_type": "markdown",
   "metadata": {},
   "source": [
    "---"
   ]
  },
  {
   "cell_type": "markdown",
   "metadata": {},
   "source": [
    "# Appending Strings"
   ]
  },
  {
   "cell_type": "code",
   "execution_count": 21,
   "metadata": {
    "collapsed": false
   },
   "outputs": [
    {
     "name": "stdout",
     "output_type": "stream",
     "text": [
      "+=\n",
      "CPU times: user 52 µs, sys: 0 ns, total: 52 µs\n",
      "Wall time: 54.8 µs\n",
      "CPU times: user 795 µs, sys: 13 µs, total: 808 µs\n",
      "Wall time: 850 µs\n",
      "CPU times: user 6.1 ms, sys: 164 µs, total: 6.26 ms\n",
      "Wall time: 6.21 ms\n",
      "CPU times: user 66.1 ms, sys: 1.62 ms, total: 67.7 ms\n",
      "Wall time: 67.9 ms\n",
      "CPU times: user 595 ms, sys: 3.31 ms, total: 598 ms\n",
      "Wall time: 599 ms\n",
      "CPU times: user 5.92 s, sys: 20 ms, total: 5.94 s\n",
      "Wall time: 5.95 s\n",
      "\n",
      ".join\n",
      "CPU times: user 23 µs, sys: 1.31 ms, total: 1.33 ms\n",
      "Wall time: 1.33 ms\n",
      "CPU times: user 105 µs, sys: 1e+03 ns, total: 106 µs\n",
      "Wall time: 107 µs\n",
      "CPU times: user 956 µs, sys: 4 µs, total: 960 µs\n",
      "Wall time: 962 µs\n",
      "CPU times: user 9.05 ms, sys: 643 µs, total: 9.7 ms\n",
      "Wall time: 10.1 ms\n",
      "CPU times: user 95.1 ms, sys: 9.93 ms, total: 105 ms\n",
      "Wall time: 105 ms\n",
      "CPU times: user 955 ms, sys: 103 ms, total: 1.06 s\n",
      "Wall time: 1.06 s\n"
     ]
    }
   ],
   "source": [
    "# Appending Strings\n",
    "my_string = \"\"\n",
    "for choice in ['Bad', 'Better']:   \n",
    "    if choice is 'Bad':\n",
    "        print('+=')\n",
    "        for val in vals:\n",
    "            mylist = list('abcdefghijklmnopqrstuvwxyz')*val\n",
    "            %time for item in mylist: my_string += item\n",
    "    else:\n",
    "        print('\\n.join')\n",
    "        for val in vals:\n",
    "            mylist = list('abcdefghijklmnopqrstuvwxyz')*val\n",
    "            %time my_string = \"\".join([item for item in mylist])"
   ]
  },
  {
   "cell_type": "markdown",
   "metadata": {},
   "source": [
    "---"
   ]
  },
  {
   "cell_type": "markdown",
   "metadata": {},
   "source": [
    "# Using Standard Library"
   ]
  },
  {
   "cell_type": "code",
   "execution_count": 22,
   "metadata": {
    "collapsed": false
   },
   "outputs": [
    {
     "name": "stdout",
     "output_type": "stream",
     "text": [
      "listexp\n",
      "10000 loops, best of 3: 59.5 µs per loop\n",
      "1000 loops, best of 3: 598 µs per loop\n",
      "100 loops, best of 3: 5.85 ms per loop\n",
      "10 loops, best of 3: 58.3 ms per loop\n",
      "1 loop, best of 3: 580 ms per loop\n",
      "1 loop, best of 3: 5.86 s per loop\n",
      "\n",
      "map\n",
      "The slowest run took 4.91 times longer than the fastest. This could mean that an intermediate result is being cached.\n",
      "1000000 loops, best of 3: 535 ns per loop\n",
      "1000000 loops, best of 3: 517 ns per loop\n",
      "1000000 loops, best of 3: 590 ns per loop\n",
      "1000000 loops, best of 3: 588 ns per loop\n",
      "1000000 loops, best of 3: 598 ns per loop\n",
      "1000000 loops, best of 3: 591 ns per loop\n"
     ]
    }
   ],
   "source": [
    "# Standard Library\n",
    "\n",
    "for choice in ['listexp', 'map']:   \n",
    "    if choice is 'listexp':\n",
    "        print('listexp')\n",
    "        for val in vals:\n",
    "            %timeit [np.cumsum(item) for item in range(val)]\n",
    "    else:\n",
    "        print('\\nmap')\n",
    "        for val in vals:\n",
    "            %timeit newlist = map(np.cumsum, range(val))"
   ]
  },
  {
   "cell_type": "code",
   "execution_count": 37,
   "metadata": {
    "collapsed": false
   },
   "outputs": [
    {
     "data": {
      "image/png": "[encoded data removed]",
      "text/plain": [
       "<matplotlib.figure.Figure at 0x118fe8cf8>"
      ]
     },
     "metadata": {},
     "output_type": "display_data"
    }
   ],
   "source": [
    "my_plot2([57.5e-3, 598e-3, 5.85, 58.3, 580, 5.86e3], [535e-6, 517e-6, 590e-6, 588e-6, 598e-6, 591e-6], \n",
    "         time1_name='listexp', time2_name='map',\n",
    "         title=\"Using Standard Library in Py35\", \n",
    "         xlabel=\"log10(vals)\", \n",
    "         ylabel=\"log10(milliseconds)\")\n",
    "#plt.savefig('/Users/davidziganto/Desktop/stdlibrarypy35.png')"
   ]
  },
  {
   "cell_type": "markdown",
   "metadata": {},
   "source": [
    "---"
   ]
  },
  {
   "cell_type": "markdown",
   "metadata": {},
   "source": [
    "# Listexp vs Genexp"
   ]
  },
  {
   "cell_type": "code",
   "execution_count": 23,
   "metadata": {
    "collapsed": false
   },
   "outputs": [
    {
     "name": "stdout",
     "output_type": "stream",
     "text": [
      "listexp\n",
      "10000 loops, best of 3: 58.5 µs per loop\n",
      "1000 loops, best of 3: 590 µs per loop\n",
      "100 loops, best of 3: 5.92 ms per loop\n",
      "10 loops, best of 3: 58.3 ms per loop\n",
      "1 loop, best of 3: 590 ms per loop\n",
      "1 loop, best of 3: 6 s per loop\n",
      "\n",
      "genexp\n",
      "1000000 loops, best of 3: 661 ns per loop\n",
      "1000000 loops, best of 3: 668 ns per loop\n",
      "1000000 loops, best of 3: 715 ns per loop\n",
      "1000000 loops, best of 3: 701 ns per loop\n",
      "1000000 loops, best of 3: 701 ns per loop\n",
      "1000000 loops, best of 3: 722 ns per loop\n"
     ]
    }
   ],
   "source": [
    "# listexp vs genexp\n",
    "\n",
    "for choice in ['listexp', 'genexp']:   \n",
    "    if choice is 'listexp':\n",
    "        print('listexp')\n",
    "        for val in vals:\n",
    "            %timeit [np.cumsum(item) for item in range(val)] # list expression\n",
    "    else:\n",
    "        print('\\ngenexp')\n",
    "        for val in vals:\n",
    "            %timeit (np.cumsum(item) for item in range(val)) # generator expression"
   ]
  },
  {
   "cell_type": "code",
   "execution_count": 35,
   "metadata": {
    "collapsed": false
   },
   "outputs": [
    {
     "data": {
      "image/png": "[encoded data removed]",
      "text/plain": [
       "<matplotlib.figure.Figure at 0x1192e5b38>"
      ]
     },
     "metadata": {},
     "output_type": "display_data"
    }
   ],
   "source": [
    "my_plot2([58.5e-3, 590e-3, 5.92, 58.3, 590, 6e3], [661e-6, 668e-6, 715e-6, 701e-6, 701e-6, 722e-6], \n",
    "         time1_name='listexp', time2_name='genexp',\n",
    "         title=\"ListExp vs GenExp in Py35\", \n",
    "         xlabel=\"log10(vals)\", \n",
    "         ylabel=\"log10(milliseconds)\")\n",
    "#plt.savefig('/Users/davidziganto/Desktop/listgenexppy35.png')"
   ]
  },
  {
   "cell_type": "markdown",
   "metadata": {},
   "source": [
    "---"
   ]
  },
  {
   "cell_type": "markdown",
   "metadata": {},
   "source": [
    "# Dots"
   ]
  },
  {
   "cell_type": "code",
   "execution_count": 24,
   "metadata": {
    "collapsed": false
   },
   "outputs": [
    {
     "name": "stdout",
     "output_type": "stream",
     "text": [
      "Bad\n",
      "The slowest run took 11.25 times longer than the fastest. This could mean that an intermediate result is being cached.\n",
      "100000 loops, best of 3: 2.57 µs per loop\n",
      "The slowest run took 5.35 times longer than the fastest. This could mean that an intermediate result is being cached.\n",
      "100000 loops, best of 3: 2.53 µs per loop\n",
      "The slowest run took 4.75 times longer than the fastest. This could mean that an intermediate result is being cached.\n",
      "100000 loops, best of 3: 2.56 µs per loop\n",
      "The slowest run took 4.57 times longer than the fastest. This could mean that an intermediate result is being cached.\n",
      "100000 loops, best of 3: 2.59 µs per loop\n",
      "The slowest run took 4.88 times longer than the fastest. This could mean that an intermediate result is being cached.\n",
      "100000 loops, best of 3: 2.6 µs per loop\n",
      "The slowest run took 5.20 times longer than the fastest. This could mean that an intermediate result is being cached.\n",
      "100000 loops, best of 3: 2.56 µs per loop\n",
      "\n",
      "Better\n",
      "The slowest run took 7.99 times longer than the fastest. This could mean that an intermediate result is being cached.\n",
      "100000 loops, best of 3: 2.49 µs per loop\n",
      "The slowest run took 4.63 times longer than the fastest. This could mean that an intermediate result is being cached.\n",
      "100000 loops, best of 3: 2.48 µs per loop\n",
      "The slowest run took 4.58 times longer than the fastest. This could mean that an intermediate result is being cached.\n",
      "100000 loops, best of 3: 2.48 µs per loop\n",
      "The slowest run took 5.18 times longer than the fastest. This could mean that an intermediate result is being cached.\n",
      "100000 loops, best of 3: 2.48 µs per loop\n",
      "The slowest run took 5.06 times longer than the fastest. This could mean that an intermediate result is being cached.\n",
      "100000 loops, best of 3: 2.51 µs per loop\n",
      "The slowest run took 4.81 times longer than the fastest. This could mean that an intermediate result is being cached.\n",
      "100000 loops, best of 3: 2.53 µs per loop\n"
     ]
    }
   ],
   "source": [
    "# Dots matter (marginally)\n",
    "for choice in ['Bad', 'Better']:   \n",
    "    if choice is 'Bad':\n",
    "        print('Bad')\n",
    "        newlist = []\n",
    "        for val in vals:\n",
    "            %timeit newlist.append(np.cumsum(val))\n",
    "    else:\n",
    "        print('\\nBetter')\n",
    "        newlist = []\n",
    "        cumsum = np.cumsum\n",
    "        append = newlist.append\n",
    "        for val in vals:\n",
    "            %timeit append(cumsum(val))"
   ]
  },
  {
   "cell_type": "code",
   "execution_count": 32,
   "metadata": {
    "collapsed": false
   },
   "outputs": [
    {
     "data": {
      "image/png": "[encoded data removed]",
      "text/plain": [
       "<matplotlib.figure.Figure at 0x118faceb8>"
      ]
     },
     "metadata": {},
     "output_type": "display_data"
    }
   ],
   "source": [
    "my_plot2([2.57, 2.53, 2.56, 2.59, 2.6, 2.56], [2.49, 2.48, 2.48, 2.48, 2.51, 2.53], \n",
    "         time1_name='dots', time2_name='no dots',\n",
    "         title=\"Dots\",\n",
    "         xlabel=\"log10(vals)\",\n",
    "         ylabel=\"log10(microseconds)\")"
   ]
  },
  {
   "cell_type": "markdown",
   "metadata": {},
   "source": [
    "## Links\n",
    "[4 Performance Optimization Tips For Faster Python Code](http://blog.hackerearth.com/4-Performance-Optimization-Tips-Faster-Python-Code)  \n",
    "[PythonSpeed Performance Tips](https://wiki.python.org/moin/PythonSpeed/PerformanceTips)  \n",
    "[6 Python Performance Tips](https://dzone.com/articles/6-python-performance-tips)"
   ]
  }
 ],
 "metadata": {
  "kernelspec": {
   "display_name": "py35",
   "language": "python",
   "name": "py35"
  },
  "language_info": {
   "codemirror_mode": {
    "name": "ipython",
    "version": 3
   },
   "file_extension": ".py",
   "mimetype": "text/x-python",
   "name": "python",
   "nbconvert_exporter": "python",
   "pygments_lexer": "ipython3",
   "version": "3.5.3"
  }
 },
 "nbformat": 4,
 "nbformat_minor": 2
}
