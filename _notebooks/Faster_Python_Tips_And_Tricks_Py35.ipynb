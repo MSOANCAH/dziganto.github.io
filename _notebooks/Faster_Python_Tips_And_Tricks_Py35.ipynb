{
 "cells": [
  {
   "cell_type": "markdown",
   "metadata": {},
   "source": [
    "---\n",
    "**This notebook uses the Python 3.5 kernel.**  \n",
    "\n",
    "---"
   ]
  },
  {
   "cell_type": "markdown",
   "metadata": {},
   "source": [
    "# Setup"
   ]
  },
  {
   "cell_type": "code",
   "execution_count": 1,
   "metadata": {
    "collapsed": true
   },
   "outputs": [],
   "source": [
    "%matplotlib inline\n",
    "import timeit\n",
    "import numpy as np\n",
    "import matplotlib.pyplot as plt\n",
    "import seaborn as sns"
   ]
  },
  {
   "cell_type": "code",
   "execution_count": 2,
   "metadata": {
    "collapsed": false
   },
   "outputs": [
    {
     "name": "stdout",
     "output_type": "stream",
     "text": [
      "NumPy   1.12.1\n",
      "Seaborn 0.7.1\n"
     ]
    }
   ],
   "source": [
    "print(\"NumPy   %s\" % np.__version__)\n",
    "print(\"Seaborn %s\" % sns.__version__)"
   ]
  },
  {
   "cell_type": "code",
   "execution_count": 3,
   "metadata": {
    "collapsed": false
   },
   "outputs": [
    {
     "data": {
      "text/plain": [
       "[0.3041924620001737,\n",
       " 0.2681176800006142,\n",
       " 0.3081923569998253,\n",
       " 0.298154414000237,\n",
       " 0.30037256900050124,\n",
       " 0.29443045900006837]"
      ]
     },
     "execution_count": 3,
     "metadata": {},
     "output_type": "execute_result"
    }
   ],
   "source": [
    "# Set values to expand lists\n",
    "vals = list(np.geomspace(10, 1000000, num=6, dtype='int'))\n",
    "\n",
    "# timeit example\n",
    "[timeit.timeit('range(%d)' % num) for num in vals]"
   ]
  },
  {
   "cell_type": "markdown",
   "metadata": {},
   "source": [
    "---"
   ]
  },
  {
   "cell_type": "markdown",
   "metadata": {},
   "source": [
    "# Plot Functions"
   ]
  },
  {
   "cell_type": "code",
   "execution_count": 4,
   "metadata": {
    "collapsed": true
   },
   "outputs": [],
   "source": [
    "def my_plot1(vals, slow_times, fast_times, title=\"\", ylabel=\"\", xlabel=\"\"):\n",
    "    '''\n",
    "    Function to plot slow vs fast times with legend.\n",
    "    '''\n",
    "    plt.plot(np.log10(vals), slow_times);\n",
    "    plt.plot(np.log10(vals), fast_times);\n",
    "    plt.title(title);\n",
    "    plt.xlabel(xlabel);\n",
    "    plt.ylabel(ylabel);\n",
    "    plt.xticks(range(1,6));\n",
    "    plt.legend(['slow', 'fast'])"
   ]
  },
  {
   "cell_type": "code",
   "execution_count": 5,
   "metadata": {
    "collapsed": true
   },
   "outputs": [],
   "source": [
    "def my_plot2(slow_times, fast_times, title=\"\", ylabel=\"\", xlabel=\"\"):\n",
    "    '''\n",
    "    Function to plot slow vs fast times with legend.\n",
    "    '''\n",
    "    # Setup\n",
    "    fig = plt.figure()\n",
    "    ax = fig.add_subplot(111)\n",
    "    ind = np.arange(6)                \n",
    "    width = 0.35\n",
    "    # Plots\n",
    "    bar1 = ax.bar(ind, slow_times, width, color='darkblue', log=True)\n",
    "    bar2 = ax.bar(ind+width, fast_times, width, color='darkgreen', log=True)\n",
    "    ax.legend( (bar1[0], bar2[0]), ('slow', 'fast') );\n",
    "    plt.title(title)\n",
    "    plt.xlabel(xlabel)\n",
    "    plt.ylabel(ylabel)"
   ]
  },
  {
   "cell_type": "markdown",
   "metadata": {},
   "source": [
    "---"
   ]
  },
  {
   "cell_type": "markdown",
   "metadata": {},
   "source": [
    "# Looping Over A Collection"
   ]
  },
  {
   "cell_type": "code",
   "execution_count": 6,
   "metadata": {
    "collapsed": false
   },
   "outputs": [
    {
     "name": "stdout",
     "output_type": "stream",
     "text": [
      "Bad\n",
      "100000 loops, best of 3: 4.04 µs per loop\n",
      "10000 loops, best of 3: 28.4 µs per loop\n",
      "1000 loops, best of 3: 282 µs per loop\n",
      "100 loops, best of 3: 2.94 ms per loop\n",
      "10 loops, best of 3: 29.7 ms per loop\n",
      "1 loop, best of 3: 303 ms per loop\n",
      "\n",
      "Better\n",
      "100000 loops, best of 3: 2.13 µs per loop\n",
      "100000 loops, best of 3: 12.8 µs per loop\n",
      "10000 loops, best of 3: 106 µs per loop\n",
      "1000 loops, best of 3: 1.17 ms per loop\n",
      "100 loops, best of 3: 11.9 ms per loop\n",
      "10 loops, best of 3: 121 ms per loop\n"
     ]
    }
   ],
   "source": [
    "# Looping over a collection\n",
    "for choice in ['Bad', 'Better']:   \n",
    "    if choice is 'Bad':\n",
    "        print('Bad')\n",
    "        for val in vals:\n",
    "            colors = ['red', 'green', 'blue', 'yellow']*val\n",
    "            %timeit [colors[i] for i in range(len(colors))]        \n",
    "    else:\n",
    "        print('\\nBetter')\n",
    "        for val in vals:\n",
    "            colors = ['red', 'green', 'blue', 'yellow']*val\n",
    "            %timeit [color for color in colors]"
   ]
  },
  {
   "cell_type": "code",
   "execution_count": 7,
   "metadata": {
    "collapsed": true
   },
   "outputs": [],
   "source": [
    "def slow_collection():\n",
    "    out = [timeit.timeit(\"[colors[i] for i in range(len(colors))]\",\n",
    "                         \"colors = ('red', 'green', 'blue', 'yellow')*%d\" % val, number=10) for val in vals]\n",
    "    return [i*10e4 for i in out] # for ms\n",
    "def fast_collection():\n",
    "    out = [timeit.timeit(\"[color for color in colors]\",\n",
    "                         \"colors = ('red', 'green', 'blue', 'yellow')*%d\" % val, number=10) for val in vals]\n",
    "    return [i*10e4 for i in out] # for ms"
   ]
  },
  {
   "cell_type": "code",
   "execution_count": 8,
   "metadata": {
    "collapsed": true
   },
   "outputs": [],
   "source": [
    "sc = slow_collection()\n",
    "fc = fast_collection()"
   ]
  },
  {
   "cell_type": "code",
   "execution_count": 9,
   "metadata": {
    "collapsed": false
   },
   "outputs": [
    {
     "data": {
      "image/png": "[encoded data removed]",
      "text/plain": [
       "<matplotlib.figure.Figure at 0x119434ef0>"
      ]
     },
     "metadata": {},
     "output_type": "display_data"
    }
   ],
   "source": [
    "my_plot1(vals, sc, fc, \n",
    "        title=\"Looping Over A Collection\", \n",
    "        xlabel=\"log10(vals)\", \n",
    "        ylabel=\"microseconds\")"
   ]
  },
  {
   "cell_type": "code",
   "execution_count": 10,
   "metadata": {
    "collapsed": false
   },
   "outputs": [
    {
     "data": {
      "image/png": "[encoded data removed]",
      "text/plain": [
       "<matplotlib.figure.Figure at 0x1194addd8>"
      ]
     },
     "metadata": {},
     "output_type": "display_data"
    }
   ],
   "source": [
    "my_plot1(vals, np.log10(sc), np.log10(fc), \n",
    "        title=\"Looping Over A Collection\", \n",
    "        xlabel=\"log10(vals)\", \n",
    "        ylabel=\"log10(microseconds)\")"
   ]
  },
  {
   "cell_type": "code",
   "execution_count": 11,
   "metadata": {
    "collapsed": false
   },
   "outputs": [
    {
     "data": {
      "image/png": "[encoded data removed]",
      "text/plain": [
       "<matplotlib.figure.Figure at 0x119bba940>"
      ]
     },
     "metadata": {},
     "output_type": "display_data"
    }
   ],
   "source": [
    "my_plot2(sc, fc, title=\"Looping Over A Collection\", \n",
    "         xlabel='log(vals)', \n",
    "         ylabel=\"log(microseconds)\")"
   ]
  },
  {
   "cell_type": "markdown",
   "metadata": {},
   "source": [
    "---"
   ]
  },
  {
   "cell_type": "markdown",
   "metadata": {},
   "source": [
    "# Sorting Lists"
   ]
  },
  {
   "cell_type": "code",
   "execution_count": 12,
   "metadata": {
    "collapsed": false
   },
   "outputs": [
    {
     "name": "stdout",
     "output_type": "stream",
     "text": [
      "range\n",
      "100000 loops, best of 3: 3.86 µs per loop\n",
      "10000 loops, best of 3: 27.3 µs per loop\n",
      "1000 loops, best of 3: 261 µs per loop\n",
      "100 loops, best of 3: 2.86 ms per loop\n",
      "10 loops, best of 3: 28.9 ms per loop\n",
      "1 loop, best of 3: 288 ms per loop\n",
      "\n",
      "reversed\n",
      "100000 loops, best of 3: 2.42 µs per loop\n",
      "100000 loops, best of 3: 13.7 µs per loop\n",
      "10000 loops, best of 3: 111 µs per loop\n",
      "1000 loops, best of 3: 1.18 ms per loop\n",
      "100 loops, best of 3: 11.8 ms per loop\n",
      "10 loops, best of 3: 122 ms per loop\n"
     ]
    }
   ],
   "source": [
    "# Sorting lists\n",
    "for choice in ['range', 'reversed']:   \n",
    "    if choice is 'range':\n",
    "        print('range')\n",
    "        for val in vals:\n",
    "            colors = ['red', 'green', 'blue', 'yellow']*val\n",
    "            %timeit [colors[i] for i in range(len(colors)-1, -1, -1)]     \n",
    "    else:\n",
    "        print('\\nreversed')\n",
    "        for val in vals:\n",
    "            colors = ['red', 'green', 'blue', 'yellow']*val\n",
    "            %timeit [color for color in reversed(colors)]"
   ]
  },
  {
   "cell_type": "code",
   "execution_count": 13,
   "metadata": {
    "collapsed": true
   },
   "outputs": [],
   "source": [
    "def slow_sort():\n",
    "    out = [timeit.timeit(\"[colors[i] for i in range(len(colors)-1, -1, -1)]\",\n",
    "                         \"colors = ('red', 'green', 'blue', 'yellow')*%d\" % val, number=10) for val in vals]\n",
    "    return [i*10e4 for i in out] # for ms\n",
    "def fast_sort():\n",
    "    out = [timeit.timeit(\"[color for color in reversed(colors)]\",\n",
    "                         \"colors = ('red', 'green', 'blue', 'yellow')*%d\" % val, number=10) for val in vals]\n",
    "    return [i*10e4 for i in out] # for ms"
   ]
  },
  {
   "cell_type": "code",
   "execution_count": 14,
   "metadata": {
    "collapsed": true
   },
   "outputs": [],
   "source": [
    "ss = slow_sort()\n",
    "fs = fast_sort()"
   ]
  },
  {
   "cell_type": "code",
   "execution_count": 15,
   "metadata": {
    "collapsed": false
   },
   "outputs": [
    {
     "data": {
      "image/png": "[encoded data removed]",
      "text/plain": [
       "<matplotlib.figure.Figure at 0x12100f9b0>"
      ]
     },
     "metadata": {},
     "output_type": "display_data"
    }
   ],
   "source": [
    "my_plot2(ss, fs, \n",
    "        title=\"Reversing A List\", \n",
    "        xlabel=\"log10(vals)\", \n",
    "        ylabel=\"log10(microseconds)\")"
   ]
  },
  {
   "cell_type": "markdown",
   "metadata": {},
   "source": [
    "---"
   ]
  },
  {
   "cell_type": "markdown",
   "metadata": {},
   "source": [
    "# Looping Over A Collection & Indices"
   ]
  },
  {
   "cell_type": "code",
   "execution_count": 16,
   "metadata": {
    "collapsed": false,
    "scrolled": true
   },
   "outputs": [
    {
     "name": "stdout",
     "output_type": "stream",
     "text": [
      "range\n",
      "100000 loops, best of 3: 4.88 µs per loop\n",
      "10000 loops, best of 3: 38.7 µs per loop\n",
      "1000 loops, best of 3: 426 µs per loop\n",
      "100 loops, best of 3: 5.02 ms per loop\n",
      "10 loops, best of 3: 65.3 ms per loop\n",
      "1 loop, best of 3: 669 ms per loop\n",
      "\n",
      "enumerate\n",
      "100000 loops, best of 3: 5.24 µs per loop\n",
      "10000 loops, best of 3: 44.1 µs per loop\n",
      "1000 loops, best of 3: 486 µs per loop\n",
      "100 loops, best of 3: 5.58 ms per loop\n",
      "10 loops, best of 3: 72.9 ms per loop\n",
      "1 loop, best of 3: 743 ms per loop\n"
     ]
    }
   ],
   "source": [
    "# Looping over a collection and indices\n",
    "for choice in ['range', 'enumerate']:   \n",
    "    if choice is 'range':\n",
    "        print('range')\n",
    "        for val in vals:\n",
    "            colors = ['red', 'green', 'blue', 'yellow']*val\n",
    "            %timeit [(i, colors[i]) for i in range(len(colors))]\n",
    "        \n",
    "    else:\n",
    "        print('\\nenumerate')\n",
    "        for val in vals:\n",
    "            colors = ['red', 'green', 'blue', 'yellow']*val\n",
    "            %timeit [(i, colors[i]) for i, color in enumerate(colors)]"
   ]
  },
  {
   "cell_type": "code",
   "execution_count": 17,
   "metadata": {
    "collapsed": true
   },
   "outputs": [],
   "source": [
    "def slow_collection_indices():\n",
    "    out = [timeit.timeit(\"[(i, colors[i]) for i in range(len(colors))]\",\n",
    "                         \"colors = ('red', 'green', 'blue', 'yellow')*%d\" % val, number=10) for val in vals]\n",
    "    return [i*10e4 for i in out] # for ms\n",
    "def fast_collection_indices():\n",
    "    out = [timeit.timeit(\"[(i, colors[i]) for i, color in enumerate(colors)]\",\n",
    "                         \"colors = ('red', 'green', 'blue', 'yellow')*%d\" % val, number=10) for val in vals]\n",
    "    return [i*10e4 for i in out] # for ms"
   ]
  },
  {
   "cell_type": "code",
   "execution_count": 18,
   "metadata": {
    "collapsed": true
   },
   "outputs": [],
   "source": [
    "sci = slow_collection_indices()\n",
    "fci = fast_collection_indices()"
   ]
  },
  {
   "cell_type": "code",
   "execution_count": 19,
   "metadata": {
    "collapsed": false
   },
   "outputs": [
    {
     "data": {
      "image/png": "[encoded data removed]",
      "text/plain": [
       "<matplotlib.figure.Figure at 0x119ab79e8>"
      ]
     },
     "metadata": {},
     "output_type": "display_data"
    }
   ],
   "source": [
    "my_plot2(sci, fci, \n",
    "        title=\"Looping Over A Collection & Indices\", \n",
    "        xlabel=\"log10(vals)\", \n",
    "        ylabel=\"log10(microseconds)\")"
   ]
  },
  {
   "cell_type": "markdown",
   "metadata": {},
   "source": [
    "---"
   ]
  },
  {
   "cell_type": "markdown",
   "metadata": {},
   "source": [
    "# Looping Over Two Collections"
   ]
  },
  {
   "cell_type": "code",
   "execution_count": 20,
   "metadata": {
    "collapsed": false
   },
   "outputs": [
    {
     "name": "stdout",
     "output_type": "stream",
     "text": [
      "range\n",
      "100000 loops, best of 3: 6.38 µs per loop\n",
      "10000 loops, best of 3: 52.6 µs per loop\n",
      "1000 loops, best of 3: 554 µs per loop\n",
      "100 loops, best of 3: 6.13 ms per loop\n",
      "10 loops, best of 3: 70.9 ms per loop\n",
      "1 loop, best of 3: 735 ms per loop\n",
      "\n",
      "zip\n",
      "100000 loops, best of 3: 4.19 µs per loop\n",
      "10000 loops, best of 3: 31.5 µs per loop\n",
      "1000 loops, best of 3: 332 µs per loop\n",
      "100 loops, best of 3: 3.71 ms per loop\n",
      "10 loops, best of 3: 46.5 ms per loop\n",
      "1 loop, best of 3: 496 ms per loop\n"
     ]
    }
   ],
   "source": [
    "# Loop over two collections\n",
    "for choice in ['range', 'zip']:   \n",
    "    if choice is 'range':\n",
    "        print('range')\n",
    "        for val in vals:\n",
    "            colors = ['red', 'green', 'blue', 'yellow']*val\n",
    "            names = list('abcd')*val\n",
    "            %timeit [(names[i], colors[i]) for i in range(min(len(names), len(colors)))]\n",
    "    else:\n",
    "        print('\\nzip')\n",
    "        for val in vals:\n",
    "            colors = ['red', 'green', 'blue', 'yellow']*val\n",
    "            names = list('abcd')*val\n",
    "            %timeit [(name, color) for name, color in zip(names, colors)]"
   ]
  },
  {
   "cell_type": "markdown",
   "metadata": {},
   "source": [
    "---"
   ]
  },
  {
   "cell_type": "markdown",
   "metadata": {},
   "source": [
    "# Appending Strings"
   ]
  },
  {
   "cell_type": "code",
   "execution_count": 21,
   "metadata": {
    "collapsed": false
   },
   "outputs": [
    {
     "name": "stdout",
     "output_type": "stream",
     "text": [
      "+=\n",
      "CPU times: user 52 µs, sys: 0 ns, total: 52 µs\n",
      "Wall time: 54.8 µs\n",
      "CPU times: user 795 µs, sys: 13 µs, total: 808 µs\n",
      "Wall time: 850 µs\n",
      "CPU times: user 6.1 ms, sys: 164 µs, total: 6.26 ms\n",
      "Wall time: 6.21 ms\n",
      "CPU times: user 66.1 ms, sys: 1.62 ms, total: 67.7 ms\n",
      "Wall time: 67.9 ms\n",
      "CPU times: user 595 ms, sys: 3.31 ms, total: 598 ms\n",
      "Wall time: 599 ms\n",
      "CPU times: user 5.92 s, sys: 20 ms, total: 5.94 s\n",
      "Wall time: 5.95 s\n",
      "\n",
      ".join\n",
      "CPU times: user 23 µs, sys: 1.31 ms, total: 1.33 ms\n",
      "Wall time: 1.33 ms\n",
      "CPU times: user 105 µs, sys: 1e+03 ns, total: 106 µs\n",
      "Wall time: 107 µs\n",
      "CPU times: user 956 µs, sys: 4 µs, total: 960 µs\n",
      "Wall time: 962 µs\n",
      "CPU times: user 9.05 ms, sys: 643 µs, total: 9.7 ms\n",
      "Wall time: 10.1 ms\n",
      "CPU times: user 95.1 ms, sys: 9.93 ms, total: 105 ms\n",
      "Wall time: 105 ms\n",
      "CPU times: user 955 ms, sys: 103 ms, total: 1.06 s\n",
      "Wall time: 1.06 s\n"
     ]
    }
   ],
   "source": [
    "# Appending Strings\n",
    "my_string = \"\"\n",
    "for choice in ['Bad', 'Better']:   \n",
    "    if choice is 'Bad':\n",
    "        print('+=')\n",
    "        for val in vals:\n",
    "            mylist = list('abcdefghijklmnopqrstuvwxyz')*val\n",
    "            %time for item in mylist: my_string += item\n",
    "    else:\n",
    "        print('\\n.join')\n",
    "        for val in vals:\n",
    "            mylist = list('abcdefghijklmnopqrstuvwxyz')*val\n",
    "            %time my_string = \"\".join([item for item in mylist])"
   ]
  },
  {
   "cell_type": "markdown",
   "metadata": {},
   "source": [
    "---"
   ]
  },
  {
   "cell_type": "markdown",
   "metadata": {},
   "source": [
    "# Using Standard Library"
   ]
  },
  {
   "cell_type": "code",
   "execution_count": 22,
   "metadata": {
    "collapsed": false
   },
   "outputs": [
    {
     "name": "stdout",
     "output_type": "stream",
     "text": [
      "listexp\n",
      "10000 loops, best of 3: 59.5 µs per loop\n",
      "1000 loops, best of 3: 598 µs per loop\n",
      "100 loops, best of 3: 5.85 ms per loop\n",
      "10 loops, best of 3: 58.3 ms per loop\n",
      "1 loop, best of 3: 580 ms per loop\n",
      "1 loop, best of 3: 5.86 s per loop\n",
      "\n",
      "map\n",
      "The slowest run took 4.91 times longer than the fastest. This could mean that an intermediate result is being cached.\n",
      "1000000 loops, best of 3: 535 ns per loop\n",
      "1000000 loops, best of 3: 517 ns per loop\n",
      "1000000 loops, best of 3: 590 ns per loop\n",
      "1000000 loops, best of 3: 588 ns per loop\n",
      "1000000 loops, best of 3: 598 ns per loop\n",
      "1000000 loops, best of 3: 591 ns per loop\n"
     ]
    }
   ],
   "source": [
    "# Standard Library\n",
    "\n",
    "for choice in ['listexp', 'map']:   \n",
    "    if choice is 'listexp':\n",
    "        print('listexp')\n",
    "        for val in vals:\n",
    "            %timeit [np.cumsum(item) for item in range(val)]\n",
    "    else:\n",
    "        print('\\nmap')\n",
    "        for val in vals:\n",
    "            %timeit newlist = map(np.cumsum, range(val))"
   ]
  },
  {
   "cell_type": "markdown",
   "metadata": {},
   "source": [
    "---"
   ]
  },
  {
   "cell_type": "markdown",
   "metadata": {},
   "source": [
    "# Listexp vs Genexp"
   ]
  },
  {
   "cell_type": "code",
   "execution_count": 23,
   "metadata": {
    "collapsed": false
   },
   "outputs": [
    {
     "name": "stdout",
     "output_type": "stream",
     "text": [
      "listexp\n",
      "10000 loops, best of 3: 58.5 µs per loop\n",
      "1000 loops, best of 3: 590 µs per loop\n",
      "100 loops, best of 3: 5.92 ms per loop\n",
      "10 loops, best of 3: 58.3 ms per loop\n",
      "1 loop, best of 3: 590 ms per loop\n",
      "1 loop, best of 3: 6 s per loop\n",
      "\n",
      "genexp\n",
      "1000000 loops, best of 3: 661 ns per loop\n",
      "1000000 loops, best of 3: 668 ns per loop\n",
      "1000000 loops, best of 3: 715 ns per loop\n",
      "1000000 loops, best of 3: 701 ns per loop\n",
      "1000000 loops, best of 3: 701 ns per loop\n",
      "1000000 loops, best of 3: 722 ns per loop\n"
     ]
    }
   ],
   "source": [
    "# listexp vs genexp\n",
    "\n",
    "for choice in ['listexp', 'genexp']:   \n",
    "    if choice is 'listexp':\n",
    "        print('listexp')\n",
    "        for val in vals:\n",
    "            %timeit [np.cumsum(item) for item in range(val)] # list expression\n",
    "    else:\n",
    "        print('\\ngenexp')\n",
    "        for val in vals:\n",
    "            %timeit (np.cumsum(item) for item in range(val)) # generator expression"
   ]
  },
  {
   "cell_type": "markdown",
   "metadata": {},
   "source": [
    "---"
   ]
  },
  {
   "cell_type": "markdown",
   "metadata": {},
   "source": [
    "# Dots"
   ]
  },
  {
   "cell_type": "code",
   "execution_count": 24,
   "metadata": {
    "collapsed": false
   },
   "outputs": [
    {
     "name": "stdout",
     "output_type": "stream",
     "text": [
      "Bad\n",
      "The slowest run took 11.25 times longer than the fastest. This could mean that an intermediate result is being cached.\n",
      "100000 loops, best of 3: 2.57 µs per loop\n",
      "The slowest run took 5.35 times longer than the fastest. This could mean that an intermediate result is being cached.\n",
      "100000 loops, best of 3: 2.53 µs per loop\n",
      "The slowest run took 4.75 times longer than the fastest. This could mean that an intermediate result is being cached.\n",
      "100000 loops, best of 3: 2.56 µs per loop\n",
      "The slowest run took 4.57 times longer than the fastest. This could mean that an intermediate result is being cached.\n",
      "100000 loops, best of 3: 2.59 µs per loop\n",
      "The slowest run took 4.88 times longer than the fastest. This could mean that an intermediate result is being cached.\n",
      "100000 loops, best of 3: 2.6 µs per loop\n",
      "The slowest run took 5.20 times longer than the fastest. This could mean that an intermediate result is being cached.\n",
      "100000 loops, best of 3: 2.56 µs per loop\n",
      "\n",
      "Better\n",
      "The slowest run took 7.99 times longer than the fastest. This could mean that an intermediate result is being cached.\n",
      "100000 loops, best of 3: 2.49 µs per loop\n",
      "The slowest run took 4.63 times longer than the fastest. This could mean that an intermediate result is being cached.\n",
      "100000 loops, best of 3: 2.48 µs per loop\n",
      "The slowest run took 4.58 times longer than the fastest. This could mean that an intermediate result is being cached.\n",
      "100000 loops, best of 3: 2.48 µs per loop\n",
      "The slowest run took 5.18 times longer than the fastest. This could mean that an intermediate result is being cached.\n",
      "100000 loops, best of 3: 2.48 µs per loop\n",
      "The slowest run took 5.06 times longer than the fastest. This could mean that an intermediate result is being cached.\n",
      "100000 loops, best of 3: 2.51 µs per loop\n",
      "The slowest run took 4.81 times longer than the fastest. This could mean that an intermediate result is being cached.\n",
      "100000 loops, best of 3: 2.53 µs per loop\n"
     ]
    }
   ],
   "source": [
    "# Dots matter (marginally)\n",
    "for choice in ['Bad', 'Better']:   \n",
    "    if choice is 'Bad':\n",
    "        print('Bad')\n",
    "        newlist = []\n",
    "        for val in vals:\n",
    "            %timeit newlist.append(np.cumsum(val))\n",
    "    else:\n",
    "        print('\\nBetter')\n",
    "        newlist = []\n",
    "        cumsum = np.cumsum\n",
    "        append = newlist.append\n",
    "        for val in vals:\n",
    "            %timeit append(cumsum(val))"
   ]
  },
  {
   "cell_type": "markdown",
   "metadata": {},
   "source": [
    "## Links\n",
    "[4 Performance Optimization Tips For Faster Python Code](http://blog.hackerearth.com/4-Performance-Optimization-Tips-Faster-Python-Code)  \n",
    "[PythonSpeed Performance Tips](https://wiki.python.org/moin/PythonSpeed/PerformanceTips)  \n",
    "[6 Python Performance Tips](https://dzone.com/articles/6-python-performance-tips)"
   ]
  }
 ],
 "metadata": {
  "kernelspec": {
   "display_name": "py35",
   "language": "python",
   "name": "py35"
  },
  "language_info": {
   "codemirror_mode": {
    "name": "ipython",
    "version": 3
   },
   "file_extension": ".py",
   "mimetype": "text/x-python",
   "name": "python",
   "nbconvert_exporter": "python",
   "pygments_lexer": "ipython3",
   "version": "3.5.3"
  }
 },
 "nbformat": 4,
 "nbformat_minor": 2
}
