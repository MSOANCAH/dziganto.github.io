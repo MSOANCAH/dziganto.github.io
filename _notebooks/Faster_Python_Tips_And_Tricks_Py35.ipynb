{
 "cells": [
  {
   "cell_type": "markdown",
   "metadata": {},
   "source": [
    "---\n",
    "**This notebook uses the Python 3.5 kernel.**  \n",
    "\n",
    "---"
   ]
  },
  {
   "cell_type": "markdown",
   "metadata": {},
   "source": [
    "# Setup"
   ]
  },
  {
   "cell_type": "code",
   "execution_count": 1,
   "metadata": {
    "collapsed": true
   },
   "outputs": [],
   "source": [
    "%matplotlib inline\n",
    "import timeit\n",
    "import numpy as np\n",
    "import matplotlib.pyplot as plt\n",
    "import seaborn as sns"
   ]
  },
  {
   "cell_type": "code",
   "execution_count": 2,
   "metadata": {
    "collapsed": false
   },
   "outputs": [
    {
     "name": "stdout",
     "output_type": "stream",
     "text": [
      "NumPy   1.12.1\n",
      "Seaborn 0.7.1\n"
     ]
    }
   ],
   "source": [
    "print(\"NumPy   %s\" % np.__version__)\n",
    "print(\"Seaborn %s\" % sns.__version__)"
   ]
  },
  {
   "cell_type": "code",
   "execution_count": 3,
   "metadata": {
    "collapsed": false
   },
   "outputs": [
    {
     "data": {
      "text/plain": [
       "[0.47897576699870115,\n",
       " 0.3278958499995497,\n",
       " 0.3077064409990271,\n",
       " 0.3326416620002419,\n",
       " 0.32053259600070305,\n",
       " 0.3064402780000819]"
      ]
     },
     "execution_count": 3,
     "metadata": {},
     "output_type": "execute_result"
    }
   ],
   "source": [
    "# Set values to expand lists\n",
    "vals = list(np.geomspace(10, 1000000, num=6, dtype='int'))\n",
    "\n",
    "# timeit example\n",
    "[timeit.timeit('range(%d)' % num) for num in vals]"
   ]
  },
  {
   "cell_type": "markdown",
   "metadata": {},
   "source": [
    "---"
   ]
  },
  {
   "cell_type": "markdown",
   "metadata": {},
   "source": [
    "# Plot Functions"
   ]
  },
  {
   "cell_type": "code",
   "execution_count": 4,
   "metadata": {
    "collapsed": true
   },
   "outputs": [],
   "source": [
    "def my_plot1(vals, slow_times, fast_times, title=\"\", ylabel=\"\", xlabel=\"\"):\n",
    "    '''\n",
    "    Function to plot slow vs fast times with legend.\n",
    "    '''\n",
    "    plt.plot(np.log10(vals), slow_times);\n",
    "    plt.plot(np.log10(vals), fast_times);\n",
    "    plt.title(title);\n",
    "    plt.xlabel(xlabel);\n",
    "    plt.ylabel(ylabel);\n",
    "    plt.xticks(range(1,6));\n",
    "    plt.legend(['slow', 'fast'])"
   ]
  },
  {
   "cell_type": "code",
   "execution_count": 5,
   "metadata": {
    "collapsed": true
   },
   "outputs": [],
   "source": [
    "def my_plot2(slow_times, fast_times, title=\"\", ylabel=\"\", xlabel=\"\"):\n",
    "    '''\n",
    "    Function to plot slow vs fast times with legend.\n",
    "    '''\n",
    "    # Setup\n",
    "    fig = plt.figure()\n",
    "    ax = fig.add_subplot(111)\n",
    "    ind = np.arange(6)                \n",
    "    width = 0.35\n",
    "    # Plots\n",
    "    bar1 = ax.bar(ind, slow_times, width, color='darkblue', log=True)\n",
    "    bar2 = ax.bar(ind+width, fast_times, width, color='darkgreen', log=True)\n",
    "    ax.legend( (bar1[0], bar2[0]), ('slow', 'fast') );\n",
    "    plt.title(title)\n",
    "    plt.xlabel(xlabel)\n",
    "    plt.ylabel(ylabel)"
   ]
  },
  {
   "cell_type": "markdown",
   "metadata": {},
   "source": [
    "---"
   ]
  },
  {
   "cell_type": "markdown",
   "metadata": {},
   "source": [
    "# Looping Over A Collection"
   ]
  },
  {
   "cell_type": "code",
   "execution_count": 6,
   "metadata": {
    "collapsed": false
   },
   "outputs": [
    {
     "name": "stdout",
     "output_type": "stream",
     "text": [
      "Bad\n",
      "100000 loops, best of 3: 3.97 µs per loop\n",
      "10000 loops, best of 3: 26.9 µs per loop\n",
      "1000 loops, best of 3: 270 µs per loop\n",
      "100 loops, best of 3: 2.78 ms per loop\n",
      "10 loops, best of 3: 27.7 ms per loop\n",
      "1 loop, best of 3: 287 ms per loop\n",
      "\n",
      "Better\n",
      "100000 loops, best of 3: 2.36 µs per loop\n",
      "100000 loops, best of 3: 12.9 µs per loop\n",
      "10000 loops, best of 3: 105 µs per loop\n",
      "1000 loops, best of 3: 1.22 ms per loop\n",
      "100 loops, best of 3: 12 ms per loop\n",
      "10 loops, best of 3: 121 ms per loop\n"
     ]
    }
   ],
   "source": [
    "# Looping over a collection\n",
    "for choice in ['Bad', 'Better']:   \n",
    "    if choice is 'Bad':\n",
    "        print('Bad')\n",
    "        for val in vals:\n",
    "            colors = ['red', 'green', 'blue', 'yellow']*val\n",
    "            %timeit [colors[i] for i in range(len(colors))]        \n",
    "    else:\n",
    "        print('\\nBetter')\n",
    "        for val in vals:\n",
    "            colors = ['red', 'green', 'blue', 'yellow']*val\n",
    "            %timeit [color for color in colors]"
   ]
  },
  {
   "cell_type": "code",
   "execution_count": 7,
   "metadata": {
    "collapsed": true
   },
   "outputs": [],
   "source": [
    "def slow_collection():\n",
    "    out = [timeit.timeit(\"[colors[i] for i in range(len(colors))]\",\n",
    "                         \"colors = ('red', 'green', 'blue', 'yellow')*%d\" % val, number=10) for val in vals]\n",
    "    return [i*10e4 for i in out] # for ms\n",
    "def fast_collection():\n",
    "    out = [timeit.timeit(\"[color for color in colors]\",\n",
    "                         \"colors = ('red', 'green', 'blue', 'yellow')*%d\" % val, number=10) for val in vals]\n",
    "    return [i*10e4 for i in out] # for ms"
   ]
  },
  {
   "cell_type": "code",
   "execution_count": 8,
   "metadata": {
    "collapsed": true
   },
   "outputs": [],
   "source": [
    "sc = slow_collection()\n",
    "fc = fast_collection()"
   ]
  },
  {
   "cell_type": "code",
   "execution_count": 9,
   "metadata": {
    "collapsed": false
   },
   "outputs": [
    {
     "data": {
      "image/png": "[encoded data removed]",
      "text/plain": [
       "<matplotlib.figure.Figure at 0x110f24ef0>"
      ]
     },
     "metadata": {},
     "output_type": "display_data"
    }
   ],
   "source": [
    "my_plot1(vals, sc, fc, \n",
    "        title=\"Looping Over A Collection\", \n",
    "        xlabel=\"log10(vals)\", \n",
    "        ylabel=\"microseconds\")"
   ]
  },
  {
   "cell_type": "code",
   "execution_count": 10,
   "metadata": {
    "collapsed": false
   },
   "outputs": [
    {
     "data": {
      "image/png": "[encoded data removed]",
      "text/plain": [
       "<matplotlib.figure.Figure at 0x110f907f0>"
      ]
     },
     "metadata": {},
     "output_type": "display_data"
    }
   ],
   "source": [
    "my_plot1(vals, np.log10(sc), np.log10(fc), \n",
    "        title=\"Looping Over A Collection\", \n",
    "        xlabel=\"log10(vals)\", \n",
    "        ylabel=\"log10(microseconds)\")"
   ]
  },
  {
   "cell_type": "code",
   "execution_count": 11,
   "metadata": {
    "collapsed": false
   },
   "outputs": [
    {
     "data": {
      "image/png": "[encoded data removed]",
      "text/plain": [
       "<matplotlib.figure.Figure at 0x1184c3978>"
      ]
     },
     "metadata": {},
     "output_type": "display_data"
    }
   ],
   "source": [
    "my_plot2(sc, fc, title=\"Looping Over A Collection\", \n",
    "         xlabel='log(vals)', \n",
    "         ylabel=\"log(microseconds)\")"
   ]
  },
  {
   "cell_type": "markdown",
   "metadata": {},
   "source": [
    "---"
   ]
  },
  {
   "cell_type": "markdown",
   "metadata": {},
   "source": [
    "# Sorting Lists"
   ]
  },
  {
   "cell_type": "code",
   "execution_count": 12,
   "metadata": {
    "collapsed": false
   },
   "outputs": [
    {
     "name": "stdout",
     "output_type": "stream",
     "text": [
      "range\n",
      "100000 loops, best of 3: 3.85 µs per loop\n",
      "10000 loops, best of 3: 27.2 µs per loop\n",
      "1000 loops, best of 3: 256 µs per loop\n",
      "100 loops, best of 3: 2.83 ms per loop\n",
      "10 loops, best of 3: 28.4 ms per loop\n",
      "1 loop, best of 3: 300 ms per loop\n",
      "\n",
      "reversed\n",
      "100000 loops, best of 3: 2.44 µs per loop\n",
      "100000 loops, best of 3: 14.5 µs per loop\n",
      "10000 loops, best of 3: 120 µs per loop\n",
      "1000 loops, best of 3: 1.52 ms per loop\n",
      "100 loops, best of 3: 13.9 ms per loop\n",
      "10 loops, best of 3: 141 ms per loop\n"
     ]
    }
   ],
   "source": [
    "# Sorting lists\n",
    "for choice in ['range', 'reversed']:   \n",
    "    if choice is 'range':\n",
    "        print('range')\n",
    "        for val in vals:\n",
    "            colors = ['red', 'green', 'blue', 'yellow']*val\n",
    "            %timeit [colors[i] for i in range(len(colors)-1, -1, -1)]     \n",
    "    else:\n",
    "        print('\\nreversed')\n",
    "        for val in vals:\n",
    "            colors = ['red', 'green', 'blue', 'yellow']*val\n",
    "            %timeit [color for color in reversed(colors)]"
   ]
  },
  {
   "cell_type": "code",
   "execution_count": 13,
   "metadata": {
    "collapsed": true
   },
   "outputs": [],
   "source": [
    "def slow_sort():\n",
    "    out = [timeit.timeit(\"[colors[i] for i in range(len(colors)-1, -1, -1)]\",\n",
    "                         \"colors = ('red', 'green', 'blue', 'yellow')*%d\" % val, number=10) for val in vals]\n",
    "    return [i*10e4 for i in out] # for ms\n",
    "def fast_sort():\n",
    "    out = [timeit.timeit(\"[color for color in reversed(colors)]\",\n",
    "                         \"colors = ('red', 'green', 'blue', 'yellow')*%d\" % val, number=10) for val in vals]\n",
    "    return [i*10e4 for i in out] # for ms"
   ]
  },
  {
   "cell_type": "code",
   "execution_count": 14,
   "metadata": {
    "collapsed": true
   },
   "outputs": [],
   "source": [
    "ss = slow_sort()\n",
    "fs = fast_sort()"
   ]
  },
  {
   "cell_type": "code",
   "execution_count": 15,
   "metadata": {
    "collapsed": false
   },
   "outputs": [
    {
     "data": {
      "image/png": "[encoded data removed]",
      "text/plain": [
       "<matplotlib.figure.Figure at 0x118ac6e10>"
      ]
     },
     "metadata": {},
     "output_type": "display_data"
    }
   ],
   "source": [
    "my_plot2(ss, fs, \n",
    "        title=\"Reversing A List\", \n",
    "        xlabel=\"log10(vals)\", \n",
    "        ylabel=\"log10(microseconds)\")"
   ]
  },
  {
   "cell_type": "markdown",
   "metadata": {},
   "source": [
    "---"
   ]
  },
  {
   "cell_type": "markdown",
   "metadata": {},
   "source": [
    "# Looping Over A Collection & Indices"
   ]
  },
  {
   "cell_type": "code",
   "execution_count": 16,
   "metadata": {
    "collapsed": false,
    "scrolled": true
   },
   "outputs": [
    {
     "name": "stdout",
     "output_type": "stream",
     "text": [
      "range\n",
      "100000 loops, best of 3: 5 µs per loop\n",
      "10000 loops, best of 3: 38.7 µs per loop\n",
      "1000 loops, best of 3: 457 µs per loop\n",
      "100 loops, best of 3: 5.08 ms per loop\n",
      "10 loops, best of 3: 71.9 ms per loop\n",
      "1 loop, best of 3: 707 ms per loop\n",
      "\n",
      "enumerate\n",
      "100000 loops, best of 3: 5.33 µs per loop\n",
      "10000 loops, best of 3: 43.7 µs per loop\n",
      "1000 loops, best of 3: 500 µs per loop\n",
      "100 loops, best of 3: 5.88 ms per loop\n",
      "10 loops, best of 3: 74.7 ms per loop\n",
      "1 loop, best of 3: 877 ms per loop\n"
     ]
    }
   ],
   "source": [
    "# Looping over a collection and indices\n",
    "for choice in ['range', 'enumerate']:   \n",
    "    if choice is 'range':\n",
    "        print('range')\n",
    "        for val in vals:\n",
    "            colors = ['red', 'green', 'blue', 'yellow']*val\n",
    "            %timeit [(i, colors[i]) for i in range(len(colors))]\n",
    "        \n",
    "    else:\n",
    "        print('\\nenumerate')\n",
    "        for val in vals:\n",
    "            colors = ['red', 'green', 'blue', 'yellow']*val\n",
    "            %timeit [(i, colors[i]) for i, color in enumerate(colors)]"
   ]
  },
  {
   "cell_type": "code",
   "execution_count": 17,
   "metadata": {
    "collapsed": true
   },
   "outputs": [],
   "source": [
    "def slow_collection_indices():\n",
    "    out = [timeit.timeit(\"[(i, colors[i]) for i in range(len(colors))]\",\n",
    "                         \"colors = ('red', 'green', 'blue', 'yellow')*%d\" % val, number=10) for val in vals]\n",
    "    return [i*10e4 for i in out] # for ms\n",
    "def fast_collection_indices():\n",
    "    out = [timeit.timeit(\"[(i, colors[i]) for i, color in enumerate(colors)]\",\n",
    "                         \"colors = ('red', 'green', 'blue', 'yellow')*%d\" % val, number=10) for val in vals]\n",
    "    return [i*10e4 for i in out] # for ms"
   ]
  },
  {
   "cell_type": "code",
   "execution_count": 18,
   "metadata": {
    "collapsed": true
   },
   "outputs": [],
   "source": [
    "sci = slow_collection_indices()\n",
    "fci = fast_collection_indices()"
   ]
  },
  {
   "cell_type": "code",
   "execution_count": 19,
   "metadata": {
    "collapsed": false
   },
   "outputs": [
    {
     "data": {
      "image/png": "[encoded data removed]",
      "text/plain": [
       "<matplotlib.figure.Figure at 0x110fa5470>"
      ]
     },
     "metadata": {},
     "output_type": "display_data"
    }
   ],
   "source": [
    "my_plot2(sci, fci, \n",
    "        title=\"Looping Over A Collection & Indices\", \n",
    "        xlabel=\"log10(vals)\", \n",
    "        ylabel=\"log10(microseconds)\")"
   ]
  },
  {
   "cell_type": "markdown",
   "metadata": {},
   "source": [
    "---"
   ]
  },
  {
   "cell_type": "markdown",
   "metadata": {},
   "source": [
    "# Looping Over Two Collections"
   ]
  },
  {
   "cell_type": "code",
   "execution_count": 20,
   "metadata": {
    "collapsed": false
   },
   "outputs": [
    {
     "name": "stdout",
     "output_type": "stream",
     "text": [
      "range\n",
      "100000 loops, best of 3: 7.55 µs per loop\n",
      "10000 loops, best of 3: 57.6 µs per loop\n",
      "1000 loops, best of 3: 613 µs per loop\n",
      "100 loops, best of 3: 7.66 ms per loop\n",
      "10 loops, best of 3: 78 ms per loop\n",
      "1 loop, best of 3: 843 ms per loop\n",
      "\n",
      "zip\n",
      "100000 loops, best of 3: 4.34 µs per loop\n",
      "10000 loops, best of 3: 32.5 µs per loop\n",
      "1000 loops, best of 3: 326 µs per loop\n",
      "100 loops, best of 3: 3.77 ms per loop\n",
      "10 loops, best of 3: 48.1 ms per loop\n",
      "1 loop, best of 3: 541 ms per loop\n"
     ]
    }
   ],
   "source": [
    "# Loop over two collections\n",
    "for choice in ['range', 'zip']:   \n",
    "    if choice is 'range':\n",
    "        print('range')\n",
    "        for val in vals:\n",
    "            colors = ['red', 'green', 'blue', 'yellow']*val\n",
    "            names = list('abcd')*val\n",
    "            %timeit [(names[i], colors[i]) for i in range(min(len(names), len(colors)))]\n",
    "    else:\n",
    "        print('\\nzip')\n",
    "        for val in vals:\n",
    "            colors = ['red', 'green', 'blue', 'yellow']*val\n",
    "            names = list('abcd')*val\n",
    "            %timeit [(name, color) for name, color in zip(names, colors)]"
   ]
  },
  {
   "cell_type": "markdown",
   "metadata": {},
   "source": [
    "---"
   ]
  },
  {
   "cell_type": "markdown",
   "metadata": {},
   "source": [
    "# Appending Strings"
   ]
  },
  {
   "cell_type": "code",
   "execution_count": 21,
   "metadata": {
    "collapsed": false
   },
   "outputs": [
    {
     "name": "stdout",
     "output_type": "stream",
     "text": [
      "+=\n",
      "CPU times: user 101 µs, sys: 4 µs, total: 105 µs\n",
      "Wall time: 115 µs\n",
      "CPU times: user 604 µs, sys: 0 ns, total: 604 µs\n",
      "Wall time: 609 µs\n",
      "CPU times: user 7.56 ms, sys: 422 µs, total: 7.98 ms\n",
      "Wall time: 7.87 ms\n",
      "CPU times: user 59.8 ms, sys: 1.08 ms, total: 60.9 ms\n",
      "Wall time: 61.9 ms\n",
      "CPU times: user 614 ms, sys: 5.48 ms, total: 620 ms\n",
      "Wall time: 623 ms\n",
      "CPU times: user 6.24 s, sys: 76.7 ms, total: 6.31 s\n",
      "Wall time: 6.43 s\n",
      "\n",
      ".join\n",
      "CPU times: user 24 µs, sys: 2.97 ms, total: 3 ms\n",
      "Wall time: 3 ms\n",
      "CPU times: user 99 µs, sys: 0 ns, total: 99 µs\n",
      "Wall time: 102 µs\n",
      "CPU times: user 888 µs, sys: 2 µs, total: 890 µs\n",
      "Wall time: 892 µs\n",
      "CPU times: user 9.46 ms, sys: 821 µs, total: 10.3 ms\n",
      "Wall time: 10.2 ms\n",
      "CPU times: user 96.8 ms, sys: 18.1 ms, total: 115 ms\n",
      "Wall time: 115 ms\n",
      "CPU times: user 939 ms, sys: 141 ms, total: 1.08 s\n",
      "Wall time: 1.08 s\n"
     ]
    }
   ],
   "source": [
    "# Appending Strings\n",
    "my_string = \"\"\n",
    "for choice in ['Bad', 'Better']:   \n",
    "    if choice is 'Bad':\n",
    "        print('+=')\n",
    "        for val in vals:\n",
    "            mylist = list('abcdefghijklmnopqrstuvwxyz')*val\n",
    "            %time for item in mylist: my_string += item\n",
    "    else:\n",
    "        print('\\n.join')\n",
    "        for val in vals:\n",
    "            mylist = list('abcdefghijklmnopqrstuvwxyz')*val\n",
    "            %time my_string = \"\".join([item for item in mylist])"
   ]
  },
  {
   "cell_type": "markdown",
   "metadata": {},
   "source": [
    "---"
   ]
  },
  {
   "cell_type": "markdown",
   "metadata": {},
   "source": [
    "# Using Standard Library"
   ]
  },
  {
   "cell_type": "code",
   "execution_count": 22,
   "metadata": {
    "collapsed": false
   },
   "outputs": [
    {
     "name": "stdout",
     "output_type": "stream",
     "text": [
      "listexp\n",
      "10000 loops, best of 3: 60 µs per loop\n",
      "1000 loops, best of 3: 693 µs per loop\n",
      "100 loops, best of 3: 5.97 ms per loop\n",
      "10 loops, best of 3: 58.9 ms per loop\n",
      "1 loop, best of 3: 585 ms per loop\n",
      "1 loop, best of 3: 5.93 s per loop\n",
      "\n",
      "map\n",
      "The slowest run took 6.09 times longer than the fastest. This could mean that an intermediate result is being cached.\n",
      "1000000 loops, best of 3: 511 ns per loop\n",
      "The slowest run took 4.17 times longer than the fastest. This could mean that an intermediate result is being cached.\n",
      "1000000 loops, best of 3: 517 ns per loop\n",
      "1000000 loops, best of 3: 588 ns per loop\n",
      "The slowest run took 4.03 times longer than the fastest. This could mean that an intermediate result is being cached.\n",
      "1000000 loops, best of 3: 565 ns per loop\n",
      "The slowest run took 5.32 times longer than the fastest. This could mean that an intermediate result is being cached.\n",
      "1000000 loops, best of 3: 554 ns per loop\n",
      "1000000 loops, best of 3: 554 ns per loop\n"
     ]
    }
   ],
   "source": [
    "# Standard Library\n",
    "\n",
    "for choice in ['listexp', 'map']:   \n",
    "    if choice is 'listexp':\n",
    "        print('listexp')\n",
    "        newlist = []\n",
    "        for val in vals:\n",
    "            %timeit [np.cumsum(item) for item in range(val)]\n",
    "    else:\n",
    "        print('\\nmap')\n",
    "        newlist = []\n",
    "        for val in vals:\n",
    "            %timeit newlist = map(np.cumsum, range(val))"
   ]
  },
  {
   "cell_type": "markdown",
   "metadata": {},
   "source": [
    "---"
   ]
  },
  {
   "cell_type": "markdown",
   "metadata": {},
   "source": [
    "# Listexp vs Genexp"
   ]
  },
  {
   "cell_type": "code",
   "execution_count": 23,
   "metadata": {
    "collapsed": false
   },
   "outputs": [
    {
     "name": "stdout",
     "output_type": "stream",
     "text": [
      "listexp\n",
      "10000 loops, best of 3: 59.3 µs per loop\n",
      "1000 loops, best of 3: 588 µs per loop\n",
      "100 loops, best of 3: 5.84 ms per loop\n",
      "10 loops, best of 3: 58.3 ms per loop\n",
      "1 loop, best of 3: 589 ms per loop\n",
      "1 loop, best of 3: 5.86 s per loop\n",
      "\n",
      "genexp\n",
      "1000000 loops, best of 3: 688 ns per loop\n",
      "1000000 loops, best of 3: 666 ns per loop\n",
      "1000000 loops, best of 3: 723 ns per loop\n",
      "The slowest run took 4.48 times longer than the fastest. This could mean that an intermediate result is being cached.\n",
      "1000000 loops, best of 3: 700 ns per loop\n",
      "1000000 loops, best of 3: 706 ns per loop\n",
      "1000000 loops, best of 3: 726 ns per loop\n"
     ]
    }
   ],
   "source": [
    "# listexp vs genexp\n",
    "\n",
    "for choice in ['listexp', 'genexp']:   \n",
    "    if choice is 'listexp':\n",
    "        print('listexp')\n",
    "        for val in vals:\n",
    "            %timeit [np.cumsum(item) for item in range(val)] # list expression\n",
    "    else:\n",
    "        print('\\ngenexp')\n",
    "        for val in vals:\n",
    "            %timeit (np.cumsum(item) for item in range(val)) # generator expression"
   ]
  },
  {
   "cell_type": "markdown",
   "metadata": {},
   "source": [
    "---"
   ]
  },
  {
   "cell_type": "markdown",
   "metadata": {},
   "source": [
    "# Dots"
   ]
  },
  {
   "cell_type": "code",
   "execution_count": 24,
   "metadata": {
    "collapsed": false
   },
   "outputs": [
    {
     "name": "stdout",
     "output_type": "stream",
     "text": [
      "Bad\n",
      "The slowest run took 8.95 times longer than the fastest. This could mean that an intermediate result is being cached.\n",
      "100000 loops, best of 3: 2.54 µs per loop\n",
      "The slowest run took 4.88 times longer than the fastest. This could mean that an intermediate result is being cached.\n",
      "100000 loops, best of 3: 2.57 µs per loop\n",
      "The slowest run took 4.94 times longer than the fastest. This could mean that an intermediate result is being cached.\n",
      "100000 loops, best of 3: 2.54 µs per loop\n",
      "The slowest run took 4.34 times longer than the fastest. This could mean that an intermediate result is being cached.\n",
      "100000 loops, best of 3: 2.56 µs per loop\n",
      "The slowest run took 7.85 times longer than the fastest. This could mean that an intermediate result is being cached.\n",
      "100000 loops, best of 3: 2.53 µs per loop\n",
      "The slowest run took 4.57 times longer than the fastest. This could mean that an intermediate result is being cached.\n",
      "100000 loops, best of 3: 2.53 µs per loop\n",
      "\n",
      "Better\n",
      "The slowest run took 13.02 times longer than the fastest. This could mean that an intermediate result is being cached.\n",
      "100000 loops, best of 3: 2.45 µs per loop\n",
      "The slowest run took 4.45 times longer than the fastest. This could mean that an intermediate result is being cached.\n",
      "100000 loops, best of 3: 2.62 µs per loop\n",
      "The slowest run took 4.50 times longer than the fastest. This could mean that an intermediate result is being cached.\n",
      "100000 loops, best of 3: 2.48 µs per loop\n",
      "The slowest run took 4.70 times longer than the fastest. This could mean that an intermediate result is being cached.\n",
      "100000 loops, best of 3: 2.5 µs per loop\n",
      "The slowest run took 4.66 times longer than the fastest. This could mean that an intermediate result is being cached.\n",
      "100000 loops, best of 3: 2.45 µs per loop\n",
      "The slowest run took 5.06 times longer than the fastest. This could mean that an intermediate result is being cached.\n",
      "100000 loops, best of 3: 2.45 µs per loop\n"
     ]
    }
   ],
   "source": [
    "# Dots matter (marginally)\n",
    "for choice in ['Bad', 'Better']:   \n",
    "    if choice is 'Bad':\n",
    "        print('Bad')\n",
    "        newlist = []\n",
    "        for val in vals:\n",
    "            %timeit newlist.append(np.cumsum(val))\n",
    "    else:\n",
    "        print('\\nBetter')\n",
    "        newlist = []\n",
    "        cumsum = np.cumsum\n",
    "        append = newlist.append\n",
    "        for val in vals:\n",
    "            %timeit append(cumsum(val))"
   ]
  },
  {
   "cell_type": "markdown",
   "metadata": {},
   "source": [
    "## Links\n",
    "[4 Performance Optimization Tips For Faster Python Code](http://blog.hackerearth.com/4-Performance-Optimization-Tips-Faster-Python-Code)  \n",
    "[PythonSpeed Performance Tips](https://wiki.python.org/moin/PythonSpeed/PerformanceTips)  \n",
    "[6 Python Performance Tips](https://dzone.com/articles/6-python-performance-tips)"
   ]
  }
 ],
 "metadata": {
  "kernelspec": {
   "display_name": "py35",
   "language": "python",
   "name": "py35"
  },
  "language_info": {
   "codemirror_mode": {
    "name": "ipython",
    "version": 3
   },
   "file_extension": ".py",
   "mimetype": "text/x-python",
   "name": "python",
   "nbconvert_exporter": "python",
   "pygments_lexer": "ipython3",
   "version": "3.5.3"
  }
 },
 "nbformat": 4,
 "nbformat_minor": 2
}
