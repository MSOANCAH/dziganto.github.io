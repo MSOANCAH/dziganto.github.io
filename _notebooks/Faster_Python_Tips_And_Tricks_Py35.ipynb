{
 "cells": [
  {
   "cell_type": "markdown",
   "metadata": {},
   "source": [
    "---\n",
    "**This notebook uses the Python 3.5 kernel.**  \n",
    "\n",
    "---"
   ]
  },
  {
   "cell_type": "markdown",
   "metadata": {},
   "source": [
    "# Setup"
   ]
  },
  {
   "cell_type": "code",
   "execution_count": 1,
   "metadata": {
    "collapsed": true
   },
   "outputs": [],
   "source": [
    "%matplotlib inline\n",
    "import timeit\n",
    "import numpy as np\n",
    "import matplotlib.pyplot as plt\n",
    "import seaborn as sns"
   ]
  },
  {
   "cell_type": "code",
   "execution_count": 2,
   "metadata": {
    "collapsed": false
   },
   "outputs": [
    {
     "name": "stdout",
     "output_type": "stream",
     "text": [
      "NumPy   1.12.1\n",
      "Seaborn 0.7.1\n"
     ]
    }
   ],
   "source": [
    "print(\"NumPy   %s\" % np.__version__)\n",
    "print(\"Seaborn %s\" % sns.__version__)"
   ]
  },
  {
   "cell_type": "code",
   "execution_count": 3,
   "metadata": {
    "collapsed": false
   },
   "outputs": [
    {
     "data": {
      "text/plain": [
       "[0.28603467100003854,\n",
       " 0.26108786800000416,\n",
       " 0.30416715900003055,\n",
       " 0.33752889199996616,\n",
       " 0.3695321290000493,\n",
       " 0.39469377799997574]"
      ]
     },
     "execution_count": 3,
     "metadata": {},
     "output_type": "execute_result"
    }
   ],
   "source": [
    "# Set values to expand lists\n",
    "vals = list(np.geomspace(10, 1000000, num=6, dtype='int'))\n",
    "\n",
    "# timeit example\n",
    "[timeit.timeit('range(%d)' % num) for num in vals]"
   ]
  },
  {
   "cell_type": "markdown",
   "metadata": {},
   "source": [
    "---"
   ]
  },
  {
   "cell_type": "markdown",
   "metadata": {},
   "source": [
    "# Plot Functions"
   ]
  },
  {
   "cell_type": "code",
   "execution_count": 4,
   "metadata": {
    "collapsed": true
   },
   "outputs": [],
   "source": [
    "def my_plot1(vals, times1, times2, time1_name='time 1', time2_name='time 2', \n",
    "             title=\"\", ylabel=\"\", xlabel=\"\"):\n",
    "    '''\n",
    "    Function printing barplot of times with legend.\n",
    "    '''\n",
    "    plt.plot(np.log10(vals), times1);\n",
    "    plt.plot(np.log10(vals), times2);\n",
    "    plt.title(title);\n",
    "    plt.xlabel(xlabel);\n",
    "    plt.ylabel(ylabel);\n",
    "    plt.xticks(range(1,6));\n",
    "    plt.legend([time1_name, time2_name])"
   ]
  },
  {
   "cell_type": "code",
   "execution_count": 5,
   "metadata": {
    "collapsed": true
   },
   "outputs": [],
   "source": [
    "def my_plot2(times1, times2, time1_name='time 1', time2_name='time 2', \n",
    "             title=\"\", ylabel=\"\", xlabel=\"\"):\n",
    "    '''\n",
    "    Same as my_plot1 but log(x-axis) and log(y_axis).\n",
    "    '''\n",
    "    # Setup\n",
    "    fig = plt.figure()\n",
    "    ax = fig.add_subplot(111)\n",
    "    ind = np.arange(6)                \n",
    "    width = 0.35\n",
    "    # Plots\n",
    "    bar1 = ax.bar(ind, times1, width, color='darkblue', log=True)\n",
    "    bar2 = ax.bar(ind+width, times2, width, color='darkgreen', log=True)\n",
    "    ax.legend( (bar1[0], bar2[0]), (time1_name, time2_name) );\n",
    "    plt.title(title)\n",
    "    plt.xlabel(xlabel)\n",
    "    plt.ylabel(ylabel)"
   ]
  },
  {
   "cell_type": "markdown",
   "metadata": {},
   "source": [
    "---"
   ]
  },
  {
   "cell_type": "markdown",
   "metadata": {},
   "source": [
    "# Looping Over A Collection"
   ]
  },
  {
   "cell_type": "code",
   "execution_count": 6,
   "metadata": {
    "collapsed": false
   },
   "outputs": [
    {
     "name": "stdout",
     "output_type": "stream",
     "text": [
      "Bad\n",
      "100000 loops, best of 3: 4.07 µs per loop\n",
      "10000 loops, best of 3: 26.7 µs per loop\n",
      "1000 loops, best of 3: 274 µs per loop\n",
      "100 loops, best of 3: 2.97 ms per loop\n",
      "10 loops, best of 3: 30.3 ms per loop\n",
      "1 loop, best of 3: 307 ms per loop\n",
      "\n",
      "Better\n",
      "100000 loops, best of 3: 2.33 µs per loop\n",
      "100000 loops, best of 3: 13.6 µs per loop\n",
      "10000 loops, best of 3: 106 µs per loop\n",
      "1000 loops, best of 3: 1.2 ms per loop\n",
      "100 loops, best of 3: 11.9 ms per loop\n",
      "10 loops, best of 3: 122 ms per loop\n"
     ]
    }
   ],
   "source": [
    "# Looping over a collection\n",
    "for choice in ['Bad', 'Better']:   \n",
    "    if choice is 'Bad':\n",
    "        print('Bad')\n",
    "        for val in vals:\n",
    "            colors = ['red', 'green', 'blue', 'yellow']*val\n",
    "            %timeit [colors[i] for i in range(len(colors))]        \n",
    "    else:\n",
    "        print('\\nBetter')\n",
    "        for val in vals:\n",
    "            colors = ['red', 'green', 'blue', 'yellow']*val\n",
    "            %timeit [color for color in colors]"
   ]
  },
  {
   "cell_type": "code",
   "execution_count": 7,
   "metadata": {
    "collapsed": true
   },
   "outputs": [],
   "source": [
    "def slow_collection():\n",
    "    out = [timeit.timeit(\"[colors[i] for i in range(len(colors))]\",\n",
    "                         \"colors = ('red', 'green', 'blue', 'yellow')*%d\" % val, number=10) for val in vals]\n",
    "    return [i*10e4 for i in out] # for ms\n",
    "def fast_collection():\n",
    "    out = [timeit.timeit(\"[color for color in colors]\",\n",
    "                         \"colors = ('red', 'green', 'blue', 'yellow')*%d\" % val, number=10) for val in vals]\n",
    "    return [i*10e4 for i in out] # for ms"
   ]
  },
  {
   "cell_type": "code",
   "execution_count": 8,
   "metadata": {
    "collapsed": true
   },
   "outputs": [],
   "source": [
    "sc = slow_collection()\n",
    "fc = fast_collection()"
   ]
  },
  {
   "cell_type": "code",
   "execution_count": 9,
   "metadata": {
    "collapsed": false
   },
   "outputs": [
    {
     "data": {
      "image/png": "[encoded data removed]",
      "text/plain": [
       "<matplotlib.figure.Figure at 0x114289ba8>"
      ]
     },
     "metadata": {},
     "output_type": "display_data"
    }
   ],
   "source": [
    "my_plot1(vals, sc, fc, \n",
    "         title=\"Looping Over A Collection\", \n",
    "         xlabel=\"log10(vals)\", \n",
    "         ylabel=\"milliseconds\")"
   ]
  },
  {
   "cell_type": "code",
   "execution_count": 10,
   "metadata": {
    "collapsed": false
   },
   "outputs": [
    {
     "data": {
      "image/png": "[encoded data removed]",
      "text/plain": [
       "<matplotlib.figure.Figure at 0x1142fe208>"
      ]
     },
     "metadata": {},
     "output_type": "display_data"
    }
   ],
   "source": [
    "my_plot1(vals, np.log10(sc), np.log10(fc), \n",
    "        title=\"Looping Over A Collection\", \n",
    "        xlabel=\"log10(vals)\", \n",
    "        ylabel=\"log10(milliseconds)\")"
   ]
  },
  {
   "cell_type": "code",
   "execution_count": 11,
   "metadata": {
    "collapsed": false
   },
   "outputs": [
    {
     "data": {
      "image/png": "[encoded data removed]",
      "text/plain": [
       "<matplotlib.figure.Figure at 0x11b7a1e80>"
      ]
     },
     "metadata": {},
     "output_type": "display_data"
    }
   ],
   "source": [
    "my_plot2(sc, fc, time1_name='index', time2_name='pythonic',\n",
    "         title=\"Looping Over A Collection in Py35\", \n",
    "         xlabel='log(vals)', \n",
    "         ylabel=\"log(milliseconds)\")\n",
    "#plt.savefig('/Users/davidziganto/Desktop/loopcollectionpy35.png')"
   ]
  },
  {
   "cell_type": "markdown",
   "metadata": {},
   "source": [
    "---"
   ]
  },
  {
   "cell_type": "markdown",
   "metadata": {},
   "source": [
    "# Sorting Lists"
   ]
  },
  {
   "cell_type": "code",
   "execution_count": 12,
   "metadata": {
    "collapsed": false
   },
   "outputs": [
    {
     "name": "stdout",
     "output_type": "stream",
     "text": [
      "range\n",
      "100000 loops, best of 3: 3.95 µs per loop\n",
      "10000 loops, best of 3: 26.1 µs per loop\n",
      "1000 loops, best of 3: 254 µs per loop\n",
      "100 loops, best of 3: 2.85 ms per loop\n",
      "10 loops, best of 3: 27.5 ms per loop\n",
      "1 loop, best of 3: 272 ms per loop\n",
      "\n",
      "reversed\n",
      "100000 loops, best of 3: 2.44 µs per loop\n",
      "100000 loops, best of 3: 14 µs per loop\n",
      "10000 loops, best of 3: 111 µs per loop\n",
      "1000 loops, best of 3: 1.21 ms per loop\n",
      "100 loops, best of 3: 12.2 ms per loop\n",
      "10 loops, best of 3: 126 ms per loop\n"
     ]
    }
   ],
   "source": [
    "# Sorting lists\n",
    "for choice in ['range', 'reversed']:   \n",
    "    if choice is 'range':\n",
    "        print('range')\n",
    "        for val in vals:\n",
    "            colors = ['red', 'green', 'blue', 'yellow']*val\n",
    "            %timeit [colors[i] for i in range(len(colors)-1, -1, -1)]     \n",
    "    else:\n",
    "        print('\\nreversed')\n",
    "        for val in vals:\n",
    "            colors = ['red', 'green', 'blue', 'yellow']*val\n",
    "            %timeit [color for color in reversed(colors)]"
   ]
  },
  {
   "cell_type": "code",
   "execution_count": 13,
   "metadata": {
    "collapsed": true
   },
   "outputs": [],
   "source": [
    "def slow_sort():\n",
    "    out = [timeit.timeit(\"[colors[i] for i in range(len(colors)-1, -1, -1)]\",\n",
    "                         \"colors = ('red', 'green', 'blue', 'yellow')*%d\" % val, number=10) for val in vals]\n",
    "    return [i*10e4 for i in out] # for ms\n",
    "def fast_sort():\n",
    "    out = [timeit.timeit(\"[color for color in reversed(colors)]\",\n",
    "                         \"colors = ('red', 'green', 'blue', 'yellow')*%d\" % val, number=10) for val in vals]\n",
    "    return [i*10e4 for i in out] # for ms"
   ]
  },
  {
   "cell_type": "code",
   "execution_count": 14,
   "metadata": {
    "collapsed": true
   },
   "outputs": [],
   "source": [
    "ss = slow_sort()\n",
    "fs = fast_sort()"
   ]
  },
  {
   "cell_type": "code",
   "execution_count": 15,
   "metadata": {
    "collapsed": false
   },
   "outputs": [
    {
     "data": {
      "image/png": "[encoded data removed]",
      "text/plain": [
       "<matplotlib.figure.Figure at 0x11bdbc5f8>"
      ]
     },
     "metadata": {},
     "output_type": "display_data"
    }
   ],
   "source": [
    "my_plot2(ss, fs, time1_name='xrange', time2_name='reversed',\n",
    "         title=\"Reversing A List in Py35\", \n",
    "         xlabel=\"log10(vals)\", \n",
    "         ylabel=\"log10(milliseconds)\")\n",
    "#plt.savefig('/Users/davidziganto/Desktop/sortinglistpy35.png')"
   ]
  },
  {
   "cell_type": "markdown",
   "metadata": {},
   "source": [
    "---"
   ]
  },
  {
   "cell_type": "markdown",
   "metadata": {},
   "source": [
    "# Looping Over A Collection & Indices"
   ]
  },
  {
   "cell_type": "code",
   "execution_count": 16,
   "metadata": {
    "collapsed": false,
    "scrolled": true
   },
   "outputs": [
    {
     "name": "stdout",
     "output_type": "stream",
     "text": [
      "range\n",
      "100000 loops, best of 3: 5.05 µs per loop\n",
      "10000 loops, best of 3: 39.6 µs per loop\n",
      "1000 loops, best of 3: 427 µs per loop\n",
      "100 loops, best of 3: 5.08 ms per loop\n",
      "10 loops, best of 3: 67.9 ms per loop\n",
      "1 loop, best of 3: 665 ms per loop\n",
      "\n",
      "enumerate\n",
      "100000 loops, best of 3: 5.56 µs per loop\n",
      "10000 loops, best of 3: 45.8 µs per loop\n",
      "1000 loops, best of 3: 507 µs per loop\n",
      "100 loops, best of 3: 5.62 ms per loop\n",
      "10 loops, best of 3: 72.2 ms per loop\n",
      "1 loop, best of 3: 760 ms per loop\n"
     ]
    }
   ],
   "source": [
    "# Looping over a collection and indices\n",
    "for choice in ['range', 'enumerate']:   \n",
    "    if choice is 'range':\n",
    "        print('range')\n",
    "        for val in vals:\n",
    "            colors = ['red', 'green', 'blue', 'yellow']*val\n",
    "            %timeit [(i, colors[i]) for i in range(len(colors))]\n",
    "        \n",
    "    else:\n",
    "        print('\\nenumerate')\n",
    "        for val in vals:\n",
    "            colors = ['red', 'green', 'blue', 'yellow']*val\n",
    "            %timeit [(i, colors[i]) for i, color in enumerate(colors)]"
   ]
  },
  {
   "cell_type": "code",
   "execution_count": 17,
   "metadata": {
    "collapsed": true
   },
   "outputs": [],
   "source": [
    "def slow_collection_indices():\n",
    "    out = [timeit.timeit(\"[(i, colors[i]) for i in range(len(colors))]\",\n",
    "                         \"colors = ('red', 'green', 'blue', 'yellow')*%d\" % val, number=10) for val in vals]\n",
    "    return [i*10e4 for i in out] # for ms\n",
    "def fast_collection_indices():\n",
    "    out = [timeit.timeit(\"[(i, colors[i]) for i, color in enumerate(colors)]\",\n",
    "                         \"colors = ('red', 'green', 'blue', 'yellow')*%d\" % val, number=10) for val in vals]\n",
    "    return [i*10e4 for i in out] # for ms"
   ]
  },
  {
   "cell_type": "code",
   "execution_count": 18,
   "metadata": {
    "collapsed": false
   },
   "outputs": [],
   "source": [
    "sci = slow_collection_indices()\n",
    "fci = fast_collection_indices()"
   ]
  },
  {
   "cell_type": "code",
   "execution_count": 19,
   "metadata": {
    "collapsed": false
   },
   "outputs": [
    {
     "data": {
      "image/png": "[encoded data removed]",
      "text/plain": [
       "<matplotlib.figure.Figure at 0x11b7c37f0>"
      ]
     },
     "metadata": {},
     "output_type": "display_data"
    }
   ],
   "source": [
    "my_plot2(sci, fci, time1_name='xrange', time2_name='enumerate',\n",
    "         title=\"Looping Over A Collection & Indices in Py35\", \n",
    "         xlabel=\"log10(vals)\", \n",
    "         ylabel=\"log10(milliseconds)\")\n",
    "#plt.savefig('/Users/davidziganto/Desktop/loopcollectionindicespy35.png')"
   ]
  },
  {
   "cell_type": "markdown",
   "metadata": {},
   "source": [
    "---"
   ]
  },
  {
   "cell_type": "markdown",
   "metadata": {},
   "source": [
    "# Looping Over Two Collections"
   ]
  },
  {
   "cell_type": "code",
   "execution_count": 20,
   "metadata": {
    "collapsed": false
   },
   "outputs": [
    {
     "name": "stdout",
     "output_type": "stream",
     "text": [
      "range\n",
      "100000 loops, best of 3: 6.91 µs per loop\n",
      "10000 loops, best of 3: 59.7 µs per loop\n",
      "1000 loops, best of 3: 621 µs per loop\n",
      "100 loops, best of 3: 7.11 ms per loop\n",
      "10 loops, best of 3: 77.8 ms per loop\n",
      "1 loop, best of 3: 801 ms per loop\n",
      "\n",
      "zip\n",
      "100000 loops, best of 3: 4.37 µs per loop\n",
      "10000 loops, best of 3: 31.3 µs per loop\n",
      "1000 loops, best of 3: 319 µs per loop\n",
      "100 loops, best of 3: 3.77 ms per loop\n",
      "10 loops, best of 3: 46.9 ms per loop\n",
      "1 loop, best of 3: 518 ms per loop\n"
     ]
    }
   ],
   "source": [
    "# Loop over two collections\n",
    "for choice in ['range', 'zip']:   \n",
    "    if choice is 'range':\n",
    "        print('range')\n",
    "        for val in vals:\n",
    "            colors = ['red', 'green', 'blue', 'yellow']*val\n",
    "            names = list('abcd')*val\n",
    "            %timeit [(names[i], colors[i]) for i in range(min(len(names), len(colors)))]\n",
    "    else:\n",
    "        print('\\nzip')\n",
    "        for val in vals:\n",
    "            colors = ['red', 'green', 'blue', 'yellow']*val\n",
    "            names = list('abcd')*val\n",
    "            %timeit [(name, color) for name, color in zip(names, colors)]"
   ]
  },
  {
   "cell_type": "code",
   "execution_count": 29,
   "metadata": {
    "collapsed": false
   },
   "outputs": [
    {
     "data": {
      "image/png": "[encoded data removed]",
      "text/plain": [
       "<matplotlib.figure.Figure at 0x11b903e80>"
      ]
     },
     "metadata": {},
     "output_type": "display_data"
    }
   ],
   "source": [
    "my_plot2([6.91e-3, 59.7e-3, 621e-3, 7.11, 77.8, 801], [4.37e-3, 31.3e-3, 319e-3, 3.77, 46.9, 518], \n",
    "         time1_name='xrange', time2_name='zip',\n",
    "         title=\"Looping Over Two Collections in Py35\", \n",
    "         xlabel=\"log10(vals)\", \n",
    "         ylabel=\"log10(milliseconds)\")\n",
    "#plt.savefig('/Users/davidziganto/Desktop/loop2collectionspy35.png')"
   ]
  },
  {
   "cell_type": "markdown",
   "metadata": {},
   "source": [
    "---"
   ]
  },
  {
   "cell_type": "markdown",
   "metadata": {},
   "source": [
    "# Appending Strings"
   ]
  },
  {
   "cell_type": "code",
   "execution_count": 22,
   "metadata": {
    "collapsed": false
   },
   "outputs": [
    {
     "name": "stdout",
     "output_type": "stream",
     "text": [
      "+=\n",
      "CPU times: user 83 µs, sys: 1 µs, total: 84 µs\n",
      "Wall time: 88.9 µs\n",
      "CPU times: user 484 µs, sys: 0 ns, total: 484 µs\n",
      "Wall time: 487 µs\n",
      "CPU times: user 5.31 ms, sys: 368 µs, total: 5.68 ms\n",
      "Wall time: 5.52 ms\n",
      "CPU times: user 54.7 ms, sys: 1.5 ms, total: 56.2 ms\n",
      "Wall time: 56.1 ms\n",
      "CPU times: user 581 ms, sys: 7.08 ms, total: 588 ms\n",
      "Wall time: 593 ms\n",
      "CPU times: user 5.79 s, sys: 36 ms, total: 5.83 s\n",
      "Wall time: 5.85 s\n",
      "\n",
      ".join\n",
      "CPU times: user 28 µs, sys: 1.45 ms, total: 1.48 ms\n",
      "Wall time: 1.49 ms\n",
      "CPU times: user 99 µs, sys: 1e+03 ns, total: 100 µs\n",
      "Wall time: 102 µs\n",
      "CPU times: user 878 µs, sys: 3 µs, total: 881 µs\n",
      "Wall time: 884 µs\n",
      "CPU times: user 10.2 ms, sys: 913 µs, total: 11.1 ms\n",
      "Wall time: 11.2 ms\n",
      "CPU times: user 94.3 ms, sys: 15.3 ms, total: 110 ms\n",
      "Wall time: 111 ms\n",
      "CPU times: user 931 ms, sys: 120 ms, total: 1.05 s\n",
      "Wall time: 1.06 s\n"
     ]
    }
   ],
   "source": [
    "# Appending Strings\n",
    "my_string = \"\"\n",
    "for choice in ['Bad', 'Better']:   \n",
    "    if choice is 'Bad':\n",
    "        print('+=')\n",
    "        for val in vals:\n",
    "            mylist = list('abcdefghijklmnopqrstuvwxyz')*val\n",
    "            %time for item in mylist: my_string += item\n",
    "    else:\n",
    "        print('\\n.join')\n",
    "        for val in vals:\n",
    "            mylist = list('abcdefghijklmnopqrstuvwxyz')*val\n",
    "            %time my_string = \"\".join([item for item in mylist])"
   ]
  },
  {
   "cell_type": "markdown",
   "metadata": {},
   "source": [
    "---"
   ]
  },
  {
   "cell_type": "markdown",
   "metadata": {},
   "source": [
    "# Using Standard Library"
   ]
  },
  {
   "cell_type": "code",
   "execution_count": 23,
   "metadata": {
    "collapsed": false
   },
   "outputs": [
    {
     "name": "stdout",
     "output_type": "stream",
     "text": [
      "listexp\n",
      "10000 loops, best of 3: 59 µs per loop\n",
      "1000 loops, best of 3: 602 µs per loop\n",
      "100 loops, best of 3: 5.99 ms per loop\n",
      "10 loops, best of 3: 58.7 ms per loop\n",
      "1 loop, best of 3: 602 ms per loop\n",
      "1 loop, best of 3: 5.98 s per loop\n",
      "\n",
      "map\n",
      "The slowest run took 5.08 times longer than the fastest. This could mean that an intermediate result is being cached.\n",
      "1000000 loops, best of 3: 511 ns per loop\n",
      "1000000 loops, best of 3: 524 ns per loop\n",
      "1000000 loops, best of 3: 587 ns per loop\n",
      "The slowest run took 4.31 times longer than the fastest. This could mean that an intermediate result is being cached.\n",
      "1000000 loops, best of 3: 572 ns per loop\n",
      "1000000 loops, best of 3: 631 ns per loop\n",
      "The slowest run took 10.17 times longer than the fastest. This could mean that an intermediate result is being cached.\n",
      "1000000 loops, best of 3: 611 ns per loop\n"
     ]
    }
   ],
   "source": [
    "# Standard Library\n",
    "\n",
    "for choice in ['listexp', 'map']:   \n",
    "    if choice is 'listexp':\n",
    "        print('listexp')\n",
    "        for val in vals:\n",
    "            %timeit [np.cumsum(item) for item in range(val)]\n",
    "    else:\n",
    "        print('\\nmap')\n",
    "        for val in vals:\n",
    "            %timeit newlist = map(np.cumsum, range(val))"
   ]
  },
  {
   "cell_type": "code",
   "execution_count": 30,
   "metadata": {
    "collapsed": false
   },
   "outputs": [
    {
     "data": {
      "image/png": "[encoded data removed]",
      "text/plain": [
       "<matplotlib.figure.Figure at 0x11b7c5a20>"
      ]
     },
     "metadata": {},
     "output_type": "display_data"
    }
   ],
   "source": [
    "my_plot2([59e-3, 602e-3, 5.99, 58.7, 602, 5.98e3], [511e-6, 524e-6, 587e-6, 572e-6, 631e-6, 611e-6], \n",
    "         time1_name='listexp', time2_name='map',\n",
    "         title=\"Using Standard Library in Py35\", \n",
    "         xlabel=\"log10(vals)\", \n",
    "         ylabel=\"log10(milliseconds)\")\n",
    "#plt.savefig('/Users/davidziganto/Desktop/stdlibrarypy35.png')"
   ]
  },
  {
   "cell_type": "markdown",
   "metadata": {},
   "source": [
    "---"
   ]
  },
  {
   "cell_type": "markdown",
   "metadata": {},
   "source": [
    "# Listexp vs Genexp"
   ]
  },
  {
   "cell_type": "code",
   "execution_count": 25,
   "metadata": {
    "collapsed": false
   },
   "outputs": [
    {
     "name": "stdout",
     "output_type": "stream",
     "text": [
      "listexp\n",
      "10000 loops, best of 3: 64.6 µs per loop\n",
      "1000 loops, best of 3: 601 µs per loop\n",
      "100 loops, best of 3: 6.04 ms per loop\n",
      "10 loops, best of 3: 70.8 ms per loop\n",
      "1 loop, best of 3: 751 ms per loop\n",
      "1 loop, best of 3: 6.3 s per loop\n",
      "\n",
      "genexp\n",
      "The slowest run took 5.25 times longer than the fastest. This could mean that an intermediate result is being cached.\n",
      "1000000 loops, best of 3: 673 ns per loop\n",
      "The slowest run took 4.03 times longer than the fastest. This could mean that an intermediate result is being cached.\n",
      "1000000 loops, best of 3: 684 ns per loop\n",
      "1000000 loops, best of 3: 724 ns per loop\n",
      "The slowest run took 7.40 times longer than the fastest. This could mean that an intermediate result is being cached.\n",
      "1000000 loops, best of 3: 928 ns per loop\n",
      "1000000 loops, best of 3: 721 ns per loop\n",
      "1000000 loops, best of 3: 710 ns per loop\n"
     ]
    }
   ],
   "source": [
    "# listexp vs genexp\n",
    "\n",
    "for choice in ['listexp', 'genexp']:   \n",
    "    if choice is 'listexp':\n",
    "        print('listexp')\n",
    "        for val in vals:\n",
    "            %timeit [np.cumsum(item) for item in range(val)] # list expression\n",
    "    else:\n",
    "        print('\\ngenexp')\n",
    "        for val in vals:\n",
    "            %timeit (np.cumsum(item) for item in range(val)) # generator expression"
   ]
  },
  {
   "cell_type": "code",
   "execution_count": 31,
   "metadata": {
    "collapsed": false
   },
   "outputs": [
    {
     "data": {
      "image/png": "[encoded data removed]",
      "text/plain": [
       "<matplotlib.figure.Figure at 0x12b5f2048>"
      ]
     },
     "metadata": {},
     "output_type": "display_data"
    }
   ],
   "source": [
    "my_plot2([64.6e-3, 601e-3, 6.04, 70.8, 751, 6.3e3], [673e-6, 684e-6, 724e-6, 928e-6, 721e-6, 710e-6], \n",
    "         time1_name='listexp', time2_name='genexp',\n",
    "         title=\"ListExp vs GenExp in Py35\", \n",
    "         xlabel=\"log10(vals)\", \n",
    "         ylabel=\"log10(milliseconds)\")\n",
    "#plt.savefig('/Users/davidziganto/Desktop/listgenexppy35.png')"
   ]
  },
  {
   "cell_type": "markdown",
   "metadata": {},
   "source": [
    "---"
   ]
  },
  {
   "cell_type": "markdown",
   "metadata": {},
   "source": [
    "# Dots"
   ]
  },
  {
   "cell_type": "code",
   "execution_count": 27,
   "metadata": {
    "collapsed": false
   },
   "outputs": [
    {
     "name": "stdout",
     "output_type": "stream",
     "text": [
      "Bad\n",
      "The slowest run took 10.36 times longer than the fastest. This could mean that an intermediate result is being cached.\n",
      "100000 loops, best of 3: 3.33 µs per loop\n",
      "The slowest run took 13.09 times longer than the fastest. This could mean that an intermediate result is being cached.\n",
      "100000 loops, best of 3: 2.84 µs per loop\n",
      "The slowest run took 8.55 times longer than the fastest. This could mean that an intermediate result is being cached.\n",
      "100000 loops, best of 3: 3.03 µs per loop\n",
      "The slowest run took 23.25 times longer than the fastest. This could mean that an intermediate result is being cached.\n",
      "100000 loops, best of 3: 3.07 µs per loop\n",
      "The slowest run took 11.19 times longer than the fastest. This could mean that an intermediate result is being cached.\n",
      "100000 loops, best of 3: 2.98 µs per loop\n",
      "The slowest run took 4.96 times longer than the fastest. This could mean that an intermediate result is being cached.\n",
      "100000 loops, best of 3: 2.9 µs per loop\n",
      "\n",
      "Better\n",
      "The slowest run took 8.55 times longer than the fastest. This could mean that an intermediate result is being cached.\n",
      "100000 loops, best of 3: 2.56 µs per loop\n",
      "The slowest run took 4.54 times longer than the fastest. This could mean that an intermediate result is being cached.\n",
      "100000 loops, best of 3: 2.67 µs per loop\n",
      "The slowest run took 4.27 times longer than the fastest. This could mean that an intermediate result is being cached.\n",
      "100000 loops, best of 3: 2.61 µs per loop\n",
      "The slowest run took 5.50 times longer than the fastest. This could mean that an intermediate result is being cached.\n",
      "100000 loops, best of 3: 2.95 µs per loop\n",
      "The slowest run took 8.70 times longer than the fastest. This could mean that an intermediate result is being cached.\n",
      "100000 loops, best of 3: 2.57 µs per loop\n",
      "100000 loops, best of 3: 2.93 µs per loop\n"
     ]
    }
   ],
   "source": [
    "# Dots matter (marginally)\n",
    "for choice in ['Bad', 'Better']:   \n",
    "    if choice is 'Bad':\n",
    "        print('Bad')\n",
    "        newlist = []\n",
    "        for val in vals:\n",
    "            %timeit newlist.append(np.cumsum(val))\n",
    "    else:\n",
    "        print('\\nBetter')\n",
    "        newlist = []\n",
    "        cumsum = np.cumsum\n",
    "        append = newlist.append\n",
    "        for val in vals:\n",
    "            %timeit append(cumsum(val))"
   ]
  },
  {
   "cell_type": "code",
   "execution_count": 32,
   "metadata": {
    "collapsed": false
   },
   "outputs": [
    {
     "data": {
      "image/png": "[encoded data removed]",
      "text/plain": [
       "<matplotlib.figure.Figure at 0x11bdd0278>"
      ]
     },
     "metadata": {},
     "output_type": "display_data"
    }
   ],
   "source": [
    "my_plot2([3.33, 2.84, 3.03, 3.07, 2.98, 2.9], [2.56, 2.67, 2.61, 2.95, 2.57, 2.93], \n",
    "         time1_name='dots', time2_name='no dots',\n",
    "         title=\"Dots in Py35\",\n",
    "         xlabel=\"log10(vals)\",\n",
    "         ylabel=\"log10(microseconds)\")\n",
    "#plt.savefig('/Users/davidziganto/Desktop/dotspy35.png')"
   ]
  },
  {
   "cell_type": "markdown",
   "metadata": {},
   "source": [
    "## Links\n",
    "[4 Performance Optimization Tips For Faster Python Code](http://blog.hackerearth.com/4-Performance-Optimization-Tips-Faster-Python-Code)  \n",
    "[PythonSpeed Performance Tips](https://wiki.python.org/moin/PythonSpeed/PerformanceTips)  \n",
    "[6 Python Performance Tips](https://dzone.com/articles/6-python-performance-tips)"
   ]
  }
 ],
 "metadata": {
  "kernelspec": {
   "display_name": "py35",
   "language": "python",
   "name": "py35"
  },
  "language_info": {
   "codemirror_mode": {
    "name": "ipython",
    "version": 3
   },
   "file_extension": ".py",
   "mimetype": "text/x-python",
   "name": "python",
   "nbconvert_exporter": "python",
   "pygments_lexer": "ipython3",
   "version": "3.5.3"
  }
 },
 "nbformat": 4,
 "nbformat_minor": 2
}
